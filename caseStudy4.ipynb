{
 "cells": [
  {
   "cell_type": "markdown",
   "metadata": {},
   "source": [
    "# CASE STUDY 1 : DIABETES"
   ]
  },
  {
   "cell_type": "code",
   "execution_count": 170,
   "metadata": {},
   "outputs": [],
   "source": [
    "import numpy as np\n",
    "import pandas as pd \n",
    "import seaborn as sns\n",
    "import matplotlib.pyplot as plt\n",
    "import plotly.express as px\n",
    "from matplotlib import colors\n",
    "import plotly.graph_objs as go\n",
    "from plotly.offline import iplot\n",
    "from plotly.subplots import make_subplots\n",
    "from scipy import stats\n",
    "from scipy.stats import norm, skew\n",
    "from sklearn.preprocessing import LabelEncoder, OneHotEncoder\n",
    "from sklearn.preprocessing import StandardScaler\n",
    "from sklearn.preprocessing import MinMaxScaler\n",
    "from sklearn.preprocessing import RobustScaler \n",
    "from datetime import date\n",
    "from sklearn.neighbors import LocalOutlierFactor"
   ]
  },
  {
   "cell_type": "code",
   "execution_count": 171,
   "metadata": {},
   "outputs": [
    {
     "data": {
      "text/html": [
       "<div>\n",
       "<style scoped>\n",
       "    .dataframe tbody tr th:only-of-type {\n",
       "        vertical-align: middle;\n",
       "    }\n",
       "\n",
       "    .dataframe tbody tr th {\n",
       "        vertical-align: top;\n",
       "    }\n",
       "\n",
       "    .dataframe thead th {\n",
       "        text-align: right;\n",
       "    }\n",
       "</style>\n",
       "<table border=\"1\" class=\"dataframe\">\n",
       "  <thead>\n",
       "    <tr style=\"text-align: right;\">\n",
       "      <th></th>\n",
       "      <th>Pregnancies</th>\n",
       "      <th>Glucose</th>\n",
       "      <th>BloodPressure</th>\n",
       "      <th>SkinThickness</th>\n",
       "      <th>Insulin</th>\n",
       "      <th>BMI</th>\n",
       "      <th>DiabetesPedigreeFunction</th>\n",
       "      <th>Age</th>\n",
       "      <th>Outcome</th>\n",
       "    </tr>\n",
       "  </thead>\n",
       "  <tbody>\n",
       "    <tr>\n",
       "      <th>0</th>\n",
       "      <td>6</td>\n",
       "      <td>148</td>\n",
       "      <td>72</td>\n",
       "      <td>35</td>\n",
       "      <td>0</td>\n",
       "      <td>33.6</td>\n",
       "      <td>0.627</td>\n",
       "      <td>50</td>\n",
       "      <td>1</td>\n",
       "    </tr>\n",
       "    <tr>\n",
       "      <th>1</th>\n",
       "      <td>1</td>\n",
       "      <td>85</td>\n",
       "      <td>66</td>\n",
       "      <td>29</td>\n",
       "      <td>0</td>\n",
       "      <td>26.6</td>\n",
       "      <td>0.351</td>\n",
       "      <td>31</td>\n",
       "      <td>0</td>\n",
       "    </tr>\n",
       "    <tr>\n",
       "      <th>2</th>\n",
       "      <td>8</td>\n",
       "      <td>183</td>\n",
       "      <td>64</td>\n",
       "      <td>0</td>\n",
       "      <td>0</td>\n",
       "      <td>23.3</td>\n",
       "      <td>0.672</td>\n",
       "      <td>32</td>\n",
       "      <td>1</td>\n",
       "    </tr>\n",
       "    <tr>\n",
       "      <th>3</th>\n",
       "      <td>1</td>\n",
       "      <td>89</td>\n",
       "      <td>66</td>\n",
       "      <td>23</td>\n",
       "      <td>94</td>\n",
       "      <td>28.1</td>\n",
       "      <td>0.167</td>\n",
       "      <td>21</td>\n",
       "      <td>0</td>\n",
       "    </tr>\n",
       "    <tr>\n",
       "      <th>4</th>\n",
       "      <td>0</td>\n",
       "      <td>137</td>\n",
       "      <td>40</td>\n",
       "      <td>35</td>\n",
       "      <td>168</td>\n",
       "      <td>43.1</td>\n",
       "      <td>2.288</td>\n",
       "      <td>33</td>\n",
       "      <td>1</td>\n",
       "    </tr>\n",
       "  </tbody>\n",
       "</table>\n",
       "</div>"
      ],
      "text/plain": [
       "   Pregnancies  Glucose  BloodPressure  SkinThickness  Insulin   BMI  \\\n",
       "0            6      148             72             35        0  33.6   \n",
       "1            1       85             66             29        0  26.6   \n",
       "2            8      183             64              0        0  23.3   \n",
       "3            1       89             66             23       94  28.1   \n",
       "4            0      137             40             35      168  43.1   \n",
       "\n",
       "   DiabetesPedigreeFunction  Age  Outcome  \n",
       "0                     0.627   50        1  \n",
       "1                     0.351   31        0  \n",
       "2                     0.672   32        1  \n",
       "3                     0.167   21        0  \n",
       "4                     2.288   33        1  "
      ]
     },
     "execution_count": 171,
     "metadata": {},
     "output_type": "execute_result"
    }
   ],
   "source": [
    "data=pd.read_csv(\"datasets//diabetes.csv\")\n",
    "df=data.copy()\n",
    "df.head()"
   ]
  },
  {
   "cell_type": "markdown",
   "metadata": {},
   "source": [
    "### 1. DATA EXPLORATION:"
   ]
  },
  {
   "cell_type": "code",
   "execution_count": 172,
   "metadata": {},
   "outputs": [
    {
     "name": "stdout",
     "output_type": "stream",
     "text": [
      "##################### Shape #####################\n",
      "(768, 9)\n",
      "##################### Types #####################\n",
      "Pregnancies                   int64\n",
      "Glucose                       int64\n",
      "BloodPressure                 int64\n",
      "SkinThickness                 int64\n",
      "Insulin                       int64\n",
      "BMI                         float64\n",
      "DiabetesPedigreeFunction    float64\n",
      "Age                           int64\n",
      "Outcome                       int64\n",
      "dtype: object\n",
      "##################### Head #####################\n",
      "   Pregnancies  Glucose  BloodPressure  SkinThickness  Insulin   BMI  \\\n",
      "0            6      148             72             35        0  33.6   \n",
      "1            1       85             66             29        0  26.6   \n",
      "2            8      183             64              0        0  23.3   \n",
      "3            1       89             66             23       94  28.1   \n",
      "4            0      137             40             35      168  43.1   \n",
      "\n",
      "   DiabetesPedigreeFunction  Age  Outcome  \n",
      "0                     0.627   50        1  \n",
      "1                     0.351   31        0  \n",
      "2                     0.672   32        1  \n",
      "3                     0.167   21        0  \n",
      "4                     2.288   33        1  \n",
      "##################### Tail #####################\n",
      "     Pregnancies  Glucose  BloodPressure  SkinThickness  Insulin   BMI  \\\n",
      "763           10      101             76             48      180  32.9   \n",
      "764            2      122             70             27        0  36.8   \n",
      "765            5      121             72             23      112  26.2   \n",
      "766            1      126             60              0        0  30.1   \n",
      "767            1       93             70             31        0  30.4   \n",
      "\n",
      "     DiabetesPedigreeFunction  Age  Outcome  \n",
      "763                     0.171   63        0  \n",
      "764                     0.340   27        0  \n",
      "765                     0.245   30        0  \n",
      "766                     0.349   47        1  \n",
      "767                     0.315   23        0  \n",
      "##################### NA #####################\n",
      "Pregnancies                 0\n",
      "Glucose                     0\n",
      "BloodPressure               0\n",
      "SkinThickness               0\n",
      "Insulin                     0\n",
      "BMI                         0\n",
      "DiabetesPedigreeFunction    0\n",
      "Age                         0\n",
      "Outcome                     0\n",
      "dtype: int64\n",
      "##################### Describe #####################\n",
      "       Pregnancies     Glucose  BloodPressure  SkinThickness     Insulin  \\\n",
      "count   768.000000  768.000000     768.000000     768.000000  768.000000   \n",
      "mean      3.845052  120.894531      69.105469      20.536458   79.799479   \n",
      "std       3.369578   31.972618      19.355807      15.952218  115.244002   \n",
      "min       0.000000    0.000000       0.000000       0.000000    0.000000   \n",
      "25%       1.000000   99.000000      62.000000       0.000000    0.000000   \n",
      "50%       3.000000  117.000000      72.000000      23.000000   30.500000   \n",
      "75%       6.000000  140.250000      80.000000      32.000000  127.250000   \n",
      "max      17.000000  199.000000     122.000000      99.000000  846.000000   \n",
      "\n",
      "              BMI  DiabetesPedigreeFunction         Age     Outcome  \n",
      "count  768.000000                768.000000  768.000000  768.000000  \n",
      "mean    31.992578                  0.471876   33.240885    0.348958  \n",
      "std      7.884160                  0.331329   11.760232    0.476951  \n",
      "min      0.000000                  0.078000   21.000000    0.000000  \n",
      "25%     27.300000                  0.243750   24.000000    0.000000  \n",
      "50%     32.000000                  0.372500   29.000000    0.000000  \n",
      "75%     36.600000                  0.626250   41.000000    1.000000  \n",
      "max     67.100000                  2.420000   81.000000    1.000000  \n"
     ]
    }
   ],
   "source": [
    "def df_check(dataframe):\n",
    "    print(\"##################### Shape #####################\")\n",
    "    print(dataframe.shape)\n",
    "    print(\"##################### Types #####################\")\n",
    "    print(dataframe.dtypes)\n",
    "    print(\"##################### Head #####################\")\n",
    "    print(dataframe.head(5))\n",
    "    print(\"##################### Tail #####################\")\n",
    "    print(dataframe.tail(5))\n",
    "    print(\"##################### NA #####################\")\n",
    "    print(dataframe.isnull().sum())\n",
    "    print(\"##################### Describe #####################\")\n",
    "    print(dataframe.describe())\n",
    "    \n",
    "df_check(df)"
   ]
  },
  {
   "cell_type": "code",
   "execution_count": 173,
   "metadata": {},
   "outputs": [
    {
     "data": {
      "text/html": [
       "<div>\n",
       "<style scoped>\n",
       "    .dataframe tbody tr th:only-of-type {\n",
       "        vertical-align: middle;\n",
       "    }\n",
       "\n",
       "    .dataframe tbody tr th {\n",
       "        vertical-align: top;\n",
       "    }\n",
       "\n",
       "    .dataframe thead th {\n",
       "        text-align: right;\n",
       "    }\n",
       "</style>\n",
       "<table border=\"1\" class=\"dataframe\">\n",
       "  <thead>\n",
       "    <tr style=\"text-align: right;\">\n",
       "      <th></th>\n",
       "      <th>count</th>\n",
       "      <th>mean</th>\n",
       "      <th>std</th>\n",
       "      <th>min</th>\n",
       "      <th>25%</th>\n",
       "      <th>50%</th>\n",
       "      <th>75%</th>\n",
       "      <th>max</th>\n",
       "    </tr>\n",
       "  </thead>\n",
       "  <tbody>\n",
       "    <tr>\n",
       "      <th>Pregnancies</th>\n",
       "      <td>768.0</td>\n",
       "      <td>3.845052</td>\n",
       "      <td>3.369578</td>\n",
       "      <td>0.000</td>\n",
       "      <td>1.00000</td>\n",
       "      <td>3.0000</td>\n",
       "      <td>6.00000</td>\n",
       "      <td>17.00</td>\n",
       "    </tr>\n",
       "    <tr>\n",
       "      <th>Glucose</th>\n",
       "      <td>768.0</td>\n",
       "      <td>120.894531</td>\n",
       "      <td>31.972618</td>\n",
       "      <td>0.000</td>\n",
       "      <td>99.00000</td>\n",
       "      <td>117.0000</td>\n",
       "      <td>140.25000</td>\n",
       "      <td>199.00</td>\n",
       "    </tr>\n",
       "    <tr>\n",
       "      <th>BloodPressure</th>\n",
       "      <td>768.0</td>\n",
       "      <td>69.105469</td>\n",
       "      <td>19.355807</td>\n",
       "      <td>0.000</td>\n",
       "      <td>62.00000</td>\n",
       "      <td>72.0000</td>\n",
       "      <td>80.00000</td>\n",
       "      <td>122.00</td>\n",
       "    </tr>\n",
       "    <tr>\n",
       "      <th>SkinThickness</th>\n",
       "      <td>768.0</td>\n",
       "      <td>20.536458</td>\n",
       "      <td>15.952218</td>\n",
       "      <td>0.000</td>\n",
       "      <td>0.00000</td>\n",
       "      <td>23.0000</td>\n",
       "      <td>32.00000</td>\n",
       "      <td>99.00</td>\n",
       "    </tr>\n",
       "    <tr>\n",
       "      <th>Insulin</th>\n",
       "      <td>768.0</td>\n",
       "      <td>79.799479</td>\n",
       "      <td>115.244002</td>\n",
       "      <td>0.000</td>\n",
       "      <td>0.00000</td>\n",
       "      <td>30.5000</td>\n",
       "      <td>127.25000</td>\n",
       "      <td>846.00</td>\n",
       "    </tr>\n",
       "    <tr>\n",
       "      <th>BMI</th>\n",
       "      <td>768.0</td>\n",
       "      <td>31.992578</td>\n",
       "      <td>7.884160</td>\n",
       "      <td>0.000</td>\n",
       "      <td>27.30000</td>\n",
       "      <td>32.0000</td>\n",
       "      <td>36.60000</td>\n",
       "      <td>67.10</td>\n",
       "    </tr>\n",
       "    <tr>\n",
       "      <th>DiabetesPedigreeFunction</th>\n",
       "      <td>768.0</td>\n",
       "      <td>0.471876</td>\n",
       "      <td>0.331329</td>\n",
       "      <td>0.078</td>\n",
       "      <td>0.24375</td>\n",
       "      <td>0.3725</td>\n",
       "      <td>0.62625</td>\n",
       "      <td>2.42</td>\n",
       "    </tr>\n",
       "    <tr>\n",
       "      <th>Age</th>\n",
       "      <td>768.0</td>\n",
       "      <td>33.240885</td>\n",
       "      <td>11.760232</td>\n",
       "      <td>21.000</td>\n",
       "      <td>24.00000</td>\n",
       "      <td>29.0000</td>\n",
       "      <td>41.00000</td>\n",
       "      <td>81.00</td>\n",
       "    </tr>\n",
       "    <tr>\n",
       "      <th>Outcome</th>\n",
       "      <td>768.0</td>\n",
       "      <td>0.348958</td>\n",
       "      <td>0.476951</td>\n",
       "      <td>0.000</td>\n",
       "      <td>0.00000</td>\n",
       "      <td>0.0000</td>\n",
       "      <td>1.00000</td>\n",
       "      <td>1.00</td>\n",
       "    </tr>\n",
       "  </tbody>\n",
       "</table>\n",
       "</div>"
      ],
      "text/plain": [
       "                          count        mean         std     min       25%  \\\n",
       "Pregnancies               768.0    3.845052    3.369578   0.000   1.00000   \n",
       "Glucose                   768.0  120.894531   31.972618   0.000  99.00000   \n",
       "BloodPressure             768.0   69.105469   19.355807   0.000  62.00000   \n",
       "SkinThickness             768.0   20.536458   15.952218   0.000   0.00000   \n",
       "Insulin                   768.0   79.799479  115.244002   0.000   0.00000   \n",
       "BMI                       768.0   31.992578    7.884160   0.000  27.30000   \n",
       "DiabetesPedigreeFunction  768.0    0.471876    0.331329   0.078   0.24375   \n",
       "Age                       768.0   33.240885   11.760232  21.000  24.00000   \n",
       "Outcome                   768.0    0.348958    0.476951   0.000   0.00000   \n",
       "\n",
       "                               50%        75%     max  \n",
       "Pregnancies                 3.0000    6.00000   17.00  \n",
       "Glucose                   117.0000  140.25000  199.00  \n",
       "BloodPressure              72.0000   80.00000  122.00  \n",
       "SkinThickness              23.0000   32.00000   99.00  \n",
       "Insulin                    30.5000  127.25000  846.00  \n",
       "BMI                        32.0000   36.60000   67.10  \n",
       "DiabetesPedigreeFunction    0.3725    0.62625    2.42  \n",
       "Age                        29.0000   41.00000   81.00  \n",
       "Outcome                     0.0000    1.00000    1.00  "
      ]
     },
     "execution_count": 173,
     "metadata": {},
     "output_type": "execute_result"
    }
   ],
   "source": [
    "df.describe().T"
   ]
  },
  {
   "cell_type": "code",
   "execution_count": 174,
   "metadata": {},
   "outputs": [
    {
     "name": "stdout",
     "output_type": "stream",
     "text": [
      "<class 'pandas.core.frame.DataFrame'>\n",
      "RangeIndex: 768 entries, 0 to 767\n",
      "Data columns (total 9 columns):\n",
      " #   Column                    Non-Null Count  Dtype  \n",
      "---  ------                    --------------  -----  \n",
      " 0   Pregnancies               768 non-null    int64  \n",
      " 1   Glucose                   768 non-null    int64  \n",
      " 2   BloodPressure             768 non-null    int64  \n",
      " 3   SkinThickness             768 non-null    int64  \n",
      " 4   Insulin                   768 non-null    int64  \n",
      " 5   BMI                       768 non-null    float64\n",
      " 6   DiabetesPedigreeFunction  768 non-null    float64\n",
      " 7   Age                       768 non-null    int64  \n",
      " 8   Outcome                   768 non-null    int64  \n",
      "dtypes: float64(2), int64(7)\n",
      "memory usage: 54.1 KB\n"
     ]
    }
   ],
   "source": [
    "df.info()"
   ]
  },
  {
   "cell_type": "code",
   "execution_count": 175,
   "metadata": {},
   "outputs": [
    {
     "name": "stdout",
     "output_type": "stream",
     "text": [
      "\n",
      "\n"
     ]
    },
    {
     "name": "stderr",
     "output_type": "stream",
     "text": [
      "c:\\Users\\ssbgt\\anaconda3\\lib\\site-packages\\researchpy\\summary.py:60: FutureWarning:\n",
      "\n",
      "iteritems is deprecated and will be removed in a future version. Use .items instead.\n",
      "\n"
     ]
    },
    {
     "data": {
      "text/html": [
       "<div>\n",
       "<style scoped>\n",
       "    .dataframe tbody tr th:only-of-type {\n",
       "        vertical-align: middle;\n",
       "    }\n",
       "\n",
       "    .dataframe tbody tr th {\n",
       "        vertical-align: top;\n",
       "    }\n",
       "\n",
       "    .dataframe thead th {\n",
       "        text-align: right;\n",
       "    }\n",
       "</style>\n",
       "<table border=\"1\" class=\"dataframe\">\n",
       "  <thead>\n",
       "    <tr style=\"text-align: right;\">\n",
       "      <th></th>\n",
       "      <th>Variable</th>\n",
       "      <th>N</th>\n",
       "      <th>Mean</th>\n",
       "      <th>SD</th>\n",
       "      <th>SE</th>\n",
       "      <th>95% Conf.</th>\n",
       "      <th>Interval</th>\n",
       "    </tr>\n",
       "  </thead>\n",
       "  <tbody>\n",
       "    <tr>\n",
       "      <th>0</th>\n",
       "      <td>Pregnancies</td>\n",
       "      <td>768.0</td>\n",
       "      <td>3.8451</td>\n",
       "      <td>3.3696</td>\n",
       "      <td>0.1216</td>\n",
       "      <td>3.6064</td>\n",
       "      <td>4.0837</td>\n",
       "    </tr>\n",
       "    <tr>\n",
       "      <th>1</th>\n",
       "      <td>Glucose</td>\n",
       "      <td>768.0</td>\n",
       "      <td>120.8945</td>\n",
       "      <td>31.9726</td>\n",
       "      <td>1.1537</td>\n",
       "      <td>118.6297</td>\n",
       "      <td>123.1593</td>\n",
       "    </tr>\n",
       "    <tr>\n",
       "      <th>2</th>\n",
       "      <td>BloodPressure</td>\n",
       "      <td>768.0</td>\n",
       "      <td>69.1055</td>\n",
       "      <td>19.3558</td>\n",
       "      <td>0.6984</td>\n",
       "      <td>67.7344</td>\n",
       "      <td>70.4766</td>\n",
       "    </tr>\n",
       "    <tr>\n",
       "      <th>3</th>\n",
       "      <td>SkinThickness</td>\n",
       "      <td>768.0</td>\n",
       "      <td>20.5365</td>\n",
       "      <td>15.9522</td>\n",
       "      <td>0.5756</td>\n",
       "      <td>19.4065</td>\n",
       "      <td>21.6664</td>\n",
       "    </tr>\n",
       "    <tr>\n",
       "      <th>4</th>\n",
       "      <td>Insulin</td>\n",
       "      <td>768.0</td>\n",
       "      <td>79.7995</td>\n",
       "      <td>115.2440</td>\n",
       "      <td>4.1585</td>\n",
       "      <td>71.6361</td>\n",
       "      <td>87.9629</td>\n",
       "    </tr>\n",
       "    <tr>\n",
       "      <th>5</th>\n",
       "      <td>BMI</td>\n",
       "      <td>768.0</td>\n",
       "      <td>31.9926</td>\n",
       "      <td>7.8842</td>\n",
       "      <td>0.2845</td>\n",
       "      <td>31.4341</td>\n",
       "      <td>32.5511</td>\n",
       "    </tr>\n",
       "    <tr>\n",
       "      <th>6</th>\n",
       "      <td>DiabetesPedigreeFunction</td>\n",
       "      <td>768.0</td>\n",
       "      <td>0.4719</td>\n",
       "      <td>0.3313</td>\n",
       "      <td>0.0120</td>\n",
       "      <td>0.4484</td>\n",
       "      <td>0.4953</td>\n",
       "    </tr>\n",
       "    <tr>\n",
       "      <th>7</th>\n",
       "      <td>Age</td>\n",
       "      <td>768.0</td>\n",
       "      <td>33.2409</td>\n",
       "      <td>11.7602</td>\n",
       "      <td>0.4244</td>\n",
       "      <td>32.4078</td>\n",
       "      <td>34.0739</td>\n",
       "    </tr>\n",
       "    <tr>\n",
       "      <th>8</th>\n",
       "      <td>Outcome</td>\n",
       "      <td>768.0</td>\n",
       "      <td>0.3490</td>\n",
       "      <td>0.4770</td>\n",
       "      <td>0.0172</td>\n",
       "      <td>0.3152</td>\n",
       "      <td>0.3827</td>\n",
       "    </tr>\n",
       "  </tbody>\n",
       "</table>\n",
       "</div>"
      ],
      "text/plain": [
       "                   Variable      N      Mean        SD      SE  95% Conf.  \\\n",
       "0               Pregnancies  768.0    3.8451    3.3696  0.1216     3.6064   \n",
       "1                   Glucose  768.0  120.8945   31.9726  1.1537   118.6297   \n",
       "2             BloodPressure  768.0   69.1055   19.3558  0.6984    67.7344   \n",
       "3             SkinThickness  768.0   20.5365   15.9522  0.5756    19.4065   \n",
       "4                   Insulin  768.0   79.7995  115.2440  4.1585    71.6361   \n",
       "5                       BMI  768.0   31.9926    7.8842  0.2845    31.4341   \n",
       "6  DiabetesPedigreeFunction  768.0    0.4719    0.3313  0.0120     0.4484   \n",
       "7                       Age  768.0   33.2409   11.7602  0.4244    32.4078   \n",
       "8                   Outcome  768.0    0.3490    0.4770  0.0172     0.3152   \n",
       "\n",
       "   Interval  \n",
       "0    4.0837  \n",
       "1  123.1593  \n",
       "2   70.4766  \n",
       "3   21.6664  \n",
       "4   87.9629  \n",
       "5   32.5511  \n",
       "6    0.4953  \n",
       "7   34.0739  \n",
       "8    0.3827  "
      ]
     },
     "execution_count": 175,
     "metadata": {},
     "output_type": "execute_result"
    }
   ],
   "source": [
    "import researchpy as rp\n",
    "\n",
    "num_cols = df.select_dtypes(include = np.number).columns\n",
    "rp.summary_cont(df[num_cols]) "
   ]
  },
  {
   "cell_type": "code",
   "execution_count": 176,
   "metadata": {},
   "outputs": [
    {
     "data": {
      "text/html": [
       "<style type=\"text/css\">\n",
       "#T_c027a thead>tr>th {\n",
       "  text-align: left;\n",
       "}\n",
       "#T_c027a_row0_col0, #T_c027a_row1_col0, #T_c027a_row2_col0, #T_c027a_row3_col0, #T_c027a_row4_col0, #T_c027a_row5_col0, #T_c027a_row6_col0, #T_c027a_row7_col0, #T_c027a_row8_col0 {\n",
       "  text-align: left;\n",
       "  font-size: 12px;\n",
       "  vertical-align: middle;\n",
       "  width: 5%;\n",
       "  max-width: 50px;\n",
       "  min-width: 20px;\n",
       "}\n",
       "#T_c027a_row0_col1, #T_c027a_row1_col1, #T_c027a_row2_col1, #T_c027a_row3_col1, #T_c027a_row4_col1, #T_c027a_row5_col1, #T_c027a_row6_col1, #T_c027a_row7_col1, #T_c027a_row8_col1 {\n",
       "  text-align: left;\n",
       "  font-size: 12px;\n",
       "  vertical-align: middle;\n",
       "  width: 15%;\n",
       "  max-width: 200px;\n",
       "  min-width: 100px;\n",
       "  word-break: break-word;\n",
       "}\n",
       "#T_c027a_row0_col2, #T_c027a_row1_col2, #T_c027a_row2_col2, #T_c027a_row3_col2, #T_c027a_row4_col2, #T_c027a_row5_col2, #T_c027a_row6_col2, #T_c027a_row7_col2, #T_c027a_row8_col2 {\n",
       "  text-align: left;\n",
       "  font-size: 12px;\n",
       "  vertical-align: middle;\n",
       "  width: 30%;\n",
       "  min-width: 100px;\n",
       "}\n",
       "#T_c027a_row0_col3, #T_c027a_row1_col3, #T_c027a_row2_col3, #T_c027a_row3_col3, #T_c027a_row4_col3, #T_c027a_row5_col3, #T_c027a_row6_col3, #T_c027a_row7_col3, #T_c027a_row8_col3 {\n",
       "  text-align: left;\n",
       "  font-size: 12px;\n",
       "  vertical-align: middle;\n",
       "  width: 25%;\n",
       "  min-width: 100px;\n",
       "}\n",
       "#T_c027a_row0_col4, #T_c027a_row1_col4, #T_c027a_row2_col4, #T_c027a_row3_col4, #T_c027a_row4_col4, #T_c027a_row5_col4, #T_c027a_row6_col4, #T_c027a_row7_col4, #T_c027a_row8_col4 {\n",
       "  text-align: left;\n",
       "  font-size: 12px;\n",
       "  vertical-align: middle;\n",
       "  width: 20%;\n",
       "  min-width: 150px;\n",
       "}\n",
       "#T_c027a_row0_col5, #T_c027a_row1_col5, #T_c027a_row2_col5, #T_c027a_row3_col5, #T_c027a_row4_col5, #T_c027a_row5_col5, #T_c027a_row6_col5, #T_c027a_row7_col5, #T_c027a_row8_col5 {\n",
       "  text-align: left;\n",
       "  font-size: 12px;\n",
       "  vertical-align: middle;\n",
       "  width: 10%;\n",
       "}\n",
       "</style>\n",
       "<table id=\"T_c027a\">\n",
       "  <caption><strong>Data Frame Summary</strong><br>df<br>Dimensions: 768 x 9<br>Duplicates: 0</caption>\n",
       "  <thead>\n",
       "    <tr>\n",
       "      <th id=\"T_c027a_level0_col0\" class=\"col_heading level0 col0\" >No</th>\n",
       "      <th id=\"T_c027a_level0_col1\" class=\"col_heading level0 col1\" >Variable</th>\n",
       "      <th id=\"T_c027a_level0_col2\" class=\"col_heading level0 col2\" >Stats / Values</th>\n",
       "      <th id=\"T_c027a_level0_col3\" class=\"col_heading level0 col3\" >Freqs / (% of Valid)</th>\n",
       "      <th id=\"T_c027a_level0_col4\" class=\"col_heading level0 col4\" >Graph</th>\n",
       "      <th id=\"T_c027a_level0_col5\" class=\"col_heading level0 col5\" >Missing</th>\n",
       "    </tr>\n",
       "  </thead>\n",
       "  <tbody>\n",
       "    <tr>\n",
       "      <td id=\"T_c027a_row0_col0\" class=\"data row0 col0\" >1</td>\n",
       "      <td id=\"T_c027a_row0_col1\" class=\"data row0 col1\" ><strong>Pregnancies</strong><br>[int64]</td>\n",
       "      <td id=\"T_c027a_row0_col2\" class=\"data row0 col2\" >Mean (sd) : 3.8 (3.4)<br>min < med < max:<br>0.0 < 3.0 < 17.0<br>IQR (CV) : 5.0 (1.1)</td>\n",
       "      <td id=\"T_c027a_row0_col3\" class=\"data row0 col3\" >17 distinct values</td>\n",
       "      <td id=\"T_c027a_row0_col4\" class=\"data row0 col4\" ><img src = \"data:image/png;base64, iVBORw0KGgoAAAANSUhEUgAAAKoAAABGCAYAAABc8A97AAAAOXRFWHRTb2Z0d2FyZQBNYXRwbG90bGliIHZlcnNpb24zLjcuMSwgaHR0cHM6Ly9tYXRwbG90bGliLm9yZy/bCgiHAAAACXBIWXMAAA9hAAAPYQGoP6dpAAACiklEQVR4nO3dTW7aQBiA4W9KAPNTWwgJdlygUhcsfYgettvusuAE3IANQkJghBMHY9xNqSqVBPCEMN/kfdaZMYtXQWPPYFOWpQCu+3LvDwBc4uHcHxhjWiLSqDj/rizL54pjgb/eDNUY0+r3+z/CMOxVmXyz2ayMMT+JFbbO/UdthGHYi+P4OYqi7JqJkyQJJpNJb7lcNkSEUGHl7Fe/iEgURdlgMHiqMH+rwhjgPyymoAKhQgVChQqEChUIFSoQKlQgVKhAqFCBUKECoUIFQoUKhAoVCBUqECpUIFSocNF+1KqKoqiLSGiMqToFR1kgIjcMNU3Tep7n30ejUa1Wq111OuCIoyw4ulmou93uIQiC9ng8zobD4era8Rxlwb9u+tUvItLpdKoeYxHhKAv+YDEFFQgVKhAqVCBUqECoUIFQoQKhQgVChQqEChUIFSrc/BGqDcvdV+y88oizodruvmLnlV+cDdVm9xU7r/zjbKhHFruv2HnlERZTUIFQoQKhQgVChQqEChUIFSoQKlQgVKjg/A3/e+FlxW4h1BN4WbF7CPU0XlbsGEJ9Ay8rdgeLKahAqFCBUKECoUIFbxdTluetwsPhUL/TtbkHe4KXodqet8rzPCiK4luWZY8ictWqn7Net+FlqLa/dj2bzXrT6bS93+9rH3lt7sG+zstQj6qet1qtVtb3QTnr9b5YTEEFQoUKhAoVCBUqECpU8HrV/xn5uuGbUD3i84ZvQnWM7aPfbrc7iON449uGb0J1yHs9+m02m4++PWwgVIfc89GviNuvrb8o1CRJgmsn3m63gYhImqbBYrFof+R4rdc+jrVV5drz+fyr7Wvr1+v11hjzS0SqjH8py/LVcb8BIYduc82dKcAAAAAASUVORK5CYII=\"></img></td>\n",
       "      <td id=\"T_c027a_row0_col5\" class=\"data row0 col5\" >0<br>(0.0%)</td>\n",
       "    </tr>\n",
       "    <tr>\n",
       "      <td id=\"T_c027a_row1_col0\" class=\"data row1 col0\" >2</td>\n",
       "      <td id=\"T_c027a_row1_col1\" class=\"data row1 col1\" ><strong>Glucose</strong><br>[int64]</td>\n",
       "      <td id=\"T_c027a_row1_col2\" class=\"data row1 col2\" >Mean (sd) : 120.9 (32.0)<br>min < med < max:<br>0.0 < 117.0 < 199.0<br>IQR (CV) : 41.2 (3.8)</td>\n",
       "      <td id=\"T_c027a_row1_col3\" class=\"data row1 col3\" >136 distinct values</td>\n",
       "      <td id=\"T_c027a_row1_col4\" class=\"data row1 col4\" ><img src = \"data:image/png;base64, iVBORw0KGgoAAAANSUhEUgAAAKoAAABGCAYAAABc8A97AAAAOXRFWHRTb2Z0d2FyZQBNYXRwbG90bGliIHZlcnNpb24zLjcuMSwgaHR0cHM6Ly9tYXRwbG90bGliLm9yZy/bCgiHAAAACXBIWXMAAA9hAAAPYQGoP6dpAAACrElEQVR4nO3dMY7aQBSA4TdhITZEtoAEOi4QiYKSPm0OmyOkoEhDww3oEBYywsHBGFJtlI02S/DY2nmT/6vX2MW/rOx94zHX61UA17157QsA/sXDa1+Aj4wxoYh0Kh5+ul6vxzqvxweEWjNjTDgcDj9HUdSvcvx+v98ZY74Q61OEWr9OFEX9+Xx+jOM4v+fANE2DxWLRT5KkIyKE+htCbUgcx/loNPpe4dCw9ovxADdTUIFQoQKhQgVChQqEChUIFSoQKlQgVKhAqFCBUKECoUIF/tfvmLIs2yISGWOqfoSXY4KE6pAsy9pFUUwnk0mr1WrdNXn1yNcxQUJ1yOl0egiCoDubzfLxeLy793ifxwQJ9S8spvSjy+XStjl3r9erOiIo4umYIKE+w2ZKvyiKoCzLj3mefxWRqrHhD4T6vMpT+uv1ur9arbrn87nV1MX9jwj1BVWm9He7nZd/el8bz1GhAqFCBUKFCoQKFQgVKhAqVCBUqECoUIFQoQKhQgVChQqEChUIFSoQKlQgVKjAPKpnLFexOruClVA9YruK1eUVrITqEZtVrK6vYCVUD1msYnV2GQ03U1CBUKECoUIFQoUKhAoVCBUqECpUIFSowAN//OLy264JFSLi/tuuCRUi4v7brgkVT9i87bosy0gaGjEkVNSi6RFDQkUtmh4xJFTUqqkRQ56jQgVvv1Ettt8RqWELHtTLy1Bttt8RYQseF3kZqlhsvyPCFjwu8jVUEam2/Y4IW/C4iJspqECoUIFQoQKhQoWbN1OWzyOdfZcRdHkxVNvnkbbziRa/JDyw98ytb9ROFEX96XQqYRj+uOeDj8fj2+Vy+SFJkvfGmH2FawsGg8GnOI7f3Xvg4wP77Xb7rcJ55XA4BCIiWZYFm82mq+FYzedO0zS49TM/AdKLX9Vn3NB6AAAAAElFTkSuQmCC\"></img></td>\n",
       "      <td id=\"T_c027a_row1_col5\" class=\"data row1 col5\" >0<br>(0.0%)</td>\n",
       "    </tr>\n",
       "    <tr>\n",
       "      <td id=\"T_c027a_row2_col0\" class=\"data row2 col0\" >3</td>\n",
       "      <td id=\"T_c027a_row2_col1\" class=\"data row2 col1\" ><strong>BloodPressure</strong><br>[int64]</td>\n",
       "      <td id=\"T_c027a_row2_col2\" class=\"data row2 col2\" >Mean (sd) : 69.1 (19.4)<br>min < med < max:<br>0.0 < 72.0 < 122.0<br>IQR (CV) : 18.0 (3.6)</td>\n",
       "      <td id=\"T_c027a_row2_col3\" class=\"data row2 col3\" >47 distinct values</td>\n",
       "      <td id=\"T_c027a_row2_col4\" class=\"data row2 col4\" ><img src = \"data:image/png;base64, iVBORw0KGgoAAAANSUhEUgAAAKoAAABGCAYAAABc8A97AAAAOXRFWHRTb2Z0d2FyZQBNYXRwbG90bGliIHZlcnNpb24zLjcuMSwgaHR0cHM6Ly9tYXRwbG90bGliLm9yZy/bCgiHAAAACXBIWXMAAA9hAAAPYQGoP6dpAAACr0lEQVR4nO3du47aQBSA4TPhInOJLUCCjheIlILSfdo8bB4hBUVq3oAGISFkhHctjHGabJREm13swWLO8H/9LFP88u6wMx5TlqUArvtw7wkA12jfewI+Msb0RKRbc/ipLMvnW87HB4R6Y8aY3mQy+RqG4ajO+MPhsDfGfCPWvxHq7XXDMBzFcfwcRVFWZWCSJMFyuRztdruuiBDqHwi1IVEUZdPp9KnG0N7NJ+MBFlNQgSeqY4qi6IhIaIyp+yO8XIwRqkPSNO3kef55Pp+3Wq1Wpb9vX/i6GCNUh5xOp3YQBP3FYpHNZrN91fE+L8YI1UGDwaDuQkzE08UYiymoQKhQgVChAqFCBUKFCoQKFQgVKhAqVCBUqECoUIFQoQKhQgVChQqEChUIFSoQKlQgVKhAqFCBUKECoUIFQoUKhAoVCBUqECpUIFSoQKhQgVChAqFCBUKFCoQKFQgVKvB+1P+wuCsqvFwunVvP59ER6its7orK8zwoiuJTlmXfRaTuy3jxD0J9Xe27otbr9Wi1WvXP53Orqck9IkJ9Q527ovb7vZevJr83FlNQgSeqZyzvqXL2jipC9YjtPVUu31FFqB6xuafK9TuqCNVDFvdUObsQZDEFFQgVKhAqVCBUqECoUIFQoQKhQgVChQqEChXe/c+UxU53EYc3OUCXN0O12eku4vYmB+jy3hO19k531zc5QJerNqXU2en+i7ObHKALiymowDY//GZ5OkCkwcWzt6FaflvxcGfzbU8HiDS7ePYyVNtvKx7xbL7N6QCR5hfPTodq87aS4XA4jeP4UPXbCpHHPptvcTpAiqIIpaGDhVeFmiRJUPVTkyQJiqJoS/2JB+Px+EsURcOqA1+eiHme/xCRWr/GRETSNA22222/ypjj8RjcY+y9P3uz2Xxs8mDhT9+QRSk2QaFWAAAAAElFTkSuQmCC\"></img></td>\n",
       "      <td id=\"T_c027a_row2_col5\" class=\"data row2 col5\" >0<br>(0.0%)</td>\n",
       "    </tr>\n",
       "    <tr>\n",
       "      <td id=\"T_c027a_row3_col0\" class=\"data row3 col0\" >4</td>\n",
       "      <td id=\"T_c027a_row3_col1\" class=\"data row3 col1\" ><strong>SkinThickness</strong><br>[int64]</td>\n",
       "      <td id=\"T_c027a_row3_col2\" class=\"data row3 col2\" >Mean (sd) : 20.5 (16.0)<br>min < med < max:<br>0.0 < 23.0 < 99.0<br>IQR (CV) : 32.0 (1.3)</td>\n",
       "      <td id=\"T_c027a_row3_col3\" class=\"data row3 col3\" >51 distinct values</td>\n",
       "      <td id=\"T_c027a_row3_col4\" class=\"data row3 col4\" ><img src = \"data:image/png;base64, iVBORw0KGgoAAAANSUhEUgAAAKoAAABGCAYAAABc8A97AAAAOXRFWHRTb2Z0d2FyZQBNYXRwbG90bGliIHZlcnNpb24zLjcuMSwgaHR0cHM6Ly9tYXRwbG90bGliLm9yZy/bCgiHAAAACXBIWXMAAA9hAAAPYQGoP6dpAAACeElEQVR4nO3cwYraQBjA8W/qKlEhQSx68wUWevDoQ/Rhe+2tgk/gG3gTQoyYmjUm6a0I3a46k6zzyf933pnN4Y8h4ZuYuq4F8N2XR18AcIuXa39gjOmLSM9y/1Nd10fLtcBfH4ZqjOmPx+PvYRiObDbf7/eJMeYHscLVtV/UXhiGo8VicYyiKL9n4zRNg9VqNYrjuCcihAonV2/9IiJRFOWTyeS3xf59izXAP3iYggqEChUIFSoQKlQgVKhAqFCBUKECoUIFQoUKhAoVCBUqECpUuGkoRSPHOVoRZmm98pShus7RijBL65unDFUc5mhFmKX1kdehOty+w6qqulEUJZZztCLM0nrF21Bdbt9FUQRlWb7mef5LRGxDhUe8DVUcbt+bzWa0Xq8H5/O509bF4XP5HKqI2B2DSZKE2/aT4T0qVCBUqECoUIFQoQKhQgVChQqEChUIFSoQKlQgVKhAqFCBUKECoUKFVqenyrLsikhojLFZHlZV1W34kqBUa6FmWdYtiuLbbDbrdDqdu4+DMPyMS62FejqdXoIgGMzn83w6nSb3rmf4GZdaH5weDodW3/9n+BmXeJiCCoQKFQgVKhAqVPD+FOqjOL4D5rtVDSPUd7i+A+a7Vc0j1He4vAPmu1XtINQP2L4DFr5b1TgepqACoUIFQoUKhAoVCBUqECpUIFSoQKhQgVChAqFCBUKFCoQKFQgVKhAqVCBUqECoUIHB6RZw3qp5hNowzlu1g1Ab5nrearlcTuI4/mqM2dtewjNGflOoaZoG9258OBwCEZEsy4Ltdjv4zPU+/G8bx+PR6ddYRGS32x2MMT9FxGr9A73Vdf3fa/4DuyIWEEiXDPUAAAAASUVORK5CYII=\"></img></td>\n",
       "      <td id=\"T_c027a_row3_col5\" class=\"data row3 col5\" >0<br>(0.0%)</td>\n",
       "    </tr>\n",
       "    <tr>\n",
       "      <td id=\"T_c027a_row4_col0\" class=\"data row4 col0\" >5</td>\n",
       "      <td id=\"T_c027a_row4_col1\" class=\"data row4 col1\" ><strong>Insulin</strong><br>[int64]</td>\n",
       "      <td id=\"T_c027a_row4_col2\" class=\"data row4 col2\" >Mean (sd) : 79.8 (115.2)<br>min < med < max:<br>0.0 < 30.5 < 846.0<br>IQR (CV) : 127.2 (0.7)</td>\n",
       "      <td id=\"T_c027a_row4_col3\" class=\"data row4 col3\" >186 distinct values</td>\n",
       "      <td id=\"T_c027a_row4_col4\" class=\"data row4 col4\" ><img src = \"data:image/png;base64, iVBORw0KGgoAAAANSUhEUgAAAKoAAABGCAYAAABc8A97AAAAOXRFWHRTb2Z0d2FyZQBNYXRwbG90bGliIHZlcnNpb24zLjcuMSwgaHR0cHM6Ly9tYXRwbG90bGliLm9yZy/bCgiHAAAACXBIWXMAAA9hAAAPYQGoP6dpAAACMUlEQVR4nO3dMW/aQByG8f+ZgEygthASbCzZOzDyIfphs3bnW3RHSCgY4YSAXHepq0hRCtyJxO/p+c3c4eERPnOWztV1bUDbJV99AcAl7s59wDnXN7Oe5/zHuq5fPMcC//w3VOdcfzwe/8iybOQz+W63e3LOPRIrQp37Re1lWTZaLBYveZ4frpm4KIp0uVyONptNz8wIFUHO3vrNzPI8P0wmk2eP+fseY4B3eJiCBEKFBEKFBEKFBEKFBEKFBEKFBEKFBEKFBEKFBEKFBEKFBEKFBEKFBEKFBEKFBEKFBEKFBEKFBEKFBEKFBEKFBEKFBEKFBEKFBEKFBEKFBEKFBEKFBEKFBEKFBEKFBEKFBEKFBEKFBEKFBEKFBEKFBEKFBEKFBEKFBEKFhIuOmPRVVVXXzDLnnO8UnE4NM7thqGVZdk+n0/fZbNbpdDpXHfjb4HRqNG4W6vF4vEvT9H4+nx+m0+nTteM5nRpv3fTWb2Y2GAx8T6Y243Rq/MXDFCQQKiQQKiQQKiQQKiQQKiQQKiTc/H/UEIFbsGy/RqS1oYZuwbL9GpfWhhqyBcv2a3xaG2ojYAuW7deI8DAFCYQKCa2/9fvipe24RBkqL23HJ8pQeWk7PlGG2gh5abuqqsz8lw6Jmf32GRg41izSJctFoRZFkV478X6/T83MyrJM1+v1/WeOD/3u1Wr1zXfpUFVVtyzLh+Fw+CtJktNnjW1st9u9c+6nmXkteb7Qa13XH17zH5NG44dzrgb9AAAAAElFTkSuQmCC\"></img></td>\n",
       "      <td id=\"T_c027a_row4_col5\" class=\"data row4 col5\" >0<br>(0.0%)</td>\n",
       "    </tr>\n",
       "    <tr>\n",
       "      <td id=\"T_c027a_row5_col0\" class=\"data row5 col0\" >6</td>\n",
       "      <td id=\"T_c027a_row5_col1\" class=\"data row5 col1\" ><strong>BMI</strong><br>[float64]</td>\n",
       "      <td id=\"T_c027a_row5_col2\" class=\"data row5 col2\" >Mean (sd) : 32.0 (7.9)<br>min < med < max:<br>0.0 < 32.0 < 67.1<br>IQR (CV) : 9.3 (4.1)</td>\n",
       "      <td id=\"T_c027a_row5_col3\" class=\"data row5 col3\" >248 distinct values</td>\n",
       "      <td id=\"T_c027a_row5_col4\" class=\"data row5 col4\" ><img src = \"data:image/png;base64, iVBORw0KGgoAAAANSUhEUgAAAKoAAABGCAYAAABc8A97AAAAOXRFWHRTb2Z0d2FyZQBNYXRwbG90bGliIHZlcnNpb24zLjcuMSwgaHR0cHM6Ly9tYXRwbG90bGliLm9yZy/bCgiHAAAACXBIWXMAAA9hAAAPYQGoP6dpAAAClklEQVR4nO3dMY7aQBiG4X8CrAxIRogIOi4QKQUlh8hh06YLEifgBnRICIwgEIzttClgN8yY4M+8Tz/SFK828c7sP64oCgOq7tOzNwD8i+azN1BVzrm2mb15Lj8XRXEscz+vjlCvcM61B4PBtziO+z7rd7vdxjn3nVjLQ6jXvcVx3J9Op8der3e6Z2GSJNF8Pu+v1+s3MyPUkhDqO3q93mk4HP7yWNoufTMvjo8pSCBUSCBUSCBUSCBUSCBUSCBUSOD3qA+QZVnLzGLnnM9yjl+vINSSHQ6HVpqmX8fjcaPRaNx1qmXG8esthFqy8/ncjKKoM5lMTqPRaHPPWo5fbyPUB+l2uxy/loiPKUggVEggVEggVEggVEggVEggVEggVEggVEggVEggVEggVEggVEio7e2pwNlRcZ7nrTL3gzC1DDV0dlSaplGWZV9Op9NPM/O5qoeS1TJUC5gdZWa2XC77i8Wic7lcGo/YHO5X11DNzH921Gaz4fJyxfAxBQmECgmECgmECgmECgmECgmECgmECgmECgmECgmECgmECgmECgmECgmECgmECgm1vjitKPChCrOaPlZBqBUS+lCFWX0fqyDUCgl5qMKs3o9VEGoFBTxUYVbTxyr4mIIEQoUEQoUEQoUEQoUEQoUEQoUEQoUEQoUEQoUEQoWESp/1B4w3Z7R5zXwYauAsfO+7kSHjzV95tHngfdbK3mV9N9TQWfiBdyO9x5u/6mjz0PusVb7L+tFPVO9Yyrob6TPe/FVHm4fcZ02SJJrNZsP1ev3ZObfz3cKjIn/o/1GzLGua/z9DcZ7nzSRJonsX7vf7yMzscDhEq9Wq8z/XP2vt3+t9HI/H4L8u2G63e+fcDzPzWf+7KIqb6/4AO8Q2dlSXhYsAAAAASUVORK5CYII=\"></img></td>\n",
       "      <td id=\"T_c027a_row5_col5\" class=\"data row5 col5\" >0<br>(0.0%)</td>\n",
       "    </tr>\n",
       "    <tr>\n",
       "      <td id=\"T_c027a_row6_col0\" class=\"data row6 col0\" >7</td>\n",
       "      <td id=\"T_c027a_row6_col1\" class=\"data row6 col1\" ><strong>DiabetesPedigreeFunction</strong><br>[float64]</td>\n",
       "      <td id=\"T_c027a_row6_col2\" class=\"data row6 col2\" >Mean (sd) : 0.5 (0.3)<br>min < med < max:<br>0.1 < 0.4 < 2.4<br>IQR (CV) : 0.4 (1.4)</td>\n",
       "      <td id=\"T_c027a_row6_col3\" class=\"data row6 col3\" >517 distinct values</td>\n",
       "      <td id=\"T_c027a_row6_col4\" class=\"data row6 col4\" ><img src = \"data:image/png;base64, iVBORw0KGgoAAAANSUhEUgAAAKoAAABGCAYAAABc8A97AAAAOXRFWHRTb2Z0d2FyZQBNYXRwbG90bGliIHZlcnNpb24zLjcuMSwgaHR0cHM6Ly9tYXRwbG90bGliLm9yZy/bCgiHAAAACXBIWXMAAA9hAAAPYQGoP6dpAAACYElEQVR4nO3cMW/aQBiH8fcgIBOQLaCCjaV7B0b2rv2wXTsi8S36BZCsYIQLArnu0FJVShTwuU78Pz2/OWdneHSOw/G6siwNaLvOe/8CwD0ebv2Ac25gZn3P65/Lsjx6rgX+ejVU59xgOp1+ieN47HPx/X7/5Jz7Sqyo69aO2o/jeLxarY5JkpyqXDjLsmiz2YzTNO2bGaGilpuPfjOzJElOs9nsh8f1Bx5rgGd4mYIEQoUEQoUEQoUEQoUEQoUEQoUEQoUEQoUEQoUEQoUEQoUEQoUEQoUEQoUEQoUEQoUEQoUEQoUEQoWEu77c56soip6Zxc4530swFwBm1mCoeZ73LpfLp8Vi0e12u5W+an3FXABcNRbq+Xx+iKLocblcnubz+VPV9cwFwL8affSbmQ2HQ9+ZAGbMBcAfvExBAqFCAqFCAqFCAqFCAqFCAqFCAqFCAqFCAqFCQuMfodZR8/QVJ68C0tpQ656+4uRVWFobap3TV5y8Ck9rQ72qcfqKk1cB4WUKEggVEggVEggVEggVEggVEggVEggVEggVEggVEggVEggVEggVElp/esoXIy/DEmSojLwMT5ChMvIyPEGGesXIy3DwMgUJhAoJhAoJQf+NWgczBdqFUF/ATIH2IdQX1J0psF6vZ2mafnDO7X1uT+DPEeorfP69xW7cDEL9z955Nzb7/YL803Ntrd3cOTcws34T974r1CzLoqp3PRwOkZlZnufRdrt9fMv1bbi3j+PxWGs3Loqil+f5x9Fo9L3T6Vyqrt/tdgfn3Dcz8/nYOZpMJp+TJBl5rL35JPkFLgI5A5l4MBwAAAAASUVORK5CYII=\"></img></td>\n",
       "      <td id=\"T_c027a_row6_col5\" class=\"data row6 col5\" >0<br>(0.0%)</td>\n",
       "    </tr>\n",
       "    <tr>\n",
       "      <td id=\"T_c027a_row7_col0\" class=\"data row7 col0\" >8</td>\n",
       "      <td id=\"T_c027a_row7_col1\" class=\"data row7 col1\" ><strong>Age</strong><br>[int64]</td>\n",
       "      <td id=\"T_c027a_row7_col2\" class=\"data row7 col2\" >Mean (sd) : 33.2 (11.8)<br>min < med < max:<br>21.0 < 29.0 < 81.0<br>IQR (CV) : 17.0 (2.8)</td>\n",
       "      <td id=\"T_c027a_row7_col3\" class=\"data row7 col3\" >52 distinct values</td>\n",
       "      <td id=\"T_c027a_row7_col4\" class=\"data row7 col4\" ><img src = \"data:image/png;base64, iVBORw0KGgoAAAANSUhEUgAAAKoAAABGCAYAAABc8A97AAAAOXRFWHRTb2Z0d2FyZQBNYXRwbG90bGliIHZlcnNpb24zLjcuMSwgaHR0cHM6Ly9tYXRwbG90bGliLm9yZy/bCgiHAAAACXBIWXMAAA9hAAAPYQGoP6dpAAACbklEQVR4nO3cQW7aQBiG4X9KgkxQbEVEsPMRumDJpjfoYbvtEgmugpAsMMINBVnuplSVmgSYsRt/1vus44kXr8x4GMZVVWVA23366BsArnF36Q+ccwMz63uOf6yq6sXzWuCPd0N1zg1Go9HXOI6ffAbf7XYb59w3YkWoS0/UfhzHT7PZ7CVJksMtA+d5Hi0Wi6csy/pmRqgIcvGj38wsSZLDeDz+4TH+wOMa4B+8TEECoUICoUICoUICoUICoUICoUICoUICoUICoUICoUICoUICoUICoUICoUICoUICoUICoUICoUICoUICoUICoUICoUICoUICoUICoUICoUICoULCVYek+SrL8t7MYuec7xCcrwozazDUoijuT6fT5zRNe71e76YjK884XxVnjYV6PB7voih6mE6nh8lksrn1es5Xxd8a/eg3MxsOh75nq5pxvip+42UKEggVEggVEggVEggVEggVEggVEggVEggVEggVEggVEhr/rj9E4DZBtgh2SGtDDd0muN1u986572bmtcXQCL1VWhtqyDbB1Wr1uFwuv6Rp+sxe2G5obahnPtsEN5vNgL2w3dL6UEOwF7Y7eOuHBEKFBEKFhE7PUUOwhtsuhPqK0DVclrbqR6ivCFnDZWmrGYT6joDlLZa2akaoDWB+Wz9CrRnz22YQas1C57fz+XycZdmzc27newtdjJxQG+Izv+VgubcRaovUcbBc4BO5tU9jQm0h39WGLs+PCbVDurz+S6gd5PtELssytpaeEH5VqHmeR7cOvN/vIzOzoiii9Xr98D+vV/3fH3nfq9XqMfRFLvDnPz+rqnrzul+uyIIHGvPupAAAAABJRU5ErkJggg==\"></img></td>\n",
       "      <td id=\"T_c027a_row7_col5\" class=\"data row7 col5\" >0<br>(0.0%)</td>\n",
       "    </tr>\n",
       "    <tr>\n",
       "      <td id=\"T_c027a_row8_col0\" class=\"data row8 col0\" >9</td>\n",
       "      <td id=\"T_c027a_row8_col1\" class=\"data row8 col1\" ><strong>Outcome</strong><br>[int64]</td>\n",
       "      <td id=\"T_c027a_row8_col2\" class=\"data row8 col2\" >Mean (sd) : 0.3 (0.5)<br>min < med < max:<br>0.0 < 0.0 < 1.0<br>IQR (CV) : 1.0 (0.7)</td>\n",
       "      <td id=\"T_c027a_row8_col3\" class=\"data row8 col3\" >2 distinct values</td>\n",
       "      <td id=\"T_c027a_row8_col4\" class=\"data row8 col4\" ><img src = \"data:image/png;base64, iVBORw0KGgoAAAANSUhEUgAAAKoAAABGCAYAAABc8A97AAAAOXRFWHRTb2Z0d2FyZQBNYXRwbG90bGliIHZlcnNpb24zLjcuMSwgaHR0cHM6Ly9tYXRwbG90bGliLm9yZy/bCgiHAAAACXBIWXMAAA9hAAAPYQGoP6dpAAABf0lEQVR4nO3cQWrCQBiG4ZkiopsEETyMh+hhewhvI2VcVClouuumUGNU2g+eZ535yeIlYTZ/HYahwH/38tcvAGPMrj1Qa12WUuYT538Ow3CceBa+/RpqrXW5Xq9fu65bTRl+OBzea61vYuVe176o867rVtvt9tj3/emWwa21xW63W+33+3kpRajc5eqvv5RS+r4/bTabjwnzlxPOwA8uU0QQKhGESgShEkGoRBAqEYRKBKESQahEECoRhEoEoRJBqEQQKhGESgShEkGoRBAqEYRKBKESQahEECoRhEoEoRJBqEQQKhGESoRRu6dgjGeuKBUqD/HsFaVC5VGeuqJUqDzUs1aUukwRQahEECoRhEoEoRJBqEQQKhGESgShEkGoRBAqEYRKBKESQahEECoRhEoEoRJBqEQQKhGESgShEkGoRBAqEYRKBKESQahEECoRhEoEoRJBqEQQKhGESoRRi3xba4tbB7fWFufzeVZK6WqtN78YcbrL5TKb2sq1Z74AkbNOfUM+gtMAAAAASUVORK5CYII=\"></img></td>\n",
       "      <td id=\"T_c027a_row8_col5\" class=\"data row8 col5\" >0<br>(0.0%)</td>\n",
       "    </tr>\n",
       "  </tbody>\n",
       "</table>\n"
      ],
      "text/plain": [
       "<pandas.io.formats.style.Styler at 0x251ff66a740>"
      ]
     },
     "execution_count": 176,
     "metadata": {},
     "output_type": "execute_result"
    }
   ],
   "source": [
    "from summarytools import dfSummary\n",
    "dfSummary(df)"
   ]
  },
  {
   "cell_type": "markdown",
   "metadata": {},
   "source": [
    "### 2. GRABING NUMERICAL AND CATAGORICAL COLUMNS:"
   ]
  },
  {
   "cell_type": "code",
   "execution_count": 177,
   "metadata": {},
   "outputs": [
    {
     "data": {
      "text/plain": [
       "['Pregnancies',\n",
       " 'Glucose',\n",
       " 'BloodPressure',\n",
       " 'SkinThickness',\n",
       " 'Insulin',\n",
       " 'BMI',\n",
       " 'DiabetesPedigreeFunction',\n",
       " 'Age']"
      ]
     },
     "execution_count": 177,
     "metadata": {},
     "output_type": "execute_result"
    }
   ],
   "source": [
    "# numeric columns\n",
    "num_col=[col for col in df.columns if df[col].dtypes in [\"float64\",\"int64\"]\n",
    "         and df[col].nunique()>10]\n",
    "num_col"
   ]
  },
  {
   "cell_type": "code",
   "execution_count": 178,
   "metadata": {},
   "outputs": [],
   "source": [
    "# categoric columns\n",
    "cat=[col for col in df.columns if str(df[col].dtypes) in\n",
    "   [\"object\",\"bool\",\"category\"]]"
   ]
  },
  {
   "cell_type": "code",
   "execution_count": 179,
   "metadata": {},
   "outputs": [
    {
     "data": {
      "text/plain": [
       "['Outcome']"
      ]
     },
     "execution_count": 179,
     "metadata": {},
     "output_type": "execute_result"
    }
   ],
   "source": [
    "# categoric columns looks like numeric\n",
    "numcat=[col for col in df.columns if df[col].nunique() < 10 and df[col].dtypes in [\"float64\",\"int64\"]] \n",
    "numcat"
   ]
  },
  {
   "cell_type": "code",
   "execution_count": 180,
   "metadata": {},
   "outputs": [
    {
     "data": {
      "text/plain": [
       "[]"
      ]
     },
     "execution_count": 180,
     "metadata": {},
     "output_type": "execute_result"
    }
   ],
   "source": [
    "# categoric columns with high cardinality\n",
    "catcar=[col for col in df.columns if df[col].nunique() < 20 and df[col].dtypes in  [\"object\",\"bool\",\"category\"] ]\n",
    "catcar"
   ]
  },
  {
   "cell_type": "markdown",
   "metadata": {},
   "source": [
    "# ANALYZING NUMERICAL AND CATEGORICAL COLUMNS:"
   ]
  },
  {
   "cell_type": "code",
   "execution_count": 181,
   "metadata": {},
   "outputs": [],
   "source": [
    "# categorical variables :\n",
    "def cat_summary(df, col_name, plot=False):\n",
    "   print(pd.DataFrame({col_name: df[col_name].value_counts(),\n",
    "                         \"Ratio\": 100 * df[col_name].value_counts() / len(df)}))\n",
    "   print(\"##########################################\")\n",
    "   if plot:\n",
    "         sns.countplot(x=df[col_name], data=df)\n",
    "         plt.show(block=True)\n",
    "   print(\"##########################################\")\n",
    "   print(pd.DataFrame(df.groupby(col_name).agg({\"Outcome\": [\"count\", \"mean\", \"sum\"]})))\n",
    "   print(\"##########################################\")\n",
    "\n",
    "#There is no categorical variable in the data set.\n",
    "for i in cat:\n",
    "    cat_summary(df,i,plot=True)"
   ]
  },
  {
   "cell_type": "code",
   "execution_count": 182,
   "metadata": {},
   "outputs": [
    {
     "data": {
      "text/plain": [
       "['Pregnancies',\n",
       " 'Glucose',\n",
       " 'BloodPressure',\n",
       " 'SkinThickness',\n",
       " 'Insulin',\n",
       " 'BMI',\n",
       " 'DiabetesPedigreeFunction',\n",
       " 'Age']"
      ]
     },
     "execution_count": 182,
     "metadata": {},
     "output_type": "execute_result"
    }
   ],
   "source": [
    "num_col"
   ]
  },
  {
   "cell_type": "code",
   "execution_count": 183,
   "metadata": {},
   "outputs": [
    {
     "name": "stdout",
     "output_type": "stream",
     "text": [
      "    Pregnancies      Ratio\n",
      "1           135  17.578125\n",
      "0           111  14.453125\n",
      "2           103  13.411458\n",
      "3            75   9.765625\n",
      "4            68   8.854167\n",
      "5            57   7.421875\n",
      "6            50   6.510417\n",
      "7            45   5.859375\n",
      "8            38   4.947917\n",
      "9            28   3.645833\n",
      "10           24   3.125000\n",
      "11           11   1.432292\n",
      "13           10   1.302083\n",
      "12            9   1.171875\n",
      "14            2   0.260417\n",
      "15            1   0.130208\n",
      "17            1   0.130208\n",
      "##########################################\n"
     ]
    },
    {
     "data": {
      "image/png": "[encoded data removed]",
      "text/plain": [
       "<Figure size 640x480 with 1 Axes>"
      ]
     },
     "metadata": {},
     "output_type": "display_data"
    },
    {
     "name": "stdout",
     "output_type": "stream",
     "text": [
      "##########################################\n",
      "     Glucose     Ratio\n",
      "99        17  2.213542\n",
      "100       17  2.213542\n",
      "111       14  1.822917\n",
      "129       14  1.822917\n",
      "125       14  1.822917\n",
      "106       14  1.822917\n",
      "112       13  1.692708\n",
      "108       13  1.692708\n",
      "95        13  1.692708\n",
      "105       13  1.692708\n",
      "102       13  1.692708\n",
      "122       12  1.562500\n",
      "109       12  1.562500\n",
      "117       11  1.432292\n",
      "124       11  1.432292\n",
      "90        11  1.432292\n",
      "107       11  1.432292\n",
      "128       11  1.432292\n",
      "120       11  1.432292\n",
      "119       11  1.432292\n",
      "##########################################\n"
     ]
    },
    {
     "data": {
      "image/png": "[encoded data removed]",
      "text/plain": [
       "<Figure size 640x480 with 1 Axes>"
      ]
     },
     "metadata": {},
     "output_type": "display_data"
    },
    {
     "name": "stdout",
     "output_type": "stream",
     "text": [
      "##########################################\n",
      "    BloodPressure     Ratio\n",
      "70             57  7.421875\n",
      "74             52  6.770833\n",
      "78             45  5.859375\n",
      "68             45  5.859375\n",
      "72             44  5.729167\n",
      "64             43  5.598958\n",
      "80             40  5.208333\n",
      "76             39  5.078125\n",
      "60             37  4.817708\n",
      "0              35  4.557292\n",
      "62             34  4.427083\n",
      "66             30  3.906250\n",
      "82             30  3.906250\n",
      "88             25  3.255208\n",
      "84             23  2.994792\n",
      "90             22  2.864583\n",
      "86             21  2.734375\n",
      "58             21  2.734375\n",
      "50             13  1.692708\n",
      "56             12  1.562500\n",
      "##########################################\n"
     ]
    },
    {
     "data": {
      "image/png": "[encoded data removed]",
      "text/plain": [
       "<Figure size 640x480 with 1 Axes>"
      ]
     },
     "metadata": {},
     "output_type": "display_data"
    },
    {
     "name": "stdout",
     "output_type": "stream",
     "text": [
      "##########################################\n",
      "    SkinThickness      Ratio\n",
      "0             227  29.557292\n",
      "32             31   4.036458\n",
      "30             27   3.515625\n",
      "27             23   2.994792\n",
      "23             22   2.864583\n",
      "33             20   2.604167\n",
      "28             20   2.604167\n",
      "18             20   2.604167\n",
      "31             19   2.473958\n",
      "19             18   2.343750\n",
      "39             18   2.343750\n",
      "29             17   2.213542\n",
      "40             16   2.083333\n",
      "25             16   2.083333\n",
      "26             16   2.083333\n",
      "22             16   2.083333\n",
      "37             16   2.083333\n",
      "41             15   1.953125\n",
      "35             15   1.953125\n",
      "36             14   1.822917\n",
      "##########################################\n"
     ]
    },
    {
     "data": {
      "image/png": "[encoded data removed]",
      "text/plain": [
       "<Figure size 640x480 with 1 Axes>"
      ]
     },
     "metadata": {},
     "output_type": "display_data"
    },
    {
     "name": "stdout",
     "output_type": "stream",
     "text": [
      "##########################################\n",
      "     Insulin      Ratio\n",
      "0        374  48.697917\n",
      "105       11   1.432292\n",
      "130        9   1.171875\n",
      "140        9   1.171875\n",
      "120        8   1.041667\n",
      "94         7   0.911458\n",
      "180        7   0.911458\n",
      "100        7   0.911458\n",
      "135        6   0.781250\n",
      "115        6   0.781250\n",
      "110        6   0.781250\n",
      "66         5   0.651042\n",
      "56         5   0.651042\n",
      "49         5   0.651042\n",
      "76         5   0.651042\n",
      "210        5   0.651042\n",
      "54         4   0.520833\n",
      "71         4   0.520833\n",
      "160        4   0.520833\n",
      "190        4   0.520833\n",
      "##########################################\n"
     ]
    },
    {
     "data": {
      "image/png": "[encoded data removed]",
      "text/plain": [
       "<Figure size 640x480 with 1 Axes>"
      ]
     },
     "metadata": {},
     "output_type": "display_data"
    },
    {
     "name": "stdout",
     "output_type": "stream",
     "text": [
      "##########################################\n",
      "      BMI     Ratio\n",
      "32.0   13  1.692708\n",
      "31.6   12  1.562500\n",
      "31.2   12  1.562500\n",
      "0.0    11  1.432292\n",
      "32.4   10  1.302083\n",
      "33.3   10  1.302083\n",
      "30.1    9  1.171875\n",
      "32.8    9  1.171875\n",
      "32.9    9  1.171875\n",
      "30.8    9  1.171875\n",
      "33.6    8  1.041667\n",
      "34.2    8  1.041667\n",
      "29.7    8  1.041667\n",
      "33.2    7  0.911458\n",
      "35.5    7  0.911458\n",
      "30.0    7  0.911458\n",
      "27.6    7  0.911458\n",
      "25.9    7  0.911458\n",
      "30.5    7  0.911458\n",
      "28.7    7  0.911458\n",
      "##########################################\n"
     ]
    },
    {
     "data": {
      "image/png": "[encoded data removed]",
      "text/plain": [
       "<Figure size 640x480 with 1 Axes>"
      ]
     },
     "metadata": {},
     "output_type": "display_data"
    },
    {
     "name": "stdout",
     "output_type": "stream",
     "text": [
      "##########################################\n",
      "       DiabetesPedigreeFunction     Ratio\n",
      "0.258                         6  0.781250\n",
      "0.254                         6  0.781250\n",
      "0.268                         5  0.651042\n",
      "0.207                         5  0.651042\n",
      "0.261                         5  0.651042\n",
      "0.259                         5  0.651042\n",
      "0.238                         5  0.651042\n",
      "0.190                         4  0.520833\n",
      "0.263                         4  0.520833\n",
      "0.299                         4  0.520833\n",
      "0.692                         4  0.520833\n",
      "0.270                         4  0.520833\n",
      "0.551                         4  0.520833\n",
      "0.304                         4  0.520833\n",
      "0.237                         4  0.520833\n",
      "0.197                         4  0.520833\n",
      "0.284                         4  0.520833\n",
      "0.687                         4  0.520833\n",
      "0.167                         4  0.520833\n",
      "0.260                         4  0.520833\n",
      "##########################################\n"
     ]
    },
    {
     "data": {
      "image/png": "[encoded data removed]",
      "text/plain": [
       "<Figure size 640x480 with 1 Axes>"
      ]
     },
     "metadata": {},
     "output_type": "display_data"
    },
    {
     "name": "stdout",
     "output_type": "stream",
     "text": [
      "##########################################\n",
      "    Age     Ratio\n",
      "22   72  9.375000\n",
      "21   63  8.203125\n",
      "25   48  6.250000\n",
      "24   46  5.989583\n",
      "23   38  4.947917\n",
      "28   35  4.557292\n",
      "26   33  4.296875\n",
      "27   32  4.166667\n",
      "29   29  3.776042\n",
      "31   24  3.125000\n",
      "41   22  2.864583\n",
      "30   21  2.734375\n",
      "37   19  2.473958\n",
      "42   18  2.343750\n",
      "33   17  2.213542\n",
      "38   16  2.083333\n",
      "36   16  2.083333\n",
      "32   16  2.083333\n",
      "45   15  1.953125\n",
      "34   14  1.822917\n",
      "##########################################\n"
     ]
    },
    {
     "data": {
      "image/png": "[encoded data removed]",
      "text/plain": [
       "<Figure size 640x480 with 1 Axes>"
      ]
     },
     "metadata": {},
     "output_type": "display_data"
    },
    {
     "name": "stdout",
     "output_type": "stream",
     "text": [
      "##########################################\n"
     ]
    }
   ],
   "source": [
    "# numeric variables\n",
    "def num_summary(df, col_name, plot=False):\n",
    "   \n",
    "   # ilk 20 gözlemi göster\n",
    "   print(pd.DataFrame({col_name: df[col_name].value_counts().head(20),\n",
    "                           \"Ratio\": 100 * df[col_name].value_counts().head(20) / len(df)}))\n",
    "   print(\"##########################################\")\n",
    "   if plot:\n",
    "         sns.histplot(x=df[col_name], data=df)\n",
    "         plt.xticks(rotation=90)\n",
    "         plt.show(block=True)\n",
    "   print(\"##########################################\")\n",
    "\n",
    "for col in num_col :\n",
    "    num_summary(df,col,plot=True)"
   ]
  },
  {
   "cell_type": "markdown",
   "metadata": {},
   "source": [
    "### TARGET VARIABLE ANALYSIS:\n"
   ]
  },
  {
   "cell_type": "code",
   "execution_count": 184,
   "metadata": {},
   "outputs": [
    {
     "data": {
      "text/plain": [
       "['Pregnancies',\n",
       " 'Glucose',\n",
       " 'BloodPressure',\n",
       " 'SkinThickness',\n",
       " 'Insulin',\n",
       " 'BMI',\n",
       " 'DiabetesPedigreeFunction',\n",
       " 'Age']"
      ]
     },
     "execution_count": 184,
     "metadata": {},
     "output_type": "execute_result"
    }
   ],
   "source": [
    "# There is no categorical variable in the data set.\n",
    "\n",
    "#Numeric variables:\n",
    "num_col=[col for col in df.columns if df[col].dtypes in [\"float64\",\"int64\"]\n",
    "         and df[col].nunique()>10]\n",
    "num_col"
   ]
  },
  {
   "cell_type": "code",
   "execution_count": 185,
   "metadata": {},
   "outputs": [
    {
     "name": "stdout",
     "output_type": "stream",
     "text": [
      "            Outcome              \n",
      "              count      mean sum\n",
      "Pregnancies                      \n",
      "1               135  0.214815  29\n",
      "0               111  0.342342  38\n",
      "2               103  0.184466  19\n",
      "3                75  0.360000  27\n",
      "4                68  0.338235  23\n",
      "5                57  0.368421  21\n",
      "6                50  0.320000  16\n",
      "7                45  0.555556  25\n",
      "8                38  0.578947  22\n",
      "9                28  0.642857  18\n",
      "10               24  0.416667  10\n",
      "11               11  0.636364   7\n",
      "13               10  0.500000   5\n",
      "12                9  0.444444   4\n",
      "14                2  1.000000   2\n",
      "15                1  1.000000   1\n",
      "17                1  1.000000   1\n",
      "##########################################\n",
      "        Outcome              \n",
      "          count      mean sum\n",
      "Glucose                      \n",
      "81            6  0.000000   0\n",
      "80            6  0.166667   1\n",
      "0             5  0.400000   2\n",
      "74            4  0.000000   0\n",
      "78            4  0.250000   1\n",
      "71            4  0.000000   0\n",
      "73            3  0.000000   0\n",
      "79            3  0.000000   0\n",
      "68            3  0.000000   0\n",
      "77            2  0.000000   0\n",
      "76            2  0.000000   0\n",
      "75            2  0.000000   0\n",
      "57            2  0.000000   0\n",
      "61            1  0.000000   0\n",
      "44            1  0.000000   0\n",
      "67            1  0.000000   0\n",
      "65            1  0.000000   0\n",
      "62            1  0.000000   0\n",
      "56            1  0.000000   0\n",
      "72            1  0.000000   0\n",
      "##########################################\n",
      "              Outcome              \n",
      "                count      mean sum\n",
      "BloodPressure                      \n",
      "64                 43  0.302326  13\n",
      "60                 37  0.189189   7\n",
      "0                  35  0.457143  16\n",
      "62                 34  0.294118  10\n",
      "66                 30  0.366667  11\n",
      "58                 21  0.095238   2\n",
      "50                 13  0.384615   5\n",
      "56                 12  0.083333   1\n",
      "52                 11  0.272727   3\n",
      "54                 11  0.181818   2\n",
      "65                  7  0.142857   1\n",
      "48                  5  0.200000   1\n",
      "44                  4  0.000000   0\n",
      "46                  2  0.000000   0\n",
      "55                  2  0.000000   0\n",
      "30                  2  0.500000   1\n",
      "24                  1  0.000000   0\n",
      "40                  1  1.000000   1\n",
      "61                  1  0.000000   0\n",
      "38                  1  0.000000   0\n",
      "##########################################\n",
      "              Outcome              \n",
      "                count      mean sum\n",
      "SkinThickness                      \n",
      "0                 227  0.387665  88\n",
      "23                 22  0.181818   4\n",
      "18                 20  0.200000   4\n",
      "19                 18  0.166667   3\n",
      "25                 16  0.312500   5\n",
      "22                 16  0.250000   4\n",
      "26                 16  0.375000   6\n",
      "15                 14  0.071429   1\n",
      "17                 14  0.142857   2\n",
      "20                 13  0.153846   2\n",
      "24                 12  0.500000   6\n",
      "13                 11  0.090909   1\n",
      "21                 10  0.200000   2\n",
      "12                  7  0.142857   1\n",
      "14                  6  0.333333   2\n",
      "16                  6  0.000000   0\n",
      "11                  6  0.000000   0\n",
      "10                  5  0.000000   0\n",
      "7                   2  0.500000   1\n",
      "8                   2  0.000000   0\n",
      "##########################################\n",
      "        Outcome               \n",
      "          count      mean  sum\n",
      "Insulin                       \n",
      "0           374  0.368984  138\n",
      "44            3  0.000000    0\n",
      "45            3  0.000000    0\n",
      "36            3  0.333333    1\n",
      "18            2  0.000000    0\n",
      "23            2  0.000000    0\n",
      "37            2  0.000000    0\n",
      "40            2  0.000000    0\n",
      "22            1  0.000000    0\n",
      "25            1  0.000000    0\n",
      "29            1  1.000000    1\n",
      "32            1  0.000000    0\n",
      "14            1  1.000000    1\n",
      "38            1  0.000000    0\n",
      "41            1  0.000000    0\n",
      "42            1  0.000000    0\n",
      "43            1  0.000000    0\n",
      "16            1  0.000000    0\n",
      "15            1  0.000000    0\n",
      "46            1  0.000000    0\n",
      "##########################################\n",
      "     Outcome              \n",
      "       count      mean sum\n",
      "BMI                       \n",
      "0.0       11  0.181818   2\n",
      "21.8       5  0.000000   0\n",
      "21.1       4  0.000000   0\n",
      "18.2       3  0.000000   0\n",
      "21.9       3  0.000000   0\n",
      "19.6       3  0.000000   0\n",
      "21.0       2  0.000000   0\n",
      "20.8       2  0.000000   0\n",
      "20.4       2  0.000000   0\n",
      "22.1       2  0.000000   0\n",
      "19.5       2  0.000000   0\n",
      "20.0       1  0.000000   0\n",
      "19.9       1  0.000000   0\n",
      "19.4       1  0.000000   0\n",
      "19.3       1  0.000000   0\n",
      "21.2       1  0.000000   0\n",
      "21.7       1  0.000000   0\n",
      "19.1       1  0.000000   0\n",
      "18.4       1  0.000000   0\n",
      "20.1       1  0.000000   0\n",
      "##########################################\n",
      "                         Outcome         \n",
      "                           count mean sum\n",
      "DiabetesPedigreeFunction                 \n",
      "0.128                          2  0.5   1\n",
      "0.085                          2  0.0   0\n",
      "0.088                          2  0.5   1\n",
      "0.127                          2  1.0   2\n",
      "0.126                          2  0.0   0\n",
      "0.121                          2  0.5   1\n",
      "0.108                          1  0.0   0\n",
      "0.123                          1  0.0   0\n",
      "0.122                          1  0.0   0\n",
      "0.118                          1  0.0   0\n",
      "0.115                          1  0.0   0\n",
      "0.078                          1  0.0   0\n",
      "0.084                          1  0.0   0\n",
      "0.102                          1  0.0   0\n",
      "0.101                          1  0.0   0\n",
      "0.100                          1  0.0   0\n",
      "0.096                          1  0.0   0\n",
      "0.092                          1  0.0   0\n",
      "0.089                          1  0.0   0\n",
      "0.107                          1  0.0   0\n",
      "##########################################\n",
      "    Outcome              \n",
      "      count      mean sum\n",
      "Age                      \n",
      "22       72  0.152778  11\n",
      "21       63  0.079365   5\n",
      "25       48  0.291667  14\n",
      "24       46  0.173913   8\n",
      "23       38  0.184211   7\n",
      "28       35  0.285714  10\n",
      "26       33  0.242424   8\n",
      "27       32  0.250000   8\n",
      "29       29  0.448276  13\n",
      "31       24  0.541667  13\n",
      "30       21  0.285714   6\n",
      "37       19  0.315789   6\n",
      "33       17  0.588235  10\n",
      "32       16  0.562500   9\n",
      "36       16  0.625000  10\n",
      "38       16  0.625000  10\n",
      "34       14  0.285714   4\n",
      "40       13  0.461538   6\n",
      "39       12  0.250000   3\n",
      "35       10  0.500000   5\n",
      "##########################################\n"
     ]
    }
   ],
   "source": [
    "for i in num_col:\n",
    "   a=pd.DataFrame(df.groupby(i).agg({\"Outcome\": [\"count\", \"mean\", \"sum\"]})).head(20).sort_values(by=(\"Outcome\",\"count\"),\n",
    "                                                                                                        ascending=False)\n",
    "   print(a)\n",
    "   print(\"##########################################\")"
   ]
  },
  {
   "cell_type": "markdown",
   "metadata": {},
   "source": [
    "### OUTLIER ANALYSIS:"
   ]
  },
  {
   "cell_type": "code",
   "execution_count": 186,
   "metadata": {},
   "outputs": [
    {
     "data": {
      "application/vnd.plotly.v1+json": {
       "config": {
        "plotlyServerURL": "https://plot.ly"
       },
       "data": [
        {
         "alignmentgroup": "True",
         "hovertemplate": "Outcome=1<br>Pregnancies=%{y}<extra></extra>",
         "legendgroup": "1",
         "marker": {
          "color": "#636efa"
         },
         "name": "1",
         "notched": false,
         "offsetgroup": "1",
         "orientation": "v",
         "showlegend": true,
         "type": "box",
         "x0": " ",
         "xaxis": "x",
         "y": [
          6,
          8,
          0,
          3,
          2,
          8,
          10,
          1,
          5,
          7,
          0,
          7,
          1,
          7,
          9,
          11,
          10,
          7,
          3,
          9,
          2,
          4,
          9,
          0,
          7,
          8,
          7,
          8,
          7,
          0,
          2,
          13,
          0,
          5,
          15,
          4,
          1,
          1,
          0,
          3,
          8,
          7,
          4,
          5,
          0,
          0,
          1,
          1,
          0,
          4,
          9,
          3,
          10,
          9,
          8,
          7,
          17,
          0,
          6,
          6,
          6,
          8,
          0,
          5,
          7,
          8,
          1,
          8,
          5,
          7,
          11,
          5,
          3,
          4,
          4,
          8,
          5,
          7,
          0,
          9,
          12,
          5,
          5,
          5,
          0,
          2,
          3,
          4,
          6,
          4,
          7,
          0,
          9,
          3,
          6,
          9,
          12,
          1,
          11,
          3,
          4,
          0,
          2,
          10,
          7,
          0,
          7,
          2,
          1,
          0,
          2,
          1,
          2,
          14,
          0,
          2,
          5,
          10,
          0,
          2,
          2,
          7,
          3,
          6,
          3,
          0,
          13,
          1,
          2,
          1,
          5,
          9,
          7,
          5,
          9,
          1,
          13,
          1,
          5,
          4,
          6,
          1,
          3,
          12,
          4,
          5,
          8,
          5,
          5,
          4,
          0,
          3,
          4,
          5,
          5,
          4,
          8,
          1,
          0,
          3,
          4,
          3,
          8,
          4,
          1,
          1,
          0,
          0,
          8,
          4,
          0,
          0,
          2,
          14,
          10,
          8,
          2,
          3,
          0,
          0,
          4,
          7,
          6,
          0,
          12,
          3,
          9,
          9,
          4,
          3,
          8,
          3,
          10,
          8,
          5,
          6,
          0,
          0,
          2,
          2,
          0,
          8,
          8,
          3,
          11,
          3,
          0,
          1,
          7,
          4,
          1,
          3,
          7,
          11,
          9,
          0,
          7,
          13,
          7,
          6,
          1,
          0,
          11,
          2,
          3,
          1,
          8,
          9,
          6,
          4,
          10,
          6,
          9,
          3,
          0,
          4,
          1,
          13,
          7,
          7,
          3,
          6,
          1,
          10,
          9,
          2,
          10,
          7,
          3,
          5,
          1,
          3,
          8,
          2,
          1,
          11,
          9,
          1,
          3,
          6,
          4,
          0,
          8,
          1,
          0,
          6,
          9,
          1
         ],
         "y0": " ",
         "yaxis": "y"
        },
        {
         "alignmentgroup": "True",
         "hovertemplate": "Outcome=0<br>Pregnancies=%{y}<extra></extra>",
         "legendgroup": "0",
         "marker": {
          "color": "#EF553B"
         },
         "name": "0",
         "notched": false,
         "offsetgroup": "0",
         "orientation": "v",
         "showlegend": true,
         "type": "box",
         "x0": " ",
         "xaxis": "x",
         "y": [
          1,
          1,
          5,
          10,
          4,
          10,
          1,
          3,
          8,
          1,
          13,
          5,
          5,
          3,
          6,
          10,
          4,
          11,
          3,
          7,
          7,
          7,
          1,
          2,
          7,
          1,
          1,
          5,
          7,
          1,
          0,
          0,
          0,
          2,
          5,
          2,
          5,
          2,
          1,
          4,
          5,
          4,
          1,
          1,
          7,
          5,
          2,
          3,
          2,
          7,
          0,
          2,
          13,
          2,
          1,
          1,
          4,
          7,
          2,
          6,
          2,
          1,
          6,
          1,
          0,
          1,
          2,
          1,
          1,
          4,
          3,
          1,
          4,
          5,
          4,
          4,
          6,
          2,
          5,
          3,
          1,
          8,
          2,
          2,
          0,
          0,
          0,
          5,
          3,
          5,
          2,
          4,
          0,
          9,
          2,
          5,
          2,
          1,
          4,
          1,
          2,
          1,
          2,
          4,
          7,
          0,
          2,
          3,
          4,
          4,
          3,
          2,
          1,
          2,
          6,
          5,
          6,
          0,
          1,
          5,
          4,
          3,
          9,
          8,
          1,
          0,
          1,
          0,
          2,
          6,
          5,
          1,
          2,
          0,
          7,
          6,
          7,
          7,
          1,
          1,
          0,
          4,
          0,
          1,
          4,
          3,
          0,
          1,
          4,
          2,
          10,
          0,
          9,
          1,
          9,
          2,
          2,
          0,
          3,
          2,
          1,
          3,
          4,
          3,
          5,
          2,
          0,
          2,
          3,
          1,
          13,
          2,
          0,
          5,
          2,
          10,
          7,
          7,
          5,
          4,
          5,
          0,
          0,
          6,
          0,
          8,
          5,
          3,
          2,
          0,
          6,
          0,
          3,
          2,
          3,
          3,
          4,
          2,
          1,
          10,
          6,
          8,
          2,
          12,
          1,
          0,
          0,
          1,
          1,
          1,
          5,
          8,
          8,
          1,
          3,
          3,
          4,
          4,
          3,
          1,
          3,
          12,
          5,
          5,
          4,
          5,
          0,
          3,
          0,
          0,
          2,
          2,
          0,
          1,
          0,
          1,
          0,
          1,
          1,
          1,
          1,
          3,
          1,
          1,
          4,
          2,
          3,
          3,
          6,
          9,
          2,
          0,
          6,
          1,
          1,
          1,
          1,
          1,
          1,
          2,
          0,
          2,
          0,
          0,
          2,
          3,
          1,
          2,
          1,
          12,
          5,
          1,
          6,
          2,
          4,
          1,
          0,
          0,
          1,
          0,
          2,
          2,
          1,
          5,
          9,
          9,
          1,
          8,
          5,
          10,
          0,
          0,
          0,
          6,
          1,
          0,
          0,
          7,
          4,
          0,
          7,
          8,
          4,
          0,
          4,
          0,
          1,
          0,
          4,
          8,
          2,
          2,
          4,
          3,
          6,
          5,
          2,
          6,
          2,
          3,
          7,
          3,
          10,
          1,
          2,
          8,
          0,
          9,
          2,
          3,
          7,
          13,
          6,
          2,
          3,
          6,
          3,
          3,
          1,
          3,
          0,
          0,
          2,
          0,
          1,
          6,
          1,
          0,
          0,
          0,
          4,
          1,
          4,
          1,
          4,
          1,
          3,
          6,
          1,
          1,
          7,
          1,
          8,
          11,
          11,
          1,
          6,
          0,
          2,
          1,
          6,
          4,
          3,
          2,
          3,
          2,
          1,
          1,
          6,
          10,
          6,
          12,
          8,
          1,
          6,
          0,
          2,
          2,
          6,
          0,
          1,
          1,
          1,
          6,
          1,
          1,
          1,
          0,
          1,
          3,
          6,
          3,
          6,
          2,
          2,
          2,
          6,
          0,
          2,
          4,
          0,
          0,
          5,
          4,
          0,
          2,
          1,
          10,
          5,
          2,
          1,
          0,
          4,
          4,
          3,
          2,
          0,
          1,
          1,
          5,
          2,
          1,
          2,
          1,
          11,
          10,
          1,
          6,
          9,
          6,
          1,
          10,
          3,
          8,
          0,
          2,
          2,
          0,
          5,
          2,
          3,
          1,
          1,
          8,
          2,
          2,
          0,
          4,
          4,
          2,
          2,
          4,
          6,
          2,
          3,
          5,
          0,
          3,
          10,
          1,
          4,
          1,
          5,
          1,
          4,
          1,
          0,
          2,
          2,
          2,
          2,
          4,
          0,
          8,
          2,
          3,
          1,
          13,
          12,
          1,
          1,
          3,
          7,
          1,
          2,
          9,
          10,
          2,
          5,
          1
         ],
         "y0": " ",
         "yaxis": "y"
        }
       ],
       "layout": {
        "boxmode": "group",
        "legend": {
         "title": {
          "text": "Outcome"
         },
         "tracegroupgap": 0
        },
        "template": {
         "data": {
          "bar": [
           {
            "error_x": {
             "color": "#f2f5fa"
            },
            "error_y": {
             "color": "#f2f5fa"
            },
            "marker": {
             "line": {
              "color": "rgb(17,17,17)",
              "width": 0.5
             },
             "pattern": {
              "fillmode": "overlay",
              "size": 10,
              "solidity": 0.2
             }
            },
            "type": "bar"
           }
          ],
          "barpolar": [
           {
            "marker": {
             "line": {
              "color": "rgb(17,17,17)",
              "width": 0.5
             },
             "pattern": {
              "fillmode": "overlay",
              "size": 10,
              "solidity": 0.2
             }
            },
            "type": "barpolar"
           }
          ],
          "carpet": [
           {
            "aaxis": {
             "endlinecolor": "#A2B1C6",
             "gridcolor": "#506784",
             "linecolor": "#506784",
             "minorgridcolor": "#506784",
             "startlinecolor": "#A2B1C6"
            },
            "baxis": {
             "endlinecolor": "#A2B1C6",
             "gridcolor": "#506784",
             "linecolor": "#506784",
             "minorgridcolor": "#506784",
             "startlinecolor": "#A2B1C6"
            },
            "type": "carpet"
           }
          ],
          "choropleth": [
           {
            "colorbar": {
             "outlinewidth": 0,
             "ticks": ""
            },
            "type": "choropleth"
           }
          ],
          "contour": [
           {
            "colorbar": {
             "outlinewidth": 0,
             "ticks": ""
            },
            "colorscale": [
             [
              0,
              "#0d0887"
             ],
             [
              0.1111111111111111,
              "#46039f"
             ],
             [
              0.2222222222222222,
              "#7201a8"
             ],
             [
              0.3333333333333333,
              "#9c179e"
             ],
             [
              0.4444444444444444,
              "#bd3786"
             ],
             [
              0.5555555555555556,
              "#d8576b"
             ],
             [
              0.6666666666666666,
              "#ed7953"
             ],
             [
              0.7777777777777778,
              "#fb9f3a"
             ],
             [
              0.8888888888888888,
              "#fdca26"
             ],
             [
              1,
              "#f0f921"
             ]
            ],
            "type": "contour"
           }
          ],
          "contourcarpet": [
           {
            "colorbar": {
             "outlinewidth": 0,
             "ticks": ""
            },
            "type": "contourcarpet"
           }
          ],
          "heatmap": [
           {
            "colorbar": {
             "outlinewidth": 0,
             "ticks": ""
            },
            "colorscale": [
             [
              0,
              "#0d0887"
             ],
             [
              0.1111111111111111,
              "#46039f"
             ],
             [
              0.2222222222222222,
              "#7201a8"
             ],
             [
              0.3333333333333333,
              "#9c179e"
             ],
             [
              0.4444444444444444,
              "#bd3786"
             ],
             [
              0.5555555555555556,
              "#d8576b"
             ],
             [
              0.6666666666666666,
              "#ed7953"
             ],
             [
              0.7777777777777778,
              "#fb9f3a"
             ],
             [
              0.8888888888888888,
              "#fdca26"
             ],
             [
              1,
              "#f0f921"
             ]
            ],
            "type": "heatmap"
           }
          ],
          "heatmapgl": [
           {
            "colorbar": {
             "outlinewidth": 0,
             "ticks": ""
            },
            "colorscale": [
             [
              0,
              "#0d0887"
             ],
             [
              0.1111111111111111,
              "#46039f"
             ],
             [
              0.2222222222222222,
              "#7201a8"
             ],
             [
              0.3333333333333333,
              "#9c179e"
             ],
             [
              0.4444444444444444,
              "#bd3786"
             ],
             [
              0.5555555555555556,
              "#d8576b"
             ],
             [
              0.6666666666666666,
              "#ed7953"
             ],
             [
              0.7777777777777778,
              "#fb9f3a"
             ],
             [
              0.8888888888888888,
              "#fdca26"
             ],
             [
              1,
              "#f0f921"
             ]
            ],
            "type": "heatmapgl"
           }
          ],
          "histogram": [
           {
            "marker": {
             "pattern": {
              "fillmode": "overlay",
              "size": 10,
              "solidity": 0.2
             }
            },
            "type": "histogram"
           }
          ],
          "histogram2d": [
           {
            "colorbar": {
             "outlinewidth": 0,
             "ticks": ""
            },
            "colorscale": [
             [
              0,
              "#0d0887"
             ],
             [
              0.1111111111111111,
              "#46039f"
             ],
             [
              0.2222222222222222,
              "#7201a8"
             ],
             [
              0.3333333333333333,
              "#9c179e"
             ],
             [
              0.4444444444444444,
              "#bd3786"
             ],
             [
              0.5555555555555556,
              "#d8576b"
             ],
             [
              0.6666666666666666,
              "#ed7953"
             ],
             [
              0.7777777777777778,
              "#fb9f3a"
             ],
             [
              0.8888888888888888,
              "#fdca26"
             ],
             [
              1,
              "#f0f921"
             ]
            ],
            "type": "histogram2d"
           }
          ],
          "histogram2dcontour": [
           {
            "colorbar": {
             "outlinewidth": 0,
             "ticks": ""
            },
            "colorscale": [
             [
              0,
              "#0d0887"
             ],
             [
              0.1111111111111111,
              "#46039f"
             ],
             [
              0.2222222222222222,
              "#7201a8"
             ],
             [
              0.3333333333333333,
              "#9c179e"
             ],
             [
              0.4444444444444444,
              "#bd3786"
             ],
             [
              0.5555555555555556,
              "#d8576b"
             ],
             [
              0.6666666666666666,
              "#ed7953"
             ],
             [
              0.7777777777777778,
              "#fb9f3a"
             ],
             [
              0.8888888888888888,
              "#fdca26"
             ],
             [
              1,
              "#f0f921"
             ]
            ],
            "type": "histogram2dcontour"
           }
          ],
          "mesh3d": [
           {
            "colorbar": {
             "outlinewidth": 0,
             "ticks": ""
            },
            "type": "mesh3d"
           }
          ],
          "parcoords": [
           {
            "line": {
             "colorbar": {
              "outlinewidth": 0,
              "ticks": ""
             }
            },
            "type": "parcoords"
           }
          ],
          "pie": [
           {
            "automargin": true,
            "type": "pie"
           }
          ],
          "scatter": [
           {
            "marker": {
             "line": {
              "color": "#283442"
             }
            },
            "type": "scatter"
           }
          ],
          "scatter3d": [
           {
            "line": {
             "colorbar": {
              "outlinewidth": 0,
              "ticks": ""
             }
            },
            "marker": {
             "colorbar": {
              "outlinewidth": 0,
              "ticks": ""
             }
            },
            "type": "scatter3d"
           }
          ],
          "scattercarpet": [
           {
            "marker": {
             "colorbar": {
              "outlinewidth": 0,
              "ticks": ""
             }
            },
            "type": "scattercarpet"
           }
          ],
          "scattergeo": [
           {
            "marker": {
             "colorbar": {
              "outlinewidth": 0,
              "ticks": ""
             }
            },
            "type": "scattergeo"
           }
          ],
          "scattergl": [
           {
            "marker": {
             "line": {
              "color": "#283442"
             }
            },
            "type": "scattergl"
           }
          ],
          "scattermapbox": [
           {
            "marker": {
             "colorbar": {
              "outlinewidth": 0,
              "ticks": ""
             }
            },
            "type": "scattermapbox"
           }
          ],
          "scatterpolar": [
           {
            "marker": {
             "colorbar": {
              "outlinewidth": 0,
              "ticks": ""
             }
            },
            "type": "scatterpolar"
           }
          ],
          "scatterpolargl": [
           {
            "marker": {
             "colorbar": {
              "outlinewidth": 0,
              "ticks": ""
             }
            },
            "type": "scatterpolargl"
           }
          ],
          "scatterternary": [
           {
            "marker": {
             "colorbar": {
              "outlinewidth": 0,
              "ticks": ""
             }
            },
            "type": "scatterternary"
           }
          ],
          "surface": [
           {
            "colorbar": {
             "outlinewidth": 0,
             "ticks": ""
            },
            "colorscale": [
             [
              0,
              "#0d0887"
             ],
             [
              0.1111111111111111,
              "#46039f"
             ],
             [
              0.2222222222222222,
              "#7201a8"
             ],
             [
              0.3333333333333333,
              "#9c179e"
             ],
             [
              0.4444444444444444,
              "#bd3786"
             ],
             [
              0.5555555555555556,
              "#d8576b"
             ],
             [
              0.6666666666666666,
              "#ed7953"
             ],
             [
              0.7777777777777778,
              "#fb9f3a"
             ],
             [
              0.8888888888888888,
              "#fdca26"
             ],
             [
              1,
              "#f0f921"
             ]
            ],
            "type": "surface"
           }
          ],
          "table": [
           {
            "cells": {
             "fill": {
              "color": "#506784"
             },
             "line": {
              "color": "rgb(17,17,17)"
             }
            },
            "header": {
             "fill": {
              "color": "#2a3f5f"
             },
             "line": {
              "color": "rgb(17,17,17)"
             }
            },
            "type": "table"
           }
          ]
         },
         "layout": {
          "annotationdefaults": {
           "arrowcolor": "#f2f5fa",
           "arrowhead": 0,
           "arrowwidth": 1
          },
          "autotypenumbers": "strict",
          "coloraxis": {
           "colorbar": {
            "outlinewidth": 0,
            "ticks": ""
           }
          },
          "colorscale": {
           "diverging": [
            [
             0,
             "#8e0152"
            ],
            [
             0.1,
             "#c51b7d"
            ],
            [
             0.2,
             "#de77ae"
            ],
            [
             0.3,
             "#f1b6da"
            ],
            [
             0.4,
             "#fde0ef"
            ],
            [
             0.5,
             "#f7f7f7"
            ],
            [
             0.6,
             "#e6f5d0"
            ],
            [
             0.7,
             "#b8e186"
            ],
            [
             0.8,
             "#7fbc41"
            ],
            [
             0.9,
             "#4d9221"
            ],
            [
             1,
             "#276419"
            ]
           ],
           "sequential": [
            [
             0,
             "#0d0887"
            ],
            [
             0.1111111111111111,
             "#46039f"
            ],
            [
             0.2222222222222222,
             "#7201a8"
            ],
            [
             0.3333333333333333,
             "#9c179e"
            ],
            [
             0.4444444444444444,
             "#bd3786"
            ],
            [
             0.5555555555555556,
             "#d8576b"
            ],
            [
             0.6666666666666666,
             "#ed7953"
            ],
            [
             0.7777777777777778,
             "#fb9f3a"
            ],
            [
             0.8888888888888888,
             "#fdca26"
            ],
            [
             1,
             "#f0f921"
            ]
           ],
           "sequentialminus": [
            [
             0,
             "#0d0887"
            ],
            [
             0.1111111111111111,
             "#46039f"
            ],
            [
             0.2222222222222222,
             "#7201a8"
            ],
            [
             0.3333333333333333,
             "#9c179e"
            ],
            [
             0.4444444444444444,
             "#bd3786"
            ],
            [
             0.5555555555555556,
             "#d8576b"
            ],
            [
             0.6666666666666666,
             "#ed7953"
            ],
            [
             0.7777777777777778,
             "#fb9f3a"
            ],
            [
             0.8888888888888888,
             "#fdca26"
            ],
            [
             1,
             "#f0f921"
            ]
           ]
          },
          "colorway": [
           "#636efa",
           "#EF553B",
           "#00cc96",
           "#ab63fa",
           "#FFA15A",
           "#19d3f3",
           "#FF6692",
           "#B6E880",
           "#FF97FF",
           "#FECB52"
          ],
          "font": {
           "color": "#f2f5fa"
          },
          "geo": {
           "bgcolor": "rgb(17,17,17)",
           "lakecolor": "rgb(17,17,17)",
           "landcolor": "rgb(17,17,17)",
           "showlakes": true,
           "showland": true,
           "subunitcolor": "#506784"
          },
          "hoverlabel": {
           "align": "left"
          },
          "hovermode": "closest",
          "mapbox": {
           "style": "dark"
          },
          "paper_bgcolor": "rgb(17,17,17)",
          "plot_bgcolor": "rgb(17,17,17)",
          "polar": {
           "angularaxis": {
            "gridcolor": "#506784",
            "linecolor": "#506784",
            "ticks": ""
           },
           "bgcolor": "rgb(17,17,17)",
           "radialaxis": {
            "gridcolor": "#506784",
            "linecolor": "#506784",
            "ticks": ""
           }
          },
          "scene": {
           "xaxis": {
            "backgroundcolor": "rgb(17,17,17)",
            "gridcolor": "#506784",
            "gridwidth": 2,
            "linecolor": "#506784",
            "showbackground": true,
            "ticks": "",
            "zerolinecolor": "#C8D4E3"
           },
           "yaxis": {
            "backgroundcolor": "rgb(17,17,17)",
            "gridcolor": "#506784",
            "gridwidth": 2,
            "linecolor": "#506784",
            "showbackground": true,
            "ticks": "",
            "zerolinecolor": "#C8D4E3"
           },
           "zaxis": {
            "backgroundcolor": "rgb(17,17,17)",
            "gridcolor": "#506784",
            "gridwidth": 2,
            "linecolor": "#506784",
            "showbackground": true,
            "ticks": "",
            "zerolinecolor": "#C8D4E3"
           }
          },
          "shapedefaults": {
           "line": {
            "color": "#f2f5fa"
           }
          },
          "sliderdefaults": {
           "bgcolor": "#C8D4E3",
           "bordercolor": "rgb(17,17,17)",
           "borderwidth": 1,
           "tickwidth": 0
          },
          "ternary": {
           "aaxis": {
            "gridcolor": "#506784",
            "linecolor": "#506784",
            "ticks": ""
           },
           "baxis": {
            "gridcolor": "#506784",
            "linecolor": "#506784",
            "ticks": ""
           },
           "bgcolor": "rgb(17,17,17)",
           "caxis": {
            "gridcolor": "#506784",
            "linecolor": "#506784",
            "ticks": ""
           }
          },
          "title": {
           "x": 0.05
          },
          "updatemenudefaults": {
           "bgcolor": "#506784",
           "borderwidth": 0
          },
          "xaxis": {
           "automargin": true,
           "gridcolor": "#283442",
           "linecolor": "#506784",
           "ticks": "",
           "title": {
            "standoff": 15
           },
           "zerolinecolor": "#283442",
           "zerolinewidth": 2
          },
          "yaxis": {
           "automargin": true,
           "gridcolor": "#283442",
           "linecolor": "#506784",
           "ticks": "",
           "title": {
            "standoff": 15
           },
           "zerolinecolor": "#283442",
           "zerolinewidth": 2
          }
         }
        },
        "title": {
         "text": "Pregnancies"
        },
        "xaxis": {
         "anchor": "y",
         "domain": [
          0,
          1
         ]
        },
        "yaxis": {
         "anchor": "x",
         "domain": [
          0,
          1
         ],
         "title": {
          "text": "Pregnancies"
         }
        }
       }
      }
     },
     "metadata": {},
     "output_type": "display_data"
    },
    {
     "data": {
      "application/vnd.plotly.v1+json": {
       "config": {
        "plotlyServerURL": "https://plot.ly"
       },
       "data": [
        {
         "alignmentgroup": "True",
         "hovertemplate": "Outcome=1<br>Glucose=%{y}<extra></extra>",
         "legendgroup": "1",
         "marker": {
          "color": "#636efa"
         },
         "name": "1",
         "notched": false,
         "offsetgroup": "1",
         "orientation": "v",
         "showlegend": true,
         "type": "box",
         "x0": " ",
         "xaxis": "x",
         "y": [
          148,
          183,
          137,
          78,
          197,
          125,
          168,
          189,
          166,
          100,
          118,
          107,
          115,
          196,
          119,
          143,
          125,
          147,
          158,
          102,
          90,
          111,
          171,
          180,
          103,
          176,
          187,
          133,
          114,
          109,
          100,
          126,
          131,
          137,
          136,
          134,
          122,
          163,
          95,
          171,
          155,
          160,
          146,
          124,
          162,
          113,
          88,
          117,
          105,
          173,
          122,
          170,
          108,
          156,
          188,
          152,
          163,
          131,
          104,
          102,
          134,
          179,
          129,
          130,
          194,
          181,
          128,
          109,
          139,
          159,
          135,
          158,
          107,
          109,
          148,
          196,
          162,
          184,
          140,
          112,
          151,
          109,
          85,
          112,
          177,
          158,
          162,
          142,
          134,
          171,
          181,
          179,
          164,
          139,
          119,
          184,
          92,
          113,
          155,
          141,
          123,
          138,
          146,
          101,
          106,
          146,
          161,
          108,
          119,
          107,
          128,
          128,
          146,
          100,
          167,
          144,
          115,
          161,
          128,
          124,
          155,
          109,
          182,
          194,
          112,
          124,
          152,
          122,
          102,
          180,
          115,
          152,
          178,
          0,
          165,
          125,
          129,
          196,
          189,
          146,
          124,
          133,
          173,
          140,
          156,
          116,
          105,
          144,
          166,
          158,
          131,
          193,
          95,
          136,
          168,
          115,
          197,
          172,
          138,
          173,
          144,
          129,
          151,
          184,
          181,
          95,
          141,
          189,
          108,
          117,
          180,
          104,
          134,
          175,
          148,
          120,
          105,
          158,
          145,
          135,
          125,
          195,
          0,
          180,
          84,
          163,
          145,
          130,
          132,
          129,
          100,
          128,
          90,
          186,
          187,
          125,
          198,
          121,
          118,
          197,
          151,
          124,
          143,
          176,
          111,
          132,
          188,
          173,
          150,
          183,
          181,
          174,
          168,
          138,
          112,
          119,
          114,
          104,
          97,
          147,
          167,
          179,
          136,
          155,
          80,
          199,
          167,
          145,
          115,
          145,
          111,
          195,
          156,
          121,
          162,
          125,
          144,
          158,
          129,
          142,
          169,
          125,
          168,
          115,
          164,
          93,
          129,
          187,
          173,
          97,
          149,
          130,
          120,
          174,
          102,
          120,
          140,
          147,
          187,
          162,
          136,
          181,
          154,
          128,
          123,
          190,
          170,
          126
         ],
         "y0": " ",
         "yaxis": "y"
        },
        {
         "alignmentgroup": "True",
         "hovertemplate": "Outcome=0<br>Glucose=%{y}<extra></extra>",
         "legendgroup": "0",
         "marker": {
          "color": "#EF553B"
         },
         "name": "0",
         "notched": false,
         "offsetgroup": "0",
         "orientation": "v",
         "showlegend": true,
         "type": "box",
         "x0": " ",
         "xaxis": "x",
         "y": [
          85,
          89,
          116,
          115,
          110,
          139,
          103,
          126,
          99,
          97,
          145,
          117,
          109,
          88,
          92,
          122,
          103,
          138,
          180,
          133,
          106,
          159,
          146,
          71,
          105,
          103,
          101,
          88,
          150,
          73,
          100,
          146,
          105,
          84,
          44,
          141,
          99,
          109,
          95,
          146,
          139,
          129,
          79,
          0,
          62,
          95,
          112,
          113,
          74,
          83,
          101,
          110,
          106,
          100,
          107,
          80,
          123,
          81,
          142,
          144,
          92,
          71,
          93,
          151,
          125,
          81,
          85,
          126,
          96,
          144,
          83,
          89,
          76,
          78,
          97,
          99,
          111,
          107,
          132,
          120,
          118,
          84,
          96,
          125,
          100,
          93,
          129,
          105,
          128,
          106,
          108,
          154,
          102,
          57,
          106,
          147,
          90,
          136,
          114,
          153,
          99,
          109,
          88,
          151,
          102,
          114,
          100,
          148,
          120,
          110,
          111,
          87,
          79,
          75,
          85,
          143,
          87,
          119,
          0,
          73,
          141,
          111,
          123,
          85,
          105,
          113,
          138,
          108,
          99,
          103,
          111,
          96,
          81,
          147,
          179,
          125,
          119,
          142,
          100,
          87,
          101,
          197,
          117,
          79,
          122,
          74,
          104,
          91,
          91,
          146,
          122,
          165,
          124,
          111,
          106,
          129,
          90,
          86,
          111,
          114,
          193,
          191,
          95,
          142,
          96,
          128,
          102,
          108,
          122,
          71,
          106,
          100,
          104,
          114,
          108,
          129,
          133,
          136,
          155,
          96,
          108,
          78,
          161,
          151,
          126,
          112,
          77,
          150,
          120,
          137,
          80,
          106,
          113,
          112,
          99,
          115,
          129,
          112,
          157,
          179,
          105,
          118,
          87,
          106,
          95,
          165,
          117,
          130,
          95,
          0,
          122,
          95,
          126,
          139,
          116,
          99,
          92,
          137,
          61,
          90,
          90,
          88,
          158,
          103,
          147,
          99,
          101,
          81,
          118,
          84,
          105,
          122,
          98,
          87,
          93,
          107,
          105,
          109,
          90,
          125,
          119,
          100,
          100,
          131,
          116,
          127,
          96,
          82,
          137,
          72,
          123,
          101,
          102,
          112,
          143,
          143,
          97,
          83,
          119,
          94,
          102,
          115,
          94,
          135,
          99,
          89,
          80,
          139,
          90,
          140,
          147,
          97,
          107,
          83,
          117,
          100,
          95,
          120,
          82,
          91,
          119,
          100,
          135,
          86,
          134,
          120,
          71,
          74,
          88,
          115,
          124,
          74,
          97,
          154,
          144,
          137,
          119,
          136,
          114,
          137,
          114,
          126,
          132,
          123,
          85,
          84,
          139,
          173,
          99,
          194,
          83,
          89,
          99,
          80,
          166,
          110,
          81,
          154,
          117,
          84,
          94,
          96,
          75,
          130,
          84,
          120,
          139,
          91,
          91,
          99,
          125,
          76,
          129,
          68,
          124,
          114,
          125,
          87,
          97,
          116,
          117,
          111,
          122,
          107,
          86,
          91,
          77,
          105,
          57,
          127,
          84,
          88,
          131,
          164,
          189,
          116,
          84,
          114,
          88,
          84,
          124,
          97,
          110,
          103,
          85,
          87,
          99,
          91,
          95,
          99,
          92,
          154,
          78,
          130,
          111,
          98,
          143,
          119,
          108,
          133,
          109,
          121,
          100,
          93,
          103,
          73,
          112,
          82,
          123,
          67,
          89,
          109,
          108,
          96,
          124,
          124,
          92,
          152,
          111,
          106,
          105,
          106,
          117,
          68,
          112,
          92,
          183,
          94,
          108,
          90,
          125,
          132,
          128,
          94,
          102,
          111,
          128,
          92,
          104,
          94,
          100,
          102,
          128,
          90,
          103,
          157,
          107,
          91,
          117,
          123,
          120,
          106,
          101,
          120,
          127,
          162,
          112,
          98,
          154,
          165,
          99,
          68,
          123,
          91,
          93,
          101,
          56,
          95,
          136,
          129,
          130,
          107,
          140,
          107,
          121,
          90,
          99,
          127,
          118,
          122,
          129,
          110,
          80,
          127,
          158,
          126,
          134,
          102,
          94,
          108,
          83,
          114,
          117,
          111,
          112,
          116,
          141,
          175,
          92,
          106,
          105,
          95,
          126,
          65,
          99,
          102,
          109,
          153,
          100,
          81,
          121,
          108,
          137,
          106,
          88,
          89,
          101,
          122,
          121,
          93
         ],
         "y0": " ",
         "yaxis": "y"
        }
       ],
       "layout": {
        "boxmode": "group",
        "legend": {
         "title": {
          "text": "Outcome"
         },
         "tracegroupgap": 0
        },
        "template": {
         "data": {
          "bar": [
           {
            "error_x": {
             "color": "#f2f5fa"
            },
            "error_y": {
             "color": "#f2f5fa"
            },
            "marker": {
             "line": {
              "color": "rgb(17,17,17)",
              "width": 0.5
             },
             "pattern": {
              "fillmode": "overlay",
              "size": 10,
              "solidity": 0.2
             }
            },
            "type": "bar"
           }
          ],
          "barpolar": [
           {
            "marker": {
             "line": {
              "color": "rgb(17,17,17)",
              "width": 0.5
             },
             "pattern": {
              "fillmode": "overlay",
              "size": 10,
              "solidity": 0.2
             }
            },
            "type": "barpolar"
           }
          ],
          "carpet": [
           {
            "aaxis": {
             "endlinecolor": "#A2B1C6",
             "gridcolor": "#506784",
             "linecolor": "#506784",
             "minorgridcolor": "#506784",
             "startlinecolor": "#A2B1C6"
            },
            "baxis": {
             "endlinecolor": "#A2B1C6",
             "gridcolor": "#506784",
             "linecolor": "#506784",
             "minorgridcolor": "#506784",
             "startlinecolor": "#A2B1C6"
            },
            "type": "carpet"
           }
          ],
          "choropleth": [
           {
            "colorbar": {
             "outlinewidth": 0,
             "ticks": ""
            },
            "type": "choropleth"
           }
          ],
          "contour": [
           {
            "colorbar": {
             "outlinewidth": 0,
             "ticks": ""
            },
            "colorscale": [
             [
              0,
              "#0d0887"
             ],
             [
              0.1111111111111111,
              "#46039f"
             ],
             [
              0.2222222222222222,
              "#7201a8"
             ],
             [
              0.3333333333333333,
              "#9c179e"
             ],
             [
              0.4444444444444444,
              "#bd3786"
             ],
             [
              0.5555555555555556,
              "#d8576b"
             ],
             [
              0.6666666666666666,
              "#ed7953"
             ],
             [
              0.7777777777777778,
              "#fb9f3a"
             ],
             [
              0.8888888888888888,
              "#fdca26"
             ],
             [
              1,
              "#f0f921"
             ]
            ],
            "type": "contour"
           }
          ],
          "contourcarpet": [
           {
            "colorbar": {
             "outlinewidth": 0,
             "ticks": ""
            },
            "type": "contourcarpet"
           }
          ],
          "heatmap": [
           {
            "colorbar": {
             "outlinewidth": 0,
             "ticks": ""
            },
            "colorscale": [
             [
              0,
              "#0d0887"
             ],
             [
              0.1111111111111111,
              "#46039f"
             ],
             [
              0.2222222222222222,
              "#7201a8"
             ],
             [
              0.3333333333333333,
              "#9c179e"
             ],
             [
              0.4444444444444444,
              "#bd3786"
             ],
             [
              0.5555555555555556,
              "#d8576b"
             ],
             [
              0.6666666666666666,
              "#ed7953"
             ],
             [
              0.7777777777777778,
              "#fb9f3a"
             ],
             [
              0.8888888888888888,
              "#fdca26"
             ],
             [
              1,
              "#f0f921"
             ]
            ],
            "type": "heatmap"
           }
          ],
          "heatmapgl": [
           {
            "colorbar": {
             "outlinewidth": 0,
             "ticks": ""
            },
            "colorscale": [
             [
              0,
              "#0d0887"
             ],
             [
              0.1111111111111111,
              "#46039f"
             ],
             [
              0.2222222222222222,
              "#7201a8"
             ],
             [
              0.3333333333333333,
              "#9c179e"
             ],
             [
              0.4444444444444444,
              "#bd3786"
             ],
             [
              0.5555555555555556,
              "#d8576b"
             ],
             [
              0.6666666666666666,
              "#ed7953"
             ],
             [
              0.7777777777777778,
              "#fb9f3a"
             ],
             [
              0.8888888888888888,
              "#fdca26"
             ],
             [
              1,
              "#f0f921"
             ]
            ],
            "type": "heatmapgl"
           }
          ],
          "histogram": [
           {
            "marker": {
             "pattern": {
              "fillmode": "overlay",
              "size": 10,
              "solidity": 0.2
             }
            },
            "type": "histogram"
           }
          ],
          "histogram2d": [
           {
            "colorbar": {
             "outlinewidth": 0,
             "ticks": ""
            },
            "colorscale": [
             [
              0,
              "#0d0887"
             ],
             [
              0.1111111111111111,
              "#46039f"
             ],
             [
              0.2222222222222222,
              "#7201a8"
             ],
             [
              0.3333333333333333,
              "#9c179e"
             ],
             [
              0.4444444444444444,
              "#bd3786"
             ],
             [
              0.5555555555555556,
              "#d8576b"
             ],
             [
              0.6666666666666666,
              "#ed7953"
             ],
             [
              0.7777777777777778,
              "#fb9f3a"
             ],
             [
              0.8888888888888888,
              "#fdca26"
             ],
             [
              1,
              "#f0f921"
             ]
            ],
            "type": "histogram2d"
           }
          ],
          "histogram2dcontour": [
           {
            "colorbar": {
             "outlinewidth": 0,
             "ticks": ""
            },
            "colorscale": [
             [
              0,
              "#0d0887"
             ],
             [
              0.1111111111111111,
              "#46039f"
             ],
             [
              0.2222222222222222,
              "#7201a8"
             ],
             [
              0.3333333333333333,
              "#9c179e"
             ],
             [
              0.4444444444444444,
              "#bd3786"
             ],
             [
              0.5555555555555556,
              "#d8576b"
             ],
             [
              0.6666666666666666,
              "#ed7953"
             ],
             [
              0.7777777777777778,
              "#fb9f3a"
             ],
             [
              0.8888888888888888,
              "#fdca26"
             ],
             [
              1,
              "#f0f921"
             ]
            ],
            "type": "histogram2dcontour"
           }
          ],
          "mesh3d": [
           {
            "colorbar": {
             "outlinewidth": 0,
             "ticks": ""
            },
            "type": "mesh3d"
           }
          ],
          "parcoords": [
           {
            "line": {
             "colorbar": {
              "outlinewidth": 0,
              "ticks": ""
             }
            },
            "type": "parcoords"
           }
          ],
          "pie": [
           {
            "automargin": true,
            "type": "pie"
           }
          ],
          "scatter": [
           {
            "marker": {
             "line": {
              "color": "#283442"
             }
            },
            "type": "scatter"
           }
          ],
          "scatter3d": [
           {
            "line": {
             "colorbar": {
              "outlinewidth": 0,
              "ticks": ""
             }
            },
            "marker": {
             "colorbar": {
              "outlinewidth": 0,
              "ticks": ""
             }
            },
            "type": "scatter3d"
           }
          ],
          "scattercarpet": [
           {
            "marker": {
             "colorbar": {
              "outlinewidth": 0,
              "ticks": ""
             }
            },
            "type": "scattercarpet"
           }
          ],
          "scattergeo": [
           {
            "marker": {
             "colorbar": {
              "outlinewidth": 0,
              "ticks": ""
             }
            },
            "type": "scattergeo"
           }
          ],
          "scattergl": [
           {
            "marker": {
             "line": {
              "color": "#283442"
             }
            },
            "type": "scattergl"
           }
          ],
          "scattermapbox": [
           {
            "marker": {
             "colorbar": {
              "outlinewidth": 0,
              "ticks": ""
             }
            },
            "type": "scattermapbox"
           }
          ],
          "scatterpolar": [
           {
            "marker": {
             "colorbar": {
              "outlinewidth": 0,
              "ticks": ""
             }
            },
            "type": "scatterpolar"
           }
          ],
          "scatterpolargl": [
           {
            "marker": {
             "colorbar": {
              "outlinewidth": 0,
              "ticks": ""
             }
            },
            "type": "scatterpolargl"
           }
          ],
          "scatterternary": [
           {
            "marker": {
             "colorbar": {
              "outlinewidth": 0,
              "ticks": ""
             }
            },
            "type": "scatterternary"
           }
          ],
          "surface": [
           {
            "colorbar": {
             "outlinewidth": 0,
             "ticks": ""
            },
            "colorscale": [
             [
              0,
              "#0d0887"
             ],
             [
              0.1111111111111111,
              "#46039f"
             ],
             [
              0.2222222222222222,
              "#7201a8"
             ],
             [
              0.3333333333333333,
              "#9c179e"
             ],
             [
              0.4444444444444444,
              "#bd3786"
             ],
             [
              0.5555555555555556,
              "#d8576b"
             ],
             [
              0.6666666666666666,
              "#ed7953"
             ],
             [
              0.7777777777777778,
              "#fb9f3a"
             ],
             [
              0.8888888888888888,
              "#fdca26"
             ],
             [
              1,
              "#f0f921"
             ]
            ],
            "type": "surface"
           }
          ],
          "table": [
           {
            "cells": {
             "fill": {
              "color": "#506784"
             },
             "line": {
              "color": "rgb(17,17,17)"
             }
            },
            "header": {
             "fill": {
              "color": "#2a3f5f"
             },
             "line": {
              "color": "rgb(17,17,17)"
             }
            },
            "type": "table"
           }
          ]
         },
         "layout": {
          "annotationdefaults": {
           "arrowcolor": "#f2f5fa",
           "arrowhead": 0,
           "arrowwidth": 1
          },
          "autotypenumbers": "strict",
          "coloraxis": {
           "colorbar": {
            "outlinewidth": 0,
            "ticks": ""
           }
          },
          "colorscale": {
           "diverging": [
            [
             0,
             "#8e0152"
            ],
            [
             0.1,
             "#c51b7d"
            ],
            [
             0.2,
             "#de77ae"
            ],
            [
             0.3,
             "#f1b6da"
            ],
            [
             0.4,
             "#fde0ef"
            ],
            [
             0.5,
             "#f7f7f7"
            ],
            [
             0.6,
             "#e6f5d0"
            ],
            [
             0.7,
             "#b8e186"
            ],
            [
             0.8,
             "#7fbc41"
            ],
            [
             0.9,
             "#4d9221"
            ],
            [
             1,
             "#276419"
            ]
           ],
           "sequential": [
            [
             0,
             "#0d0887"
            ],
            [
             0.1111111111111111,
             "#46039f"
            ],
            [
             0.2222222222222222,
             "#7201a8"
            ],
            [
             0.3333333333333333,
             "#9c179e"
            ],
            [
             0.4444444444444444,
             "#bd3786"
            ],
            [
             0.5555555555555556,
             "#d8576b"
            ],
            [
             0.6666666666666666,
             "#ed7953"
            ],
            [
             0.7777777777777778,
             "#fb9f3a"
            ],
            [
             0.8888888888888888,
             "#fdca26"
            ],
            [
             1,
             "#f0f921"
            ]
           ],
           "sequentialminus": [
            [
             0,
             "#0d0887"
            ],
            [
             0.1111111111111111,
             "#46039f"
            ],
            [
             0.2222222222222222,
             "#7201a8"
            ],
            [
             0.3333333333333333,
             "#9c179e"
            ],
            [
             0.4444444444444444,
             "#bd3786"
            ],
            [
             0.5555555555555556,
             "#d8576b"
            ],
            [
             0.6666666666666666,
             "#ed7953"
            ],
            [
             0.7777777777777778,
             "#fb9f3a"
            ],
            [
             0.8888888888888888,
             "#fdca26"
            ],
            [
             1,
             "#f0f921"
            ]
           ]
          },
          "colorway": [
           "#636efa",
           "#EF553B",
           "#00cc96",
           "#ab63fa",
           "#FFA15A",
           "#19d3f3",
           "#FF6692",
           "#B6E880",
           "#FF97FF",
           "#FECB52"
          ],
          "font": {
           "color": "#f2f5fa"
          },
          "geo": {
           "bgcolor": "rgb(17,17,17)",
           "lakecolor": "rgb(17,17,17)",
           "landcolor": "rgb(17,17,17)",
           "showlakes": true,
           "showland": true,
           "subunitcolor": "#506784"
          },
          "hoverlabel": {
           "align": "left"
          },
          "hovermode": "closest",
          "mapbox": {
           "style": "dark"
          },
          "paper_bgcolor": "rgb(17,17,17)",
          "plot_bgcolor": "rgb(17,17,17)",
          "polar": {
           "angularaxis": {
            "gridcolor": "#506784",
            "linecolor": "#506784",
            "ticks": ""
           },
           "bgcolor": "rgb(17,17,17)",
           "radialaxis": {
            "gridcolor": "#506784",
            "linecolor": "#506784",
            "ticks": ""
           }
          },
          "scene": {
           "xaxis": {
            "backgroundcolor": "rgb(17,17,17)",
            "gridcolor": "#506784",
            "gridwidth": 2,
            "linecolor": "#506784",
            "showbackground": true,
            "ticks": "",
            "zerolinecolor": "#C8D4E3"
           },
           "yaxis": {
            "backgroundcolor": "rgb(17,17,17)",
            "gridcolor": "#506784",
            "gridwidth": 2,
            "linecolor": "#506784",
            "showbackground": true,
            "ticks": "",
            "zerolinecolor": "#C8D4E3"
           },
           "zaxis": {
            "backgroundcolor": "rgb(17,17,17)",
            "gridcolor": "#506784",
            "gridwidth": 2,
            "linecolor": "#506784",
            "showbackground": true,
            "ticks": "",
            "zerolinecolor": "#C8D4E3"
           }
          },
          "shapedefaults": {
           "line": {
            "color": "#f2f5fa"
           }
          },
          "sliderdefaults": {
           "bgcolor": "#C8D4E3",
           "bordercolor": "rgb(17,17,17)",
           "borderwidth": 1,
           "tickwidth": 0
          },
          "ternary": {
           "aaxis": {
            "gridcolor": "#506784",
            "linecolor": "#506784",
            "ticks": ""
           },
           "baxis": {
            "gridcolor": "#506784",
            "linecolor": "#506784",
            "ticks": ""
           },
           "bgcolor": "rgb(17,17,17)",
           "caxis": {
            "gridcolor": "#506784",
            "linecolor": "#506784",
            "ticks": ""
           }
          },
          "title": {
           "x": 0.05
          },
          "updatemenudefaults": {
           "bgcolor": "#506784",
           "borderwidth": 0
          },
          "xaxis": {
           "automargin": true,
           "gridcolor": "#283442",
           "linecolor": "#506784",
           "ticks": "",
           "title": {
            "standoff": 15
           },
           "zerolinecolor": "#283442",
           "zerolinewidth": 2
          },
          "yaxis": {
           "automargin": true,
           "gridcolor": "#283442",
           "linecolor": "#506784",
           "ticks": "",
           "title": {
            "standoff": 15
           },
           "zerolinecolor": "#283442",
           "zerolinewidth": 2
          }
         }
        },
        "title": {
         "text": "Glucose"
        },
        "xaxis": {
         "anchor": "y",
         "domain": [
          0,
          1
         ]
        },
        "yaxis": {
         "anchor": "x",
         "domain": [
          0,
          1
         ],
         "title": {
          "text": "Glucose"
         }
        }
       }
      }
     },
     "metadata": {},
     "output_type": "display_data"
    },
    {
     "data": {
      "application/vnd.plotly.v1+json": {
       "config": {
        "plotlyServerURL": "https://plot.ly"
       },
       "data": [
        {
         "alignmentgroup": "True",
         "hovertemplate": "Outcome=1<br>BloodPressure=%{y}<extra></extra>",
         "legendgroup": "1",
         "marker": {
          "color": "#636efa"
         },
         "name": "1",
         "notched": false,
         "offsetgroup": "1",
         "orientation": "v",
         "showlegend": true,
         "type": "box",
         "x0": " ",
         "xaxis": "x",
         "y": [
          72,
          64,
          40,
          50,
          70,
          96,
          74,
          60,
          72,
          0,
          84,
          74,
          70,
          90,
          80,
          94,
          70,
          76,
          76,
          76,
          68,
          72,
          110,
          66,
          66,
          90,
          68,
          72,
          66,
          88,
          66,
          90,
          0,
          108,
          70,
          72,
          90,
          72,
          85,
          72,
          62,
          54,
          92,
          74,
          76,
          76,
          30,
          88,
          84,
          70,
          56,
          64,
          66,
          86,
          78,
          88,
          72,
          88,
          74,
          82,
          70,
          72,
          110,
          82,
          68,
          68,
          98,
          76,
          80,
          66,
          0,
          84,
          62,
          64,
          60,
          76,
          104,
          84,
          65,
          82,
          70,
          62,
          74,
          66,
          60,
          90,
          52,
          86,
          80,
          72,
          84,
          90,
          84,
          54,
          50,
          85,
          62,
          64,
          76,
          0,
          62,
          0,
          0,
          86,
          60,
          70,
          86,
          80,
          86,
          62,
          78,
          48,
          70,
          78,
          0,
          58,
          98,
          68,
          68,
          68,
          74,
          80,
          74,
          78,
          74,
          70,
          90,
          64,
          86,
          0,
          76,
          78,
          84,
          80,
          88,
          50,
          0,
          76,
          64,
          78,
          72,
          102,
          82,
          82,
          75,
          74,
          100,
          82,
          76,
          78,
          66,
          70,
          64,
          84,
          64,
          72,
          74,
          68,
          60,
          84,
          82,
          64,
          78,
          78,
          64,
          82,
          0,
          104,
          70,
          62,
          78,
          64,
          70,
          62,
          84,
          0,
          80,
          70,
          0,
          68,
          70,
          70,
          68,
          90,
          72,
          70,
          88,
          70,
          0,
          92,
          74,
          72,
          85,
          90,
          76,
          76,
          66,
          66,
          80,
          70,
          90,
          76,
          66,
          86,
          84,
          80,
          82,
          74,
          78,
          0,
          78,
          58,
          88,
          74,
          82,
          0,
          64,
          72,
          76,
          80,
          74,
          50,
          84,
          52,
          82,
          76,
          106,
          80,
          60,
          82,
          70,
          70,
          86,
          52,
          76,
          80,
          82,
          114,
          68,
          90,
          74,
          78,
          88,
          0,
          78,
          64,
          62,
          50,
          78,
          76,
          68,
          78,
          86,
          88,
          74,
          80,
          94,
          94,
          70,
          62,
          70,
          88,
          78,
          88,
          72,
          92,
          74,
          60
         ],
         "y0": " ",
         "yaxis": "y"
        },
        {
         "alignmentgroup": "True",
         "hovertemplate": "Outcome=0<br>BloodPressure=%{y}<extra></extra>",
         "legendgroup": "0",
         "marker": {
          "color": "#EF553B"
         },
         "name": "0",
         "notched": false,
         "offsetgroup": "0",
         "orientation": "v",
         "showlegend": true,
         "type": "box",
         "x0": " ",
         "xaxis": "x",
         "y": [
          66,
          66,
          74,
          0,
          92,
          80,
          30,
          88,
          84,
          66,
          82,
          92,
          75,
          58,
          92,
          78,
          60,
          76,
          64,
          84,
          92,
          64,
          56,
          70,
          0,
          80,
          50,
          66,
          66,
          50,
          88,
          82,
          64,
          0,
          62,
          58,
          74,
          92,
          66,
          85,
          64,
          86,
          75,
          48,
          78,
          72,
          66,
          44,
          0,
          78,
          65,
          74,
          72,
          68,
          68,
          55,
          80,
          78,
          82,
          72,
          62,
          48,
          50,
          60,
          96,
          72,
          65,
          56,
          122,
          58,
          58,
          76,
          62,
          48,
          60,
          76,
          64,
          74,
          80,
          70,
          58,
          74,
          68,
          60,
          70,
          60,
          80,
          72,
          78,
          82,
          52,
          62,
          75,
          80,
          64,
          78,
          70,
          74,
          65,
          82,
          52,
          56,
          74,
          90,
          74,
          80,
          64,
          66,
          68,
          66,
          90,
          0,
          60,
          64,
          78,
          78,
          80,
          64,
          74,
          60,
          74,
          62,
          70,
          55,
          58,
          80,
          82,
          68,
          70,
          72,
          72,
          64,
          60,
          85,
          95,
          68,
          0,
          60,
          66,
          78,
          76,
          70,
          80,
          80,
          68,
          68,
          76,
          64,
          70,
          76,
          68,
          90,
          70,
          86,
          52,
          84,
          80,
          68,
          56,
          68,
          50,
          68,
          70,
          80,
          74,
          64,
          52,
          62,
          78,
          78,
          70,
          70,
          64,
          74,
          62,
          76,
          88,
          74,
          84,
          56,
          72,
          88,
          50,
          62,
          84,
          72,
          82,
          76,
          76,
          68,
          66,
          70,
          50,
          68,
          80,
          66,
          60,
          75,
          72,
          70,
          70,
          72,
          58,
          80,
          60,
          76,
          0,
          70,
          74,
          68,
          86,
          72,
          88,
          46,
          0,
          62,
          80,
          84,
          82,
          62,
          78,
          74,
          70,
          108,
          74,
          54,
          64,
          86,
          64,
          64,
          58,
          52,
          82,
          60,
          100,
          72,
          68,
          60,
          62,
          70,
          54,
          68,
          66,
          64,
          72,
          58,
          56,
          70,
          61,
          78,
          48,
          62,
          90,
          72,
          84,
          74,
          68,
          68,
          88,
          68,
          64,
          64,
          0,
          94,
          0,
          74,
          74,
          75,
          68,
          85,
          75,
          70,
          88,
          66,
          64,
          72,
          80,
          74,
          64,
          68,
          0,
          54,
          54,
          68,
          74,
          72,
          62,
          70,
          78,
          98,
          56,
          52,
          64,
          78,
          82,
          70,
          66,
          90,
          64,
          84,
          76,
          74,
          86,
          88,
          58,
          82,
          62,
          78,
          72,
          80,
          65,
          90,
          68,
          0,
          74,
          68,
          72,
          74,
          90,
          72,
          64,
          78,
          82,
          60,
          50,
          78,
          62,
          68,
          62,
          54,
          86,
          60,
          90,
          70,
          80,
          0,
          58,
          60,
          64,
          74,
          66,
          65,
          60,
          76,
          66,
          0,
          56,
          90,
          60,
          80,
          90,
          78,
          68,
          82,
          110,
          70,
          68,
          88,
          62,
          64,
          70,
          70,
          76,
          68,
          74,
          68,
          60,
          80,
          54,
          72,
          62,
          72,
          70,
          96,
          58,
          60,
          86,
          44,
          44,
          68,
          60,
          78,
          76,
          56,
          66,
          0,
          78,
          52,
          72,
          76,
          24,
          38,
          88,
          0,
          74,
          60,
          62,
          82,
          62,
          54,
          80,
          72,
          96,
          62,
          86,
          76,
          94,
          70,
          64,
          88,
          68,
          78,
          80,
          65,
          78,
          60,
          82,
          62,
          74,
          76,
          74,
          86,
          70,
          0,
          72,
          74,
          60,
          54,
          60,
          74,
          54,
          70,
          58,
          80,
          106,
          84,
          80,
          58,
          78,
          68,
          58,
          106,
          100,
          82,
          60,
          58,
          56,
          64,
          82,
          74,
          64,
          50,
          74,
          80,
          70,
          60,
          0,
          88,
          70,
          76,
          0,
          76,
          80,
          46,
          64,
          78,
          58,
          74,
          72,
          60,
          86,
          66,
          86,
          94,
          78,
          78,
          84,
          88,
          52,
          56,
          75,
          60,
          86,
          72,
          60,
          44,
          58,
          88,
          84,
          74,
          78,
          62,
          90,
          76,
          58,
          62,
          76,
          70,
          72,
          70
         ],
         "y0": " ",
         "yaxis": "y"
        }
       ],
       "layout": {
        "boxmode": "group",
        "legend": {
         "title": {
          "text": "Outcome"
         },
         "tracegroupgap": 0
        },
        "template": {
         "data": {
          "bar": [
           {
            "error_x": {
             "color": "#f2f5fa"
            },
            "error_y": {
             "color": "#f2f5fa"
            },
            "marker": {
             "line": {
              "color": "rgb(17,17,17)",
              "width": 0.5
             },
             "pattern": {
              "fillmode": "overlay",
              "size": 10,
              "solidity": 0.2
             }
            },
            "type": "bar"
           }
          ],
          "barpolar": [
           {
            "marker": {
             "line": {
              "color": "rgb(17,17,17)",
              "width": 0.5
             },
             "pattern": {
              "fillmode": "overlay",
              "size": 10,
              "solidity": 0.2
             }
            },
            "type": "barpolar"
           }
          ],
          "carpet": [
           {
            "aaxis": {
             "endlinecolor": "#A2B1C6",
             "gridcolor": "#506784",
             "linecolor": "#506784",
             "minorgridcolor": "#506784",
             "startlinecolor": "#A2B1C6"
            },
            "baxis": {
             "endlinecolor": "#A2B1C6",
             "gridcolor": "#506784",
             "linecolor": "#506784",
             "minorgridcolor": "#506784",
             "startlinecolor": "#A2B1C6"
            },
            "type": "carpet"
           }
          ],
          "choropleth": [
           {
            "colorbar": {
             "outlinewidth": 0,
             "ticks": ""
            },
            "type": "choropleth"
           }
          ],
          "contour": [
           {
            "colorbar": {
             "outlinewidth": 0,
             "ticks": ""
            },
            "colorscale": [
             [
              0,
              "#0d0887"
             ],
             [
              0.1111111111111111,
              "#46039f"
             ],
             [
              0.2222222222222222,
              "#7201a8"
             ],
             [
              0.3333333333333333,
              "#9c179e"
             ],
             [
              0.4444444444444444,
              "#bd3786"
             ],
             [
              0.5555555555555556,
              "#d8576b"
             ],
             [
              0.6666666666666666,
              "#ed7953"
             ],
             [
              0.7777777777777778,
              "#fb9f3a"
             ],
             [
              0.8888888888888888,
              "#fdca26"
             ],
             [
              1,
              "#f0f921"
             ]
            ],
            "type": "contour"
           }
          ],
          "contourcarpet": [
           {
            "colorbar": {
             "outlinewidth": 0,
             "ticks": ""
            },
            "type": "contourcarpet"
           }
          ],
          "heatmap": [
           {
            "colorbar": {
             "outlinewidth": 0,
             "ticks": ""
            },
            "colorscale": [
             [
              0,
              "#0d0887"
             ],
             [
              0.1111111111111111,
              "#46039f"
             ],
             [
              0.2222222222222222,
              "#7201a8"
             ],
             [
              0.3333333333333333,
              "#9c179e"
             ],
             [
              0.4444444444444444,
              "#bd3786"
             ],
             [
              0.5555555555555556,
              "#d8576b"
             ],
             [
              0.6666666666666666,
              "#ed7953"
             ],
             [
              0.7777777777777778,
              "#fb9f3a"
             ],
             [
              0.8888888888888888,
              "#fdca26"
             ],
             [
              1,
              "#f0f921"
             ]
            ],
            "type": "heatmap"
           }
          ],
          "heatmapgl": [
           {
            "colorbar": {
             "outlinewidth": 0,
             "ticks": ""
            },
            "colorscale": [
             [
              0,
              "#0d0887"
             ],
             [
              0.1111111111111111,
              "#46039f"
             ],
             [
              0.2222222222222222,
              "#7201a8"
             ],
             [
              0.3333333333333333,
              "#9c179e"
             ],
             [
              0.4444444444444444,
              "#bd3786"
             ],
             [
              0.5555555555555556,
              "#d8576b"
             ],
             [
              0.6666666666666666,
              "#ed7953"
             ],
             [
              0.7777777777777778,
              "#fb9f3a"
             ],
             [
              0.8888888888888888,
              "#fdca26"
             ],
             [
              1,
              "#f0f921"
             ]
            ],
            "type": "heatmapgl"
           }
          ],
          "histogram": [
           {
            "marker": {
             "pattern": {
              "fillmode": "overlay",
              "size": 10,
              "solidity": 0.2
             }
            },
            "type": "histogram"
           }
          ],
          "histogram2d": [
           {
            "colorbar": {
             "outlinewidth": 0,
             "ticks": ""
            },
            "colorscale": [
             [
              0,
              "#0d0887"
             ],
             [
              0.1111111111111111,
              "#46039f"
             ],
             [
              0.2222222222222222,
              "#7201a8"
             ],
             [
              0.3333333333333333,
              "#9c179e"
             ],
             [
              0.4444444444444444,
              "#bd3786"
             ],
             [
              0.5555555555555556,
              "#d8576b"
             ],
             [
              0.6666666666666666,
              "#ed7953"
             ],
             [
              0.7777777777777778,
              "#fb9f3a"
             ],
             [
              0.8888888888888888,
              "#fdca26"
             ],
             [
              1,
              "#f0f921"
             ]
            ],
            "type": "histogram2d"
           }
          ],
          "histogram2dcontour": [
           {
            "colorbar": {
             "outlinewidth": 0,
             "ticks": ""
            },
            "colorscale": [
             [
              0,
              "#0d0887"
             ],
             [
              0.1111111111111111,
              "#46039f"
             ],
             [
              0.2222222222222222,
              "#7201a8"
             ],
             [
              0.3333333333333333,
              "#9c179e"
             ],
             [
              0.4444444444444444,
              "#bd3786"
             ],
             [
              0.5555555555555556,
              "#d8576b"
             ],
             [
              0.6666666666666666,
              "#ed7953"
             ],
             [
              0.7777777777777778,
              "#fb9f3a"
             ],
             [
              0.8888888888888888,
              "#fdca26"
             ],
             [
              1,
              "#f0f921"
             ]
            ],
            "type": "histogram2dcontour"
           }
          ],
          "mesh3d": [
           {
            "colorbar": {
             "outlinewidth": 0,
             "ticks": ""
            },
            "type": "mesh3d"
           }
          ],
          "parcoords": [
           {
            "line": {
             "colorbar": {
              "outlinewidth": 0,
              "ticks": ""
             }
            },
            "type": "parcoords"
           }
          ],
          "pie": [
           {
            "automargin": true,
            "type": "pie"
           }
          ],
          "scatter": [
           {
            "marker": {
             "line": {
              "color": "#283442"
             }
            },
            "type": "scatter"
           }
          ],
          "scatter3d": [
           {
            "line": {
             "colorbar": {
              "outlinewidth": 0,
              "ticks": ""
             }
            },
            "marker": {
             "colorbar": {
              "outlinewidth": 0,
              "ticks": ""
             }
            },
            "type": "scatter3d"
           }
          ],
          "scattercarpet": [
           {
            "marker": {
             "colorbar": {
              "outlinewidth": 0,
              "ticks": ""
             }
            },
            "type": "scattercarpet"
           }
          ],
          "scattergeo": [
           {
            "marker": {
             "colorbar": {
              "outlinewidth": 0,
              "ticks": ""
             }
            },
            "type": "scattergeo"
           }
          ],
          "scattergl": [
           {
            "marker": {
             "line": {
              "color": "#283442"
             }
            },
            "type": "scattergl"
           }
          ],
          "scattermapbox": [
           {
            "marker": {
             "colorbar": {
              "outlinewidth": 0,
              "ticks": ""
             }
            },
            "type": "scattermapbox"
           }
          ],
          "scatterpolar": [
           {
            "marker": {
             "colorbar": {
              "outlinewidth": 0,
              "ticks": ""
             }
            },
            "type": "scatterpolar"
           }
          ],
          "scatterpolargl": [
           {
            "marker": {
             "colorbar": {
              "outlinewidth": 0,
              "ticks": ""
             }
            },
            "type": "scatterpolargl"
           }
          ],
          "scatterternary": [
           {
            "marker": {
             "colorbar": {
              "outlinewidth": 0,
              "ticks": ""
             }
            },
            "type": "scatterternary"
           }
          ],
          "surface": [
           {
            "colorbar": {
             "outlinewidth": 0,
             "ticks": ""
            },
            "colorscale": [
             [
              0,
              "#0d0887"
             ],
             [
              0.1111111111111111,
              "#46039f"
             ],
             [
              0.2222222222222222,
              "#7201a8"
             ],
             [
              0.3333333333333333,
              "#9c179e"
             ],
             [
              0.4444444444444444,
              "#bd3786"
             ],
             [
              0.5555555555555556,
              "#d8576b"
             ],
             [
              0.6666666666666666,
              "#ed7953"
             ],
             [
              0.7777777777777778,
              "#fb9f3a"
             ],
             [
              0.8888888888888888,
              "#fdca26"
             ],
             [
              1,
              "#f0f921"
             ]
            ],
            "type": "surface"
           }
          ],
          "table": [
           {
            "cells": {
             "fill": {
              "color": "#506784"
             },
             "line": {
              "color": "rgb(17,17,17)"
             }
            },
            "header": {
             "fill": {
              "color": "#2a3f5f"
             },
             "line": {
              "color": "rgb(17,17,17)"
             }
            },
            "type": "table"
           }
          ]
         },
         "layout": {
          "annotationdefaults": {
           "arrowcolor": "#f2f5fa",
           "arrowhead": 0,
           "arrowwidth": 1
          },
          "autotypenumbers": "strict",
          "coloraxis": {
           "colorbar": {
            "outlinewidth": 0,
            "ticks": ""
           }
          },
          "colorscale": {
           "diverging": [
            [
             0,
             "#8e0152"
            ],
            [
             0.1,
             "#c51b7d"
            ],
            [
             0.2,
             "#de77ae"
            ],
            [
             0.3,
             "#f1b6da"
            ],
            [
             0.4,
             "#fde0ef"
            ],
            [
             0.5,
             "#f7f7f7"
            ],
            [
             0.6,
             "#e6f5d0"
            ],
            [
             0.7,
             "#b8e186"
            ],
            [
             0.8,
             "#7fbc41"
            ],
            [
             0.9,
             "#4d9221"
            ],
            [
             1,
             "#276419"
            ]
           ],
           "sequential": [
            [
             0,
             "#0d0887"
            ],
            [
             0.1111111111111111,
             "#46039f"
            ],
            [
             0.2222222222222222,
             "#7201a8"
            ],
            [
             0.3333333333333333,
             "#9c179e"
            ],
            [
             0.4444444444444444,
             "#bd3786"
            ],
            [
             0.5555555555555556,
             "#d8576b"
            ],
            [
             0.6666666666666666,
             "#ed7953"
            ],
            [
             0.7777777777777778,
             "#fb9f3a"
            ],
            [
             0.8888888888888888,
             "#fdca26"
            ],
            [
             1,
             "#f0f921"
            ]
           ],
           "sequentialminus": [
            [
             0,
             "#0d0887"
            ],
            [
             0.1111111111111111,
             "#46039f"
            ],
            [
             0.2222222222222222,
             "#7201a8"
            ],
            [
             0.3333333333333333,
             "#9c179e"
            ],
            [
             0.4444444444444444,
             "#bd3786"
            ],
            [
             0.5555555555555556,
             "#d8576b"
            ],
            [
             0.6666666666666666,
             "#ed7953"
            ],
            [
             0.7777777777777778,
             "#fb9f3a"
            ],
            [
             0.8888888888888888,
             "#fdca26"
            ],
            [
             1,
             "#f0f921"
            ]
           ]
          },
          "colorway": [
           "#636efa",
           "#EF553B",
           "#00cc96",
           "#ab63fa",
           "#FFA15A",
           "#19d3f3",
           "#FF6692",
           "#B6E880",
           "#FF97FF",
           "#FECB52"
          ],
          "font": {
           "color": "#f2f5fa"
          },
          "geo": {
           "bgcolor": "rgb(17,17,17)",
           "lakecolor": "rgb(17,17,17)",
           "landcolor": "rgb(17,17,17)",
           "showlakes": true,
           "showland": true,
           "subunitcolor": "#506784"
          },
          "hoverlabel": {
           "align": "left"
          },
          "hovermode": "closest",
          "mapbox": {
           "style": "dark"
          },
          "paper_bgcolor": "rgb(17,17,17)",
          "plot_bgcolor": "rgb(17,17,17)",
          "polar": {
           "angularaxis": {
            "gridcolor": "#506784",
            "linecolor": "#506784",
            "ticks": ""
           },
           "bgcolor": "rgb(17,17,17)",
           "radialaxis": {
            "gridcolor": "#506784",
            "linecolor": "#506784",
            "ticks": ""
           }
          },
          "scene": {
           "xaxis": {
            "backgroundcolor": "rgb(17,17,17)",
            "gridcolor": "#506784",
            "gridwidth": 2,
            "linecolor": "#506784",
            "showbackground": true,
            "ticks": "",
            "zerolinecolor": "#C8D4E3"
           },
           "yaxis": {
            "backgroundcolor": "rgb(17,17,17)",
            "gridcolor": "#506784",
            "gridwidth": 2,
            "linecolor": "#506784",
            "showbackground": true,
            "ticks": "",
            "zerolinecolor": "#C8D4E3"
           },
           "zaxis": {
            "backgroundcolor": "rgb(17,17,17)",
            "gridcolor": "#506784",
            "gridwidth": 2,
            "linecolor": "#506784",
            "showbackground": true,
            "ticks": "",
            "zerolinecolor": "#C8D4E3"
           }
          },
          "shapedefaults": {
           "line": {
            "color": "#f2f5fa"
           }
          },
          "sliderdefaults": {
           "bgcolor": "#C8D4E3",
           "bordercolor": "rgb(17,17,17)",
           "borderwidth": 1,
           "tickwidth": 0
          },
          "ternary": {
           "aaxis": {
            "gridcolor": "#506784",
            "linecolor": "#506784",
            "ticks": ""
           },
           "baxis": {
            "gridcolor": "#506784",
            "linecolor": "#506784",
            "ticks": ""
           },
           "bgcolor": "rgb(17,17,17)",
           "caxis": {
            "gridcolor": "#506784",
            "linecolor": "#506784",
            "ticks": ""
           }
          },
          "title": {
           "x": 0.05
          },
          "updatemenudefaults": {
           "bgcolor": "#506784",
           "borderwidth": 0
          },
          "xaxis": {
           "automargin": true,
           "gridcolor": "#283442",
           "linecolor": "#506784",
           "ticks": "",
           "title": {
            "standoff": 15
           },
           "zerolinecolor": "#283442",
           "zerolinewidth": 2
          },
          "yaxis": {
           "automargin": true,
           "gridcolor": "#283442",
           "linecolor": "#506784",
           "ticks": "",
           "title": {
            "standoff": 15
           },
           "zerolinecolor": "#283442",
           "zerolinewidth": 2
          }
         }
        },
        "title": {
         "text": "BloodPressure"
        },
        "xaxis": {
         "anchor": "y",
         "domain": [
          0,
          1
         ]
        },
        "yaxis": {
         "anchor": "x",
         "domain": [
          0,
          1
         ],
         "title": {
          "text": "BloodPressure"
         }
        }
       }
      }
     },
     "metadata": {},
     "output_type": "display_data"
    },
    {
     "data": {
      "application/vnd.plotly.v1+json": {
       "config": {
        "plotlyServerURL": "https://plot.ly"
       },
       "data": [
        {
         "alignmentgroup": "True",
         "hovertemplate": "Outcome=1<br>SkinThickness=%{y}<extra></extra>",
         "legendgroup": "1",
         "marker": {
          "color": "#636efa"
         },
         "name": "1",
         "notched": false,
         "offsetgroup": "1",
         "orientation": "v",
         "showlegend": true,
         "type": "box",
         "x0": " ",
         "xaxis": "x",
         "y": [
          35,
          0,
          35,
          32,
          45,
          0,
          0,
          23,
          19,
          0,
          47,
          0,
          30,
          0,
          35,
          33,
          26,
          0,
          36,
          37,
          42,
          47,
          24,
          39,
          32,
          34,
          39,
          0,
          0,
          30,
          20,
          0,
          0,
          0,
          32,
          0,
          51,
          0,
          25,
          33,
          26,
          32,
          0,
          0,
          56,
          0,
          42,
          24,
          0,
          14,
          0,
          37,
          0,
          28,
          0,
          44,
          41,
          0,
          18,
          0,
          23,
          42,
          46,
          0,
          28,
          36,
          41,
          39,
          35,
          0,
          0,
          41,
          13,
          44,
          27,
          29,
          0,
          33,
          26,
          32,
          40,
          41,
          22,
          0,
          29,
          0,
          38,
          0,
          37,
          0,
          21,
          27,
          21,
          0,
          22,
          15,
          7,
          35,
          28,
          0,
          0,
          0,
          0,
          37,
          24,
          0,
          0,
          0,
          39,
          30,
          37,
          45,
          38,
          25,
          0,
          33,
          0,
          23,
          19,
          28,
          17,
          31,
          0,
          0,
          30,
          20,
          33,
          32,
          36,
          0,
          0,
          34,
          0,
          32,
          0,
          40,
          30,
          36,
          33,
          0,
          0,
          28,
          48,
          43,
          0,
          29,
          36,
          26,
          0,
          0,
          40,
          31,
          0,
          41,
          0,
          0,
          0,
          49,
          35,
          33,
          32,
          29,
          32,
          39,
          30,
          25,
          0,
          25,
          0,
          12,
          63,
          37,
          0,
          30,
          48,
          0,
          45,
          30,
          0,
          42,
          18,
          33,
          41,
          26,
          31,
          18,
          34,
          0,
          0,
          49,
          40,
          25,
          32,
          35,
          27,
          0,
          32,
          30,
          0,
          99,
          46,
          24,
          0,
          27,
          40,
          0,
          14,
          0,
          29,
          0,
          42,
          22,
          42,
          26,
          24,
          0,
          0,
          0,
          32,
          0,
          17,
          36,
          35,
          27,
          31,
          43,
          46,
          46,
          39,
          18,
          27,
          0,
          0,
          0,
          36,
          0,
          46,
          0,
          49,
          24,
          19,
          31,
          29,
          0,
          0,
          32,
          36,
          33,
          39,
          27,
          29,
          23,
          0,
          37,
          0,
          37,
          0,
          41,
          22,
          0,
          0,
          44,
          32,
          39,
          0,
          0,
          31,
          0
         ],
         "y0": " ",
         "yaxis": "y"
        },
        {
         "alignmentgroup": "True",
         "hovertemplate": "Outcome=0<br>SkinThickness=%{y}<extra></extra>",
         "legendgroup": "0",
         "marker": {
          "color": "#EF553B"
         },
         "name": "0",
         "notched": false,
         "offsetgroup": "0",
         "orientation": "v",
         "showlegend": true,
         "type": "box",
         "x0": " ",
         "xaxis": "x",
         "y": [
          29,
          23,
          0,
          0,
          0,
          0,
          38,
          41,
          0,
          15,
          19,
          0,
          26,
          11,
          0,
          31,
          33,
          0,
          25,
          0,
          18,
          0,
          0,
          27,
          0,
          11,
          15,
          21,
          42,
          10,
          60,
          0,
          41,
          0,
          0,
          34,
          27,
          0,
          13,
          27,
          35,
          20,
          30,
          20,
          0,
          33,
          22,
          13,
          0,
          26,
          28,
          29,
          54,
          25,
          19,
          0,
          15,
          40,
          18,
          27,
          28,
          18,
          30,
          0,
          0,
          18,
          0,
          29,
          0,
          28,
          31,
          34,
          0,
          0,
          23,
          15,
          39,
          30,
          0,
          30,
          36,
          31,
          13,
          20,
          26,
          25,
          0,
          29,
          0,
          30,
          26,
          31,
          23,
          37,
          35,
          0,
          17,
          50,
          0,
          42,
          15,
          21,
          19,
          38,
          40,
          34,
          23,
          25,
          0,
          0,
          12,
          23,
          42,
          24,
          0,
          0,
          0,
          18,
          20,
          0,
          0,
          0,
          44,
          20,
          0,
          16,
          0,
          20,
          16,
          32,
          28,
          27,
          22,
          54,
          31,
          30,
          0,
          33,
          15,
          27,
          0,
          39,
          31,
          25,
          0,
          28,
          0,
          24,
          32,
          35,
          0,
          33,
          33,
          19,
          0,
          0,
          14,
          32,
          39,
          22,
          16,
          15,
          32,
          15,
          18,
          42,
          0,
          32,
          0,
          50,
          0,
          52,
          23,
          0,
          10,
          28,
          15,
          26,
          44,
          17,
          43,
          29,
          0,
          31,
          29,
          0,
          41,
          0,
          37,
          14,
          30,
          37,
          10,
          22,
          11,
          39,
          12,
          32,
          21,
          0,
          32,
          19,
          16,
          0,
          18,
          43,
          0,
          13,
          21,
          35,
          0,
          0,
          36,
          19,
          0,
          19,
          0,
          0,
          28,
          12,
          0,
          40,
          0,
          37,
          25,
          28,
          17,
          16,
          23,
          22,
          40,
          43,
          15,
          37,
          39,
          30,
          22,
          8,
          18,
          24,
          13,
          23,
          29,
          14,
          12,
          24,
          34,
          0,
          0,
          25,
          32,
          0,
          39,
          30,
          23,
          22,
          21,
          0,
          41,
          18,
          46,
          22,
          0,
          46,
          0,
          16,
          11,
          0,
          8,
          33,
          0,
          15,
          0,
          23,
          27,
          12,
          45,
          18,
          13,
          32,
          0,
          28,
          0,
          28,
          33,
          22,
          0,
          40,
          30,
          0,
          13,
          10,
          36,
          41,
          40,
          38,
          27,
          0,
          0,
          27,
          17,
          38,
          31,
          37,
          22,
          31,
          41,
          32,
          17,
          0,
          28,
          30,
          38,
          0,
          0,
          0,
          15,
          32,
          19,
          32,
          25,
          39,
          0,
          23,
          23,
          0,
          17,
          0,
          0,
          19,
          0,
          0,
          7,
          32,
          33,
          0,
          0,
          18,
          19,
          15,
          31,
          0,
          18,
          0,
          52,
          0,
          30,
          0,
          0,
          37,
          23,
          29,
          21,
          43,
          31,
          28,
          30,
          0,
          24,
          23,
          33,
          40,
          0,
          40,
          0,
          34,
          19,
          0,
          14,
          30,
          32,
          29,
          0,
          0,
          31,
          17,
          30,
          47,
          20,
          0,
          27,
          17,
          0,
          11,
          0,
          0,
          50,
          22,
          45,
          0,
          19,
          18,
          19,
          0,
          36,
          32,
          25,
          39,
          13,
          21,
          28,
          0,
          0,
          13,
          42,
          20,
          0,
          27,
          0,
          47,
          0,
          0,
          0,
          22,
          40,
          0,
          17,
          0,
          0,
          18,
          12,
          17,
          0,
          0,
          30,
          35,
          25,
          25,
          23,
          40,
          0,
          28,
          35,
          48,
          0,
          0,
          45,
          33,
          30,
          26,
          10,
          23,
          35,
          0,
          0,
          17,
          28,
          39,
          0,
          26,
          0,
          19,
          26,
          0,
          32,
          0,
          0,
          11,
          0,
          27,
          0,
          20,
          36,
          21,
          13,
          27,
          20,
          0,
          18,
          46,
          19,
          36,
          30,
          0,
          40,
          29,
          26,
          0,
          0,
          27,
          0,
          32,
          27,
          23,
          17,
          20,
          18,
          37,
          33,
          41,
          39,
          24,
          41,
          0,
          26,
          0,
          48,
          27,
          23,
          31
         ],
         "y0": " ",
         "yaxis": "y"
        }
       ],
       "layout": {
        "boxmode": "group",
        "legend": {
         "title": {
          "text": "Outcome"
         },
         "tracegroupgap": 0
        },
        "template": {
         "data": {
          "bar": [
           {
            "error_x": {
             "color": "#f2f5fa"
            },
            "error_y": {
             "color": "#f2f5fa"
            },
            "marker": {
             "line": {
              "color": "rgb(17,17,17)",
              "width": 0.5
             },
             "pattern": {
              "fillmode": "overlay",
              "size": 10,
              "solidity": 0.2
             }
            },
            "type": "bar"
           }
          ],
          "barpolar": [
           {
            "marker": {
             "line": {
              "color": "rgb(17,17,17)",
              "width": 0.5
             },
             "pattern": {
              "fillmode": "overlay",
              "size": 10,
              "solidity": 0.2
             }
            },
            "type": "barpolar"
           }
          ],
          "carpet": [
           {
            "aaxis": {
             "endlinecolor": "#A2B1C6",
             "gridcolor": "#506784",
             "linecolor": "#506784",
             "minorgridcolor": "#506784",
             "startlinecolor": "#A2B1C6"
            },
            "baxis": {
             "endlinecolor": "#A2B1C6",
             "gridcolor": "#506784",
             "linecolor": "#506784",
             "minorgridcolor": "#506784",
             "startlinecolor": "#A2B1C6"
            },
            "type": "carpet"
           }
          ],
          "choropleth": [
           {
            "colorbar": {
             "outlinewidth": 0,
             "ticks": ""
            },
            "type": "choropleth"
           }
          ],
          "contour": [
           {
            "colorbar": {
             "outlinewidth": 0,
             "ticks": ""
            },
            "colorscale": [
             [
              0,
              "#0d0887"
             ],
             [
              0.1111111111111111,
              "#46039f"
             ],
             [
              0.2222222222222222,
              "#7201a8"
             ],
             [
              0.3333333333333333,
              "#9c179e"
             ],
             [
              0.4444444444444444,
              "#bd3786"
             ],
             [
              0.5555555555555556,
              "#d8576b"
             ],
             [
              0.6666666666666666,
              "#ed7953"
             ],
             [
              0.7777777777777778,
              "#fb9f3a"
             ],
             [
              0.8888888888888888,
              "#fdca26"
             ],
             [
              1,
              "#f0f921"
             ]
            ],
            "type": "contour"
           }
          ],
          "contourcarpet": [
           {
            "colorbar": {
             "outlinewidth": 0,
             "ticks": ""
            },
            "type": "contourcarpet"
           }
          ],
          "heatmap": [
           {
            "colorbar": {
             "outlinewidth": 0,
             "ticks": ""
            },
            "colorscale": [
             [
              0,
              "#0d0887"
             ],
             [
              0.1111111111111111,
              "#46039f"
             ],
             [
              0.2222222222222222,
              "#7201a8"
             ],
             [
              0.3333333333333333,
              "#9c179e"
             ],
             [
              0.4444444444444444,
              "#bd3786"
             ],
             [
              0.5555555555555556,
              "#d8576b"
             ],
             [
              0.6666666666666666,
              "#ed7953"
             ],
             [
              0.7777777777777778,
              "#fb9f3a"
             ],
             [
              0.8888888888888888,
              "#fdca26"
             ],
             [
              1,
              "#f0f921"
             ]
            ],
            "type": "heatmap"
           }
          ],
          "heatmapgl": [
           {
            "colorbar": {
             "outlinewidth": 0,
             "ticks": ""
            },
            "colorscale": [
             [
              0,
              "#0d0887"
             ],
             [
              0.1111111111111111,
              "#46039f"
             ],
             [
              0.2222222222222222,
              "#7201a8"
             ],
             [
              0.3333333333333333,
              "#9c179e"
             ],
             [
              0.4444444444444444,
              "#bd3786"
             ],
             [
              0.5555555555555556,
              "#d8576b"
             ],
             [
              0.6666666666666666,
              "#ed7953"
             ],
             [
              0.7777777777777778,
              "#fb9f3a"
             ],
             [
              0.8888888888888888,
              "#fdca26"
             ],
             [
              1,
              "#f0f921"
             ]
            ],
            "type": "heatmapgl"
           }
          ],
          "histogram": [
           {
            "marker": {
             "pattern": {
              "fillmode": "overlay",
              "size": 10,
              "solidity": 0.2
             }
            },
            "type": "histogram"
           }
          ],
          "histogram2d": [
           {
            "colorbar": {
             "outlinewidth": 0,
             "ticks": ""
            },
            "colorscale": [
             [
              0,
              "#0d0887"
             ],
             [
              0.1111111111111111,
              "#46039f"
             ],
             [
              0.2222222222222222,
              "#7201a8"
             ],
             [
              0.3333333333333333,
              "#9c179e"
             ],
             [
              0.4444444444444444,
              "#bd3786"
             ],
             [
              0.5555555555555556,
              "#d8576b"
             ],
             [
              0.6666666666666666,
              "#ed7953"
             ],
             [
              0.7777777777777778,
              "#fb9f3a"
             ],
             [
              0.8888888888888888,
              "#fdca26"
             ],
             [
              1,
              "#f0f921"
             ]
            ],
            "type": "histogram2d"
           }
          ],
          "histogram2dcontour": [
           {
            "colorbar": {
             "outlinewidth": 0,
             "ticks": ""
            },
            "colorscale": [
             [
              0,
              "#0d0887"
             ],
             [
              0.1111111111111111,
              "#46039f"
             ],
             [
              0.2222222222222222,
              "#7201a8"
             ],
             [
              0.3333333333333333,
              "#9c179e"
             ],
             [
              0.4444444444444444,
              "#bd3786"
             ],
             [
              0.5555555555555556,
              "#d8576b"
             ],
             [
              0.6666666666666666,
              "#ed7953"
             ],
             [
              0.7777777777777778,
              "#fb9f3a"
             ],
             [
              0.8888888888888888,
              "#fdca26"
             ],
             [
              1,
              "#f0f921"
             ]
            ],
            "type": "histogram2dcontour"
           }
          ],
          "mesh3d": [
           {
            "colorbar": {
             "outlinewidth": 0,
             "ticks": ""
            },
            "type": "mesh3d"
           }
          ],
          "parcoords": [
           {
            "line": {
             "colorbar": {
              "outlinewidth": 0,
              "ticks": ""
             }
            },
            "type": "parcoords"
           }
          ],
          "pie": [
           {
            "automargin": true,
            "type": "pie"
           }
          ],
          "scatter": [
           {
            "marker": {
             "line": {
              "color": "#283442"
             }
            },
            "type": "scatter"
           }
          ],
          "scatter3d": [
           {
            "line": {
             "colorbar": {
              "outlinewidth": 0,
              "ticks": ""
             }
            },
            "marker": {
             "colorbar": {
              "outlinewidth": 0,
              "ticks": ""
             }
            },
            "type": "scatter3d"
           }
          ],
          "scattercarpet": [
           {
            "marker": {
             "colorbar": {
              "outlinewidth": 0,
              "ticks": ""
             }
            },
            "type": "scattercarpet"
           }
          ],
          "scattergeo": [
           {
            "marker": {
             "colorbar": {
              "outlinewidth": 0,
              "ticks": ""
             }
            },
            "type": "scattergeo"
           }
          ],
          "scattergl": [
           {
            "marker": {
             "line": {
              "color": "#283442"
             }
            },
            "type": "scattergl"
           }
          ],
          "scattermapbox": [
           {
            "marker": {
             "colorbar": {
              "outlinewidth": 0,
              "ticks": ""
             }
            },
            "type": "scattermapbox"
           }
          ],
          "scatterpolar": [
           {
            "marker": {
             "colorbar": {
              "outlinewidth": 0,
              "ticks": ""
             }
            },
            "type": "scatterpolar"
           }
          ],
          "scatterpolargl": [
           {
            "marker": {
             "colorbar": {
              "outlinewidth": 0,
              "ticks": ""
             }
            },
            "type": "scatterpolargl"
           }
          ],
          "scatterternary": [
           {
            "marker": {
             "colorbar": {
              "outlinewidth": 0,
              "ticks": ""
             }
            },
            "type": "scatterternary"
           }
          ],
          "surface": [
           {
            "colorbar": {
             "outlinewidth": 0,
             "ticks": ""
            },
            "colorscale": [
             [
              0,
              "#0d0887"
             ],
             [
              0.1111111111111111,
              "#46039f"
             ],
             [
              0.2222222222222222,
              "#7201a8"
             ],
             [
              0.3333333333333333,
              "#9c179e"
             ],
             [
              0.4444444444444444,
              "#bd3786"
             ],
             [
              0.5555555555555556,
              "#d8576b"
             ],
             [
              0.6666666666666666,
              "#ed7953"
             ],
             [
              0.7777777777777778,
              "#fb9f3a"
             ],
             [
              0.8888888888888888,
              "#fdca26"
             ],
             [
              1,
              "#f0f921"
             ]
            ],
            "type": "surface"
           }
          ],
          "table": [
           {
            "cells": {
             "fill": {
              "color": "#506784"
             },
             "line": {
              "color": "rgb(17,17,17)"
             }
            },
            "header": {
             "fill": {
              "color": "#2a3f5f"
             },
             "line": {
              "color": "rgb(17,17,17)"
             }
            },
            "type": "table"
           }
          ]
         },
         "layout": {
          "annotationdefaults": {
           "arrowcolor": "#f2f5fa",
           "arrowhead": 0,
           "arrowwidth": 1
          },
          "autotypenumbers": "strict",
          "coloraxis": {
           "colorbar": {
            "outlinewidth": 0,
            "ticks": ""
           }
          },
          "colorscale": {
           "diverging": [
            [
             0,
             "#8e0152"
            ],
            [
             0.1,
             "#c51b7d"
            ],
            [
             0.2,
             "#de77ae"
            ],
            [
             0.3,
             "#f1b6da"
            ],
            [
             0.4,
             "#fde0ef"
            ],
            [
             0.5,
             "#f7f7f7"
            ],
            [
             0.6,
             "#e6f5d0"
            ],
            [
             0.7,
             "#b8e186"
            ],
            [
             0.8,
             "#7fbc41"
            ],
            [
             0.9,
             "#4d9221"
            ],
            [
             1,
             "#276419"
            ]
           ],
           "sequential": [
            [
             0,
             "#0d0887"
            ],
            [
             0.1111111111111111,
             "#46039f"
            ],
            [
             0.2222222222222222,
             "#7201a8"
            ],
            [
             0.3333333333333333,
             "#9c179e"
            ],
            [
             0.4444444444444444,
             "#bd3786"
            ],
            [
             0.5555555555555556,
             "#d8576b"
            ],
            [
             0.6666666666666666,
             "#ed7953"
            ],
            [
             0.7777777777777778,
             "#fb9f3a"
            ],
            [
             0.8888888888888888,
             "#fdca26"
            ],
            [
             1,
             "#f0f921"
            ]
           ],
           "sequentialminus": [
            [
             0,
             "#0d0887"
            ],
            [
             0.1111111111111111,
             "#46039f"
            ],
            [
             0.2222222222222222,
             "#7201a8"
            ],
            [
             0.3333333333333333,
             "#9c179e"
            ],
            [
             0.4444444444444444,
             "#bd3786"
            ],
            [
             0.5555555555555556,
             "#d8576b"
            ],
            [
             0.6666666666666666,
             "#ed7953"
            ],
            [
             0.7777777777777778,
             "#fb9f3a"
            ],
            [
             0.8888888888888888,
             "#fdca26"
            ],
            [
             1,
             "#f0f921"
            ]
           ]
          },
          "colorway": [
           "#636efa",
           "#EF553B",
           "#00cc96",
           "#ab63fa",
           "#FFA15A",
           "#19d3f3",
           "#FF6692",
           "#B6E880",
           "#FF97FF",
           "#FECB52"
          ],
          "font": {
           "color": "#f2f5fa"
          },
          "geo": {
           "bgcolor": "rgb(17,17,17)",
           "lakecolor": "rgb(17,17,17)",
           "landcolor": "rgb(17,17,17)",
           "showlakes": true,
           "showland": true,
           "subunitcolor": "#506784"
          },
          "hoverlabel": {
           "align": "left"
          },
          "hovermode": "closest",
          "mapbox": {
           "style": "dark"
          },
          "paper_bgcolor": "rgb(17,17,17)",
          "plot_bgcolor": "rgb(17,17,17)",
          "polar": {
           "angularaxis": {
            "gridcolor": "#506784",
            "linecolor": "#506784",
            "ticks": ""
           },
           "bgcolor": "rgb(17,17,17)",
           "radialaxis": {
            "gridcolor": "#506784",
            "linecolor": "#506784",
            "ticks": ""
           }
          },
          "scene": {
           "xaxis": {
            "backgroundcolor": "rgb(17,17,17)",
            "gridcolor": "#506784",
            "gridwidth": 2,
            "linecolor": "#506784",
            "showbackground": true,
            "ticks": "",
            "zerolinecolor": "#C8D4E3"
           },
           "yaxis": {
            "backgroundcolor": "rgb(17,17,17)",
            "gridcolor": "#506784",
            "gridwidth": 2,
            "linecolor": "#506784",
            "showbackground": true,
            "ticks": "",
            "zerolinecolor": "#C8D4E3"
           },
           "zaxis": {
            "backgroundcolor": "rgb(17,17,17)",
            "gridcolor": "#506784",
            "gridwidth": 2,
            "linecolor": "#506784",
            "showbackground": true,
            "ticks": "",
            "zerolinecolor": "#C8D4E3"
           }
          },
          "shapedefaults": {
           "line": {
            "color": "#f2f5fa"
           }
          },
          "sliderdefaults": {
           "bgcolor": "#C8D4E3",
           "bordercolor": "rgb(17,17,17)",
           "borderwidth": 1,
           "tickwidth": 0
          },
          "ternary": {
           "aaxis": {
            "gridcolor": "#506784",
            "linecolor": "#506784",
            "ticks": ""
           },
           "baxis": {
            "gridcolor": "#506784",
            "linecolor": "#506784",
            "ticks": ""
           },
           "bgcolor": "rgb(17,17,17)",
           "caxis": {
            "gridcolor": "#506784",
            "linecolor": "#506784",
            "ticks": ""
           }
          },
          "title": {
           "x": 0.05
          },
          "updatemenudefaults": {
           "bgcolor": "#506784",
           "borderwidth": 0
          },
          "xaxis": {
           "automargin": true,
           "gridcolor": "#283442",
           "linecolor": "#506784",
           "ticks": "",
           "title": {
            "standoff": 15
           },
           "zerolinecolor": "#283442",
           "zerolinewidth": 2
          },
          "yaxis": {
           "automargin": true,
           "gridcolor": "#283442",
           "linecolor": "#506784",
           "ticks": "",
           "title": {
            "standoff": 15
           },
           "zerolinecolor": "#283442",
           "zerolinewidth": 2
          }
         }
        },
        "title": {
         "text": "SkinThickness"
        },
        "xaxis": {
         "anchor": "y",
         "domain": [
          0,
          1
         ]
        },
        "yaxis": {
         "anchor": "x",
         "domain": [
          0,
          1
         ],
         "title": {
          "text": "SkinThickness"
         }
        }
       }
      }
     },
     "metadata": {},
     "output_type": "display_data"
    },
    {
     "data": {
      "application/vnd.plotly.v1+json": {
       "config": {
        "plotlyServerURL": "https://plot.ly"
       },
       "data": [
        {
         "alignmentgroup": "True",
         "hovertemplate": "Outcome=1<br>Insulin=%{y}<extra></extra>",
         "legendgroup": "1",
         "marker": {
          "color": "#636efa"
         },
         "name": "1",
         "notched": false,
         "offsetgroup": "1",
         "orientation": "v",
         "showlegend": true,
         "type": "box",
         "x0": " ",
         "xaxis": "x",
         "y": [
          0,
          0,
          168,
          88,
          543,
          0,
          0,
          846,
          175,
          0,
          230,
          0,
          96,
          0,
          0,
          146,
          115,
          0,
          245,
          0,
          0,
          207,
          240,
          0,
          0,
          300,
          304,
          0,
          0,
          0,
          90,
          0,
          0,
          0,
          110,
          0,
          220,
          0,
          36,
          135,
          495,
          175,
          0,
          0,
          100,
          0,
          99,
          145,
          0,
          168,
          0,
          225,
          0,
          155,
          0,
          0,
          114,
          0,
          156,
          0,
          130,
          130,
          130,
          0,
          0,
          495,
          58,
          114,
          160,
          0,
          0,
          210,
          48,
          99,
          318,
          280,
          0,
          0,
          130,
          175,
          271,
          129,
          0,
          0,
          478,
          0,
          0,
          0,
          370,
          0,
          192,
          0,
          0,
          0,
          176,
          0,
          258,
          0,
          150,
          0,
          0,
          0,
          0,
          0,
          0,
          0,
          0,
          0,
          220,
          74,
          182,
          194,
          360,
          184,
          0,
          135,
          0,
          132,
          180,
          205,
          96,
          0,
          0,
          0,
          0,
          0,
          29,
          156,
          120,
          0,
          0,
          171,
          0,
          0,
          0,
          167,
          0,
          249,
          325,
          0,
          0,
          140,
          465,
          325,
          0,
          0,
          0,
          285,
          0,
          0,
          0,
          0,
          0,
          88,
          0,
          0,
          0,
          579,
          167,
          474,
          0,
          115,
          210,
          277,
          180,
          180,
          0,
          0,
          0,
          0,
          14,
          64,
          0,
          0,
          237,
          0,
          191,
          328,
          0,
          250,
          122,
          145,
          0,
          90,
          0,
          105,
          165,
          0,
          0,
          155,
          215,
          190,
          0,
          225,
          207,
          0,
          274,
          165,
          0,
          0,
          0,
          600,
          0,
          156,
          0,
          0,
          185,
          0,
          126,
          0,
          293,
          194,
          321,
          144,
          0,
          0,
          0,
          0,
          91,
          0,
          144,
          159,
          130,
          540,
          70,
          0,
          231,
          130,
          0,
          0,
          0,
          0,
          0,
          0,
          0,
          0,
          180,
          0,
          125,
          480,
          125,
          0,
          0,
          0,
          0,
          160,
          0,
          392,
          185,
          0,
          127,
          79,
          0,
          120,
          0,
          150,
          0,
          0,
          200,
          0,
          0,
          510,
          0,
          110,
          0,
          0,
          0,
          0
         ],
         "y0": " ",
         "yaxis": "y"
        },
        {
         "alignmentgroup": "True",
         "hovertemplate": "Outcome=0<br>Insulin=%{y}<extra></extra>",
         "legendgroup": "0",
         "marker": {
          "color": "#EF553B"
         },
         "name": "0",
         "notched": false,
         "offsetgroup": "0",
         "orientation": "v",
         "showlegend": true,
         "type": "box",
         "x0": " ",
         "xaxis": "x",
         "y": [
          0,
          94,
          0,
          0,
          0,
          0,
          83,
          235,
          0,
          140,
          110,
          0,
          0,
          54,
          0,
          0,
          192,
          0,
          70,
          0,
          0,
          0,
          0,
          0,
          0,
          82,
          36,
          23,
          342,
          0,
          110,
          0,
          142,
          0,
          0,
          128,
          0,
          0,
          38,
          100,
          140,
          270,
          0,
          0,
          0,
          0,
          0,
          0,
          0,
          71,
          0,
          125,
          0,
          71,
          0,
          0,
          176,
          48,
          64,
          228,
          0,
          76,
          64,
          0,
          0,
          40,
          0,
          152,
          0,
          140,
          18,
          37,
          0,
          0,
          0,
          51,
          0,
          100,
          0,
          135,
          94,
          0,
          49,
          140,
          50,
          92,
          0,
          325,
          0,
          0,
          63,
          284,
          0,
          0,
          119,
          0,
          0,
          204,
          0,
          485,
          94,
          135,
          53,
          0,
          105,
          285,
          0,
          0,
          0,
          0,
          78,
          0,
          48,
          55,
          0,
          0,
          0,
          92,
          23,
          0,
          0,
          0,
          94,
          0,
          0,
          0,
          0,
          0,
          44,
          190,
          0,
          87,
          0,
          0,
          0,
          120,
          0,
          190,
          56,
          32,
          0,
          744,
          53,
          37,
          0,
          45,
          0,
          0,
          88,
          194,
          0,
          680,
          402,
          0,
          0,
          0,
          55,
          0,
          0,
          0,
          375,
          130,
          0,
          0,
          67,
          0,
          0,
          56,
          0,
          45,
          0,
          57,
          116,
          0,
          278,
          122,
          155,
          135,
          545,
          49,
          75,
          40,
          0,
          120,
          215,
          0,
          42,
          0,
          105,
          148,
          0,
          148,
          85,
          94,
          64,
          140,
          231,
          0,
          168,
          0,
          68,
          0,
          52,
          0,
          58,
          255,
          0,
          105,
          73,
          0,
          0,
          0,
          108,
          83,
          0,
          74,
          0,
          0,
          0,
          43,
          0,
          54,
          0,
          0,
          293,
          83,
          0,
          66,
          89,
          66,
          94,
          158,
          84,
          75,
          72,
          82,
          0,
          182,
          59,
          110,
          50,
          81,
          196,
          415,
          87,
          275,
          115,
          0,
          0,
          0,
          165,
          0,
          0,
          176,
          310,
          61,
          0,
          0,
          170,
          76,
          78,
          0,
          0,
          145,
          0,
          85,
          60,
          0,
          0,
          0,
          0,
          0,
          0,
          50,
          120,
          70,
          92,
          63,
          95,
          210,
          0,
          105,
          0,
          71,
          60,
          56,
          0,
          49,
          0,
          0,
          105,
          36,
          100,
          140,
          0,
          0,
          0,
          0,
          0,
          0,
          110,
          75,
          0,
          0,
          49,
          125,
          480,
          265,
          0,
          0,
          66,
          0,
          0,
          0,
          0,
          0,
          76,
          193,
          71,
          0,
          79,
          0,
          0,
          170,
          76,
          0,
          210,
          0,
          0,
          86,
          0,
          0,
          326,
          66,
          130,
          0,
          0,
          0,
          82,
          105,
          188,
          0,
          106,
          0,
          65,
          0,
          56,
          0,
          0,
          210,
          56,
          76,
          166,
          67,
          0,
          0,
          106,
          0,
          44,
          115,
          215,
          0,
          0,
          0,
          0,
          77,
          54,
          0,
          88,
          18,
          126,
          126,
          0,
          0,
          44,
          120,
          330,
          63,
          130,
          0,
          0,
          0,
          0,
          0,
          0,
          0,
          140,
          115,
          230,
          0,
          25,
          120,
          0,
          0,
          0,
          0,
          41,
          272,
          182,
          158,
          0,
          0,
          0,
          15,
          160,
          0,
          0,
          115,
          0,
          54,
          0,
          0,
          0,
          0,
          90,
          0,
          183,
          0,
          0,
          66,
          46,
          105,
          0,
          0,
          152,
          440,
          0,
          100,
          106,
          77,
          0,
          135,
          90,
          200,
          0,
          0,
          132,
          190,
          100,
          168,
          0,
          49,
          240,
          0,
          0,
          265,
          45,
          105,
          0,
          205,
          0,
          0,
          180,
          0,
          95,
          0,
          0,
          155,
          0,
          200,
          0,
          100,
          0,
          335,
          387,
          22,
          291,
          0,
          0,
          178,
          0,
          200,
          105,
          0,
          0,
          180,
          0,
          0,
          0,
          165,
          0,
          0,
          120,
          0,
          160,
          94,
          116,
          140,
          105,
          57,
          74,
          0,
          0,
          0,
          16,
          0,
          180,
          0,
          112,
          0
         ],
         "y0": " ",
         "yaxis": "y"
        }
       ],
       "layout": {
        "boxmode": "group",
        "legend": {
         "title": {
          "text": "Outcome"
         },
         "tracegroupgap": 0
        },
        "template": {
         "data": {
          "bar": [
           {
            "error_x": {
             "color": "#f2f5fa"
            },
            "error_y": {
             "color": "#f2f5fa"
            },
            "marker": {
             "line": {
              "color": "rgb(17,17,17)",
              "width": 0.5
             },
             "pattern": {
              "fillmode": "overlay",
              "size": 10,
              "solidity": 0.2
             }
            },
            "type": "bar"
           }
          ],
          "barpolar": [
           {
            "marker": {
             "line": {
              "color": "rgb(17,17,17)",
              "width": 0.5
             },
             "pattern": {
              "fillmode": "overlay",
              "size": 10,
              "solidity": 0.2
             }
            },
            "type": "barpolar"
           }
          ],
          "carpet": [
           {
            "aaxis": {
             "endlinecolor": "#A2B1C6",
             "gridcolor": "#506784",
             "linecolor": "#506784",
             "minorgridcolor": "#506784",
             "startlinecolor": "#A2B1C6"
            },
            "baxis": {
             "endlinecolor": "#A2B1C6",
             "gridcolor": "#506784",
             "linecolor": "#506784",
             "minorgridcolor": "#506784",
             "startlinecolor": "#A2B1C6"
            },
            "type": "carpet"
           }
          ],
          "choropleth": [
           {
            "colorbar": {
             "outlinewidth": 0,
             "ticks": ""
            },
            "type": "choropleth"
           }
          ],
          "contour": [
           {
            "colorbar": {
             "outlinewidth": 0,
             "ticks": ""
            },
            "colorscale": [
             [
              0,
              "#0d0887"
             ],
             [
              0.1111111111111111,
              "#46039f"
             ],
             [
              0.2222222222222222,
              "#7201a8"
             ],
             [
              0.3333333333333333,
              "#9c179e"
             ],
             [
              0.4444444444444444,
              "#bd3786"
             ],
             [
              0.5555555555555556,
              "#d8576b"
             ],
             [
              0.6666666666666666,
              "#ed7953"
             ],
             [
              0.7777777777777778,
              "#fb9f3a"
             ],
             [
              0.8888888888888888,
              "#fdca26"
             ],
             [
              1,
              "#f0f921"
             ]
            ],
            "type": "contour"
           }
          ],
          "contourcarpet": [
           {
            "colorbar": {
             "outlinewidth": 0,
             "ticks": ""
            },
            "type": "contourcarpet"
           }
          ],
          "heatmap": [
           {
            "colorbar": {
             "outlinewidth": 0,
             "ticks": ""
            },
            "colorscale": [
             [
              0,
              "#0d0887"
             ],
             [
              0.1111111111111111,
              "#46039f"
             ],
             [
              0.2222222222222222,
              "#7201a8"
             ],
             [
              0.3333333333333333,
              "#9c179e"
             ],
             [
              0.4444444444444444,
              "#bd3786"
             ],
             [
              0.5555555555555556,
              "#d8576b"
             ],
             [
              0.6666666666666666,
              "#ed7953"
             ],
             [
              0.7777777777777778,
              "#fb9f3a"
             ],
             [
              0.8888888888888888,
              "#fdca26"
             ],
             [
              1,
              "#f0f921"
             ]
            ],
            "type": "heatmap"
           }
          ],
          "heatmapgl": [
           {
            "colorbar": {
             "outlinewidth": 0,
             "ticks": ""
            },
            "colorscale": [
             [
              0,
              "#0d0887"
             ],
             [
              0.1111111111111111,
              "#46039f"
             ],
             [
              0.2222222222222222,
              "#7201a8"
             ],
             [
              0.3333333333333333,
              "#9c179e"
             ],
             [
              0.4444444444444444,
              "#bd3786"
             ],
             [
              0.5555555555555556,
              "#d8576b"
             ],
             [
              0.6666666666666666,
              "#ed7953"
             ],
             [
              0.7777777777777778,
              "#fb9f3a"
             ],
             [
              0.8888888888888888,
              "#fdca26"
             ],
             [
              1,
              "#f0f921"
             ]
            ],
            "type": "heatmapgl"
           }
          ],
          "histogram": [
           {
            "marker": {
             "pattern": {
              "fillmode": "overlay",
              "size": 10,
              "solidity": 0.2
             }
            },
            "type": "histogram"
           }
          ],
          "histogram2d": [
           {
            "colorbar": {
             "outlinewidth": 0,
             "ticks": ""
            },
            "colorscale": [
             [
              0,
              "#0d0887"
             ],
             [
              0.1111111111111111,
              "#46039f"
             ],
             [
              0.2222222222222222,
              "#7201a8"
             ],
             [
              0.3333333333333333,
              "#9c179e"
             ],
             [
              0.4444444444444444,
              "#bd3786"
             ],
             [
              0.5555555555555556,
              "#d8576b"
             ],
             [
              0.6666666666666666,
              "#ed7953"
             ],
             [
              0.7777777777777778,
              "#fb9f3a"
             ],
             [
              0.8888888888888888,
              "#fdca26"
             ],
             [
              1,
              "#f0f921"
             ]
            ],
            "type": "histogram2d"
           }
          ],
          "histogram2dcontour": [
           {
            "colorbar": {
             "outlinewidth": 0,
             "ticks": ""
            },
            "colorscale": [
             [
              0,
              "#0d0887"
             ],
             [
              0.1111111111111111,
              "#46039f"
             ],
             [
              0.2222222222222222,
              "#7201a8"
             ],
             [
              0.3333333333333333,
              "#9c179e"
             ],
             [
              0.4444444444444444,
              "#bd3786"
             ],
             [
              0.5555555555555556,
              "#d8576b"
             ],
             [
              0.6666666666666666,
              "#ed7953"
             ],
             [
              0.7777777777777778,
              "#fb9f3a"
             ],
             [
              0.8888888888888888,
              "#fdca26"
             ],
             [
              1,
              "#f0f921"
             ]
            ],
            "type": "histogram2dcontour"
           }
          ],
          "mesh3d": [
           {
            "colorbar": {
             "outlinewidth": 0,
             "ticks": ""
            },
            "type": "mesh3d"
           }
          ],
          "parcoords": [
           {
            "line": {
             "colorbar": {
              "outlinewidth": 0,
              "ticks": ""
             }
            },
            "type": "parcoords"
           }
          ],
          "pie": [
           {
            "automargin": true,
            "type": "pie"
           }
          ],
          "scatter": [
           {
            "marker": {
             "line": {
              "color": "#283442"
             }
            },
            "type": "scatter"
           }
          ],
          "scatter3d": [
           {
            "line": {
             "colorbar": {
              "outlinewidth": 0,
              "ticks": ""
             }
            },
            "marker": {
             "colorbar": {
              "outlinewidth": 0,
              "ticks": ""
             }
            },
            "type": "scatter3d"
           }
          ],
          "scattercarpet": [
           {
            "marker": {
             "colorbar": {
              "outlinewidth": 0,
              "ticks": ""
             }
            },
            "type": "scattercarpet"
           }
          ],
          "scattergeo": [
           {
            "marker": {
             "colorbar": {
              "outlinewidth": 0,
              "ticks": ""
             }
            },
            "type": "scattergeo"
           }
          ],
          "scattergl": [
           {
            "marker": {
             "line": {
              "color": "#283442"
             }
            },
            "type": "scattergl"
           }
          ],
          "scattermapbox": [
           {
            "marker": {
             "colorbar": {
              "outlinewidth": 0,
              "ticks": ""
             }
            },
            "type": "scattermapbox"
           }
          ],
          "scatterpolar": [
           {
            "marker": {
             "colorbar": {
              "outlinewidth": 0,
              "ticks": ""
             }
            },
            "type": "scatterpolar"
           }
          ],
          "scatterpolargl": [
           {
            "marker": {
             "colorbar": {
              "outlinewidth": 0,
              "ticks": ""
             }
            },
            "type": "scatterpolargl"
           }
          ],
          "scatterternary": [
           {
            "marker": {
             "colorbar": {
              "outlinewidth": 0,
              "ticks": ""
             }
            },
            "type": "scatterternary"
           }
          ],
          "surface": [
           {
            "colorbar": {
             "outlinewidth": 0,
             "ticks": ""
            },
            "colorscale": [
             [
              0,
              "#0d0887"
             ],
             [
              0.1111111111111111,
              "#46039f"
             ],
             [
              0.2222222222222222,
              "#7201a8"
             ],
             [
              0.3333333333333333,
              "#9c179e"
             ],
             [
              0.4444444444444444,
              "#bd3786"
             ],
             [
              0.5555555555555556,
              "#d8576b"
             ],
             [
              0.6666666666666666,
              "#ed7953"
             ],
             [
              0.7777777777777778,
              "#fb9f3a"
             ],
             [
              0.8888888888888888,
              "#fdca26"
             ],
             [
              1,
              "#f0f921"
             ]
            ],
            "type": "surface"
           }
          ],
          "table": [
           {
            "cells": {
             "fill": {
              "color": "#506784"
             },
             "line": {
              "color": "rgb(17,17,17)"
             }
            },
            "header": {
             "fill": {
              "color": "#2a3f5f"
             },
             "line": {
              "color": "rgb(17,17,17)"
             }
            },
            "type": "table"
           }
          ]
         },
         "layout": {
          "annotationdefaults": {
           "arrowcolor": "#f2f5fa",
           "arrowhead": 0,
           "arrowwidth": 1
          },
          "autotypenumbers": "strict",
          "coloraxis": {
           "colorbar": {
            "outlinewidth": 0,
            "ticks": ""
           }
          },
          "colorscale": {
           "diverging": [
            [
             0,
             "#8e0152"
            ],
            [
             0.1,
             "#c51b7d"
            ],
            [
             0.2,
             "#de77ae"
            ],
            [
             0.3,
             "#f1b6da"
            ],
            [
             0.4,
             "#fde0ef"
            ],
            [
             0.5,
             "#f7f7f7"
            ],
            [
             0.6,
             "#e6f5d0"
            ],
            [
             0.7,
             "#b8e186"
            ],
            [
             0.8,
             "#7fbc41"
            ],
            [
             0.9,
             "#4d9221"
            ],
            [
             1,
             "#276419"
            ]
           ],
           "sequential": [
            [
             0,
             "#0d0887"
            ],
            [
             0.1111111111111111,
             "#46039f"
            ],
            [
             0.2222222222222222,
             "#7201a8"
            ],
            [
             0.3333333333333333,
             "#9c179e"
            ],
            [
             0.4444444444444444,
             "#bd3786"
            ],
            [
             0.5555555555555556,
             "#d8576b"
            ],
            [
             0.6666666666666666,
             "#ed7953"
            ],
            [
             0.7777777777777778,
             "#fb9f3a"
            ],
            [
             0.8888888888888888,
             "#fdca26"
            ],
            [
             1,
             "#f0f921"
            ]
           ],
           "sequentialminus": [
            [
             0,
             "#0d0887"
            ],
            [
             0.1111111111111111,
             "#46039f"
            ],
            [
             0.2222222222222222,
             "#7201a8"
            ],
            [
             0.3333333333333333,
             "#9c179e"
            ],
            [
             0.4444444444444444,
             "#bd3786"
            ],
            [
             0.5555555555555556,
             "#d8576b"
            ],
            [
             0.6666666666666666,
             "#ed7953"
            ],
            [
             0.7777777777777778,
             "#fb9f3a"
            ],
            [
             0.8888888888888888,
             "#fdca26"
            ],
            [
             1,
             "#f0f921"
            ]
           ]
          },
          "colorway": [
           "#636efa",
           "#EF553B",
           "#00cc96",
           "#ab63fa",
           "#FFA15A",
           "#19d3f3",
           "#FF6692",
           "#B6E880",
           "#FF97FF",
           "#FECB52"
          ],
          "font": {
           "color": "#f2f5fa"
          },
          "geo": {
           "bgcolor": "rgb(17,17,17)",
           "lakecolor": "rgb(17,17,17)",
           "landcolor": "rgb(17,17,17)",
           "showlakes": true,
           "showland": true,
           "subunitcolor": "#506784"
          },
          "hoverlabel": {
           "align": "left"
          },
          "hovermode": "closest",
          "mapbox": {
           "style": "dark"
          },
          "paper_bgcolor": "rgb(17,17,17)",
          "plot_bgcolor": "rgb(17,17,17)",
          "polar": {
           "angularaxis": {
            "gridcolor": "#506784",
            "linecolor": "#506784",
            "ticks": ""
           },
           "bgcolor": "rgb(17,17,17)",
           "radialaxis": {
            "gridcolor": "#506784",
            "linecolor": "#506784",
            "ticks": ""
           }
          },
          "scene": {
           "xaxis": {
            "backgroundcolor": "rgb(17,17,17)",
            "gridcolor": "#506784",
            "gridwidth": 2,
            "linecolor": "#506784",
            "showbackground": true,
            "ticks": "",
            "zerolinecolor": "#C8D4E3"
           },
           "yaxis": {
            "backgroundcolor": "rgb(17,17,17)",
            "gridcolor": "#506784",
            "gridwidth": 2,
            "linecolor": "#506784",
            "showbackground": true,
            "ticks": "",
            "zerolinecolor": "#C8D4E3"
           },
           "zaxis": {
            "backgroundcolor": "rgb(17,17,17)",
            "gridcolor": "#506784",
            "gridwidth": 2,
            "linecolor": "#506784",
            "showbackground": true,
            "ticks": "",
            "zerolinecolor": "#C8D4E3"
           }
          },
          "shapedefaults": {
           "line": {
            "color": "#f2f5fa"
           }
          },
          "sliderdefaults": {
           "bgcolor": "#C8D4E3",
           "bordercolor": "rgb(17,17,17)",
           "borderwidth": 1,
           "tickwidth": 0
          },
          "ternary": {
           "aaxis": {
            "gridcolor": "#506784",
            "linecolor": "#506784",
            "ticks": ""
           },
           "baxis": {
            "gridcolor": "#506784",
            "linecolor": "#506784",
            "ticks": ""
           },
           "bgcolor": "rgb(17,17,17)",
           "caxis": {
            "gridcolor": "#506784",
            "linecolor": "#506784",
            "ticks": ""
           }
          },
          "title": {
           "x": 0.05
          },
          "updatemenudefaults": {
           "bgcolor": "#506784",
           "borderwidth": 0
          },
          "xaxis": {
           "automargin": true,
           "gridcolor": "#283442",
           "linecolor": "#506784",
           "ticks": "",
           "title": {
            "standoff": 15
           },
           "zerolinecolor": "#283442",
           "zerolinewidth": 2
          },
          "yaxis": {
           "automargin": true,
           "gridcolor": "#283442",
           "linecolor": "#506784",
           "ticks": "",
           "title": {
            "standoff": 15
           },
           "zerolinecolor": "#283442",
           "zerolinewidth": 2
          }
         }
        },
        "title": {
         "text": "Insulin"
        },
        "xaxis": {
         "anchor": "y",
         "domain": [
          0,
          1
         ]
        },
        "yaxis": {
         "anchor": "x",
         "domain": [
          0,
          1
         ],
         "title": {
          "text": "Insulin"
         }
        }
       }
      }
     },
     "metadata": {},
     "output_type": "display_data"
    },
    {
     "data": {
      "application/vnd.plotly.v1+json": {
       "config": {
        "plotlyServerURL": "https://plot.ly"
       },
       "data": [
        {
         "alignmentgroup": "True",
         "hovertemplate": "Outcome=1<br>BMI=%{y}<extra></extra>",
         "legendgroup": "1",
         "marker": {
          "color": "#636efa"
         },
         "name": "1",
         "notched": false,
         "offsetgroup": "1",
         "orientation": "v",
         "showlegend": true,
         "type": "box",
         "x0": " ",
         "xaxis": "x",
         "y": [
          33.6,
          23.3,
          43.1,
          31,
          30.5,
          0,
          38,
          30.1,
          25.8,
          30,
          45.8,
          29.6,
          34.6,
          39.8,
          29,
          36.6,
          31.1,
          39.4,
          31.6,
          32.9,
          38.2,
          37.1,
          45.4,
          42,
          39.1,
          33.7,
          37.7,
          32.9,
          32.8,
          32.5,
          32.9,
          43.4,
          43.2,
          48.8,
          37.1,
          23.8,
          49.7,
          39,
          37.4,
          33.3,
          34,
          30.5,
          31.2,
          34,
          53.2,
          33.3,
          55,
          34.5,
          27.9,
          29.7,
          33.3,
          34.5,
          32.4,
          34.3,
          47.9,
          50,
          40.9,
          31.6,
          29.9,
          30.8,
          35.4,
          32.7,
          67.1,
          39.1,
          35.9,
          30.1,
          32,
          27.9,
          31.6,
          30.4,
          52.3,
          39.4,
          22.9,
          34.8,
          30.9,
          37.5,
          37.7,
          35.5,
          42.6,
          34.2,
          41.8,
          35.8,
          29,
          37.8,
          34.6,
          31.6,
          37.2,
          44,
          46.2,
          43.6,
          35.9,
          44.1,
          30.8,
          25.6,
          27.1,
          30,
          27.6,
          33.6,
          33.3,
          30,
          32,
          36.3,
          27.5,
          45.6,
          26.5,
          37.9,
          30.4,
          27,
          45.6,
          36.6,
          43.3,
          40.5,
          28,
          36.6,
          32.3,
          31.6,
          52.9,
          25.5,
          30.5,
          32.9,
          26.6,
          35.9,
          30.5,
          23.5,
          31.6,
          27.4,
          26.8,
          35.1,
          45.5,
          43.3,
          31.2,
          34.2,
          39.9,
          41,
          30.4,
          33.3,
          39.9,
          36.5,
          31.2,
          38.5,
          27.6,
          32.8,
          38.4,
          39.2,
          48.3,
          32.3,
          43.3,
          32,
          45.7,
          32.9,
          34.3,
          34.9,
          32,
          35,
          32.9,
          28.9,
          25.9,
          42.4,
          34.6,
          35.7,
          38.5,
          26.4,
          42.9,
          37,
          34.1,
          35,
          42.4,
          34.3,
          30.5,
          29.7,
          59.4,
          33.6,
          28.9,
          33.6,
          37.6,
          30,
          33.7,
          35.5,
          44.2,
          42.3,
          28.9,
          25.1,
          39,
          36.5,
          29.7,
          31.6,
          30.3,
          34.2,
          32.9,
          36.4,
          39.4,
          32.4,
          34.9,
          34.5,
          43.6,
          33.8,
          41.3,
          34.3,
          42.9,
          34.7,
          42.1,
          28.7,
          34.9,
          33.3,
          46.8,
          34.4,
          32,
          36.8,
          35.2,
          28.4,
          40,
          32.9,
          38.2,
          36.1,
          28.2,
          32.4,
          27.4,
          31.2,
          40.9,
          29.5,
          23.4,
          37.8,
          28.3,
          38.7,
          34.2,
          42.9,
          37.6,
          37.9,
          33.7,
          32.5,
          27.5,
          30.9,
          24.8,
          36,
          49.6,
          32.3,
          46.1,
          42.3,
          38.5,
          30.4,
          29.9,
          27.6,
          35,
          0,
          32.8,
          38,
          41.2,
          33.9,
          33.8,
          35.6,
          29.3,
          28.4,
          28.4,
          44.5,
          39.5,
          42.3,
          32.7,
          49.3,
          36.4,
          24.3,
          31.2,
          43.3,
          32.4,
          36.5,
          36.3,
          35.5,
          44,
          30.1
         ],
         "y0": " ",
         "yaxis": "y"
        },
        {
         "alignmentgroup": "True",
         "hovertemplate": "Outcome=0<br>BMI=%{y}<extra></extra>",
         "legendgroup": "0",
         "marker": {
          "color": "#EF553B"
         },
         "name": "0",
         "notched": false,
         "offsetgroup": "0",
         "orientation": "v",
         "showlegend": true,
         "type": "box",
         "x0": " ",
         "xaxis": "x",
         "y": [
          26.6,
          28.1,
          25.6,
          35.3,
          37.6,
          27.1,
          43.3,
          39.3,
          35.4,
          23.2,
          22.2,
          34.1,
          36,
          24.8,
          19.9,
          27.6,
          24,
          33.2,
          34,
          40.2,
          22.7,
          27.4,
          29.7,
          28,
          0,
          19.4,
          24.2,
          24.4,
          34.7,
          23,
          46.8,
          40.5,
          41.5,
          0,
          25,
          25.4,
          29,
          42.7,
          19.6,
          28.9,
          28.6,
          35.1,
          32,
          24.7,
          32.6,
          37.7,
          25,
          22.4,
          0,
          29.3,
          24.6,
          32.4,
          36.6,
          38.5,
          26.5,
          19.1,
          32,
          46.7,
          24.7,
          33.9,
          31.6,
          20.4,
          28.7,
          26.1,
          22.5,
          26.6,
          39.6,
          28.7,
          22.4,
          29.5,
          34.3,
          31.2,
          34,
          33.7,
          28.2,
          23.2,
          34.2,
          33.6,
          26.8,
          42.9,
          33.3,
          38.3,
          21.1,
          33.8,
          30.8,
          28.7,
          31.2,
          36.9,
          21.1,
          39.5,
          32.5,
          32.8,
          0,
          32.8,
          30.5,
          33.7,
          27.3,
          37.4,
          21.9,
          40.6,
          24.6,
          25.2,
          29,
          29.7,
          37.2,
          44.2,
          29.7,
          32.5,
          29.6,
          31.9,
          28.4,
          28.9,
          43.5,
          29.7,
          31.2,
          45,
          23.2,
          34.9,
          27.7,
          26.8,
          27.6,
          22.6,
          33.1,
          24.4,
          24.3,
          31,
          40.1,
          27.3,
          20.4,
          37.7,
          23.9,
          33.2,
          27.7,
          42.8,
          34.2,
          30,
          25.2,
          28.8,
          23.6,
          34.6,
          35.7,
          36.7,
          45.2,
          25.4,
          35,
          29.7,
          18.4,
          29.2,
          33.1,
          38.2,
          31.2,
          52.3,
          35.4,
          30.1,
          31.2,
          28,
          24.4,
          35.8,
          30.1,
          28.7,
          25.9,
          30.9,
          32.1,
          32.4,
          33.6,
          40,
          25.1,
          25.2,
          23,
          33.2,
          34.2,
          40.5,
          27.8,
          24.9,
          25.3,
          35.9,
          32.4,
          26,
          38.7,
          20.8,
          36.1,
          36.9,
          21.9,
          35.5,
          30.7,
          23.6,
          35.8,
          21,
          39.7,
          24.8,
          26.2,
          39.4,
          29.5,
          34.1,
          19.3,
          38.1,
          27.5,
          35.7,
          25.6,
          35.1,
          30.8,
          23.1,
          32.7,
          23.6,
          23.9,
          47.9,
          33.8,
          25.9,
          25.9,
          32,
          34.7,
          36.8,
          38.5,
          28.7,
          23.5,
          21.8,
          42.2,
          31.2,
          34.4,
          27.2,
          42.7,
          35.3,
          29.8,
          39.2,
          34.9,
          34,
          21,
          27.5,
          0,
          35.8,
          34.9,
          36.2,
          25.2,
          37.2,
          43.4,
          30.8,
          20,
          25.4,
          25.1,
          24.3,
          22.3,
          31.6,
          32,
          23.7,
          22.1,
          27.7,
          24.7,
          21.1,
          24.2,
          31.6,
          42.1,
          21.9,
          35.7,
          34.4,
          42.4,
          26.2,
          27.2,
          18.2,
          45.3,
          26,
          40.6,
          30.8,
          0,
          40.6,
          22.2,
          30.4,
          30,
          25.6,
          24.5,
          37.4,
          29.9,
          18.2,
          36.8,
          32.2,
          33.2,
          25.3,
          36.5,
          30.5,
          21.2,
          39.9,
          19.6,
          37.8,
          26.7,
          30.2,
          25.9,
          20.8,
          21.8,
          35.3,
          27.6,
          24,
          21.8,
          27.8,
          36.8,
          46.1,
          41.3,
          33.2,
          38.8,
          29.9,
          28.9,
          27.3,
          23.8,
          25.9,
          28,
          35.2,
          27.8,
          38.2,
          40.7,
          46.5,
          25.6,
          26.1,
          36.8,
          33.5,
          32.8,
          0,
          26.6,
          26,
          30.1,
          29.3,
          25.2,
          37.2,
          33.3,
          37.3,
          33.3,
          28.6,
          30.4,
          25,
          22.1,
          24.2,
          27.3,
          25.6,
          37.6,
          32.8,
          19.6,
          25,
          33.2,
          0,
          31.6,
          21.8,
          18.2,
          26.3,
          30.8,
          24.6,
          29.8,
          45.3,
          41.3,
          29.8,
          33.3,
          29.6,
          21.7,
          36.3,
          39.5,
          32,
          33.1,
          32.8,
          28.5,
          27.4,
          31.9,
          27.8,
          29.9,
          36.9,
          25.5,
          38.1,
          27.8,
          46.2,
          30.1,
          37.6,
          26.9,
          32.4,
          26.1,
          38.6,
          32,
          31.3,
          32.5,
          22.6,
          29.5,
          34.7,
          30.1,
          35.5,
          24,
          27,
          25,
          26.5,
          38.7,
          22.5,
          24.3,
          21.1,
          39.4,
          28.5,
          33.6,
          45.3,
          27.8,
          23.1,
          27.1,
          23.7,
          27.8,
          35.8,
          19.5,
          41.5,
          24,
          30.9,
          32.5,
          25.8,
          28.7,
          20.1,
          38.4,
          24.2,
          40.8,
          43.5,
          30.8,
          37.7,
          24.7,
          32.4,
          34.6,
          24.7,
          34.5,
          26.2,
          27.5,
          25.9,
          28.8,
          31.6,
          19.5,
          29.3,
          34.3,
          28,
          27.6,
          39.4,
          26.4,
          25.2,
          33.8,
          34.1,
          26.8,
          34.2,
          21.8,
          38.9,
          39,
          27.7,
          34.8,
          34,
          30.9,
          33.6,
          25.4,
          35.5,
          57.3,
          35.6,
          35.3,
          24.2,
          24.2,
          44.6,
          0,
          33.2,
          23.1,
          28.3,
          24.1,
          24.6,
          39.1,
          23.5,
          25,
          34.5,
          44.5,
          35.9,
          38.5,
          28.4,
          39.8,
          34.4,
          31.2,
          29.6,
          26.4,
          29.5,
          23.1,
          35.5,
          29.3,
          38.1,
          39.1,
          32.8,
          39.4,
          36.1,
          32.4,
          22.9,
          30.1,
          29,
          23.3,
          35.4,
          27.4,
          32,
          36.6,
          30.8,
          28.5,
          40.6,
          30,
          46.3,
          39,
          26,
          32,
          37.5,
          28.4,
          22.5,
          32.9,
          36.8,
          26.2,
          30.4
         ],
         "y0": " ",
         "yaxis": "y"
        }
       ],
       "layout": {
        "boxmode": "group",
        "legend": {
         "title": {
          "text": "Outcome"
         },
         "tracegroupgap": 0
        },
        "template": {
         "data": {
          "bar": [
           {
            "error_x": {
             "color": "#f2f5fa"
            },
            "error_y": {
             "color": "#f2f5fa"
            },
            "marker": {
             "line": {
              "color": "rgb(17,17,17)",
              "width": 0.5
             },
             "pattern": {
              "fillmode": "overlay",
              "size": 10,
              "solidity": 0.2
             }
            },
            "type": "bar"
           }
          ],
          "barpolar": [
           {
            "marker": {
             "line": {
              "color": "rgb(17,17,17)",
              "width": 0.5
             },
             "pattern": {
              "fillmode": "overlay",
              "size": 10,
              "solidity": 0.2
             }
            },
            "type": "barpolar"
           }
          ],
          "carpet": [
           {
            "aaxis": {
             "endlinecolor": "#A2B1C6",
             "gridcolor": "#506784",
             "linecolor": "#506784",
             "minorgridcolor": "#506784",
             "startlinecolor": "#A2B1C6"
            },
            "baxis": {
             "endlinecolor": "#A2B1C6",
             "gridcolor": "#506784",
             "linecolor": "#506784",
             "minorgridcolor": "#506784",
             "startlinecolor": "#A2B1C6"
            },
            "type": "carpet"
           }
          ],
          "choropleth": [
           {
            "colorbar": {
             "outlinewidth": 0,
             "ticks": ""
            },
            "type": "choropleth"
           }
          ],
          "contour": [
           {
            "colorbar": {
             "outlinewidth": 0,
             "ticks": ""
            },
            "colorscale": [
             [
              0,
              "#0d0887"
             ],
             [
              0.1111111111111111,
              "#46039f"
             ],
             [
              0.2222222222222222,
              "#7201a8"
             ],
             [
              0.3333333333333333,
              "#9c179e"
             ],
             [
              0.4444444444444444,
              "#bd3786"
             ],
             [
              0.5555555555555556,
              "#d8576b"
             ],
             [
              0.6666666666666666,
              "#ed7953"
             ],
             [
              0.7777777777777778,
              "#fb9f3a"
             ],
             [
              0.8888888888888888,
              "#fdca26"
             ],
             [
              1,
              "#f0f921"
             ]
            ],
            "type": "contour"
           }
          ],
          "contourcarpet": [
           {
            "colorbar": {
             "outlinewidth": 0,
             "ticks": ""
            },
            "type": "contourcarpet"
           }
          ],
          "heatmap": [
           {
            "colorbar": {
             "outlinewidth": 0,
             "ticks": ""
            },
            "colorscale": [
             [
              0,
              "#0d0887"
             ],
             [
              0.1111111111111111,
              "#46039f"
             ],
             [
              0.2222222222222222,
              "#7201a8"
             ],
             [
              0.3333333333333333,
              "#9c179e"
             ],
             [
              0.4444444444444444,
              "#bd3786"
             ],
             [
              0.5555555555555556,
              "#d8576b"
             ],
             [
              0.6666666666666666,
              "#ed7953"
             ],
             [
              0.7777777777777778,
              "#fb9f3a"
             ],
             [
              0.8888888888888888,
              "#fdca26"
             ],
             [
              1,
              "#f0f921"
             ]
            ],
            "type": "heatmap"
           }
          ],
          "heatmapgl": [
           {
            "colorbar": {
             "outlinewidth": 0,
             "ticks": ""
            },
            "colorscale": [
             [
              0,
              "#0d0887"
             ],
             [
              0.1111111111111111,
              "#46039f"
             ],
             [
              0.2222222222222222,
              "#7201a8"
             ],
             [
              0.3333333333333333,
              "#9c179e"
             ],
             [
              0.4444444444444444,
              "#bd3786"
             ],
             [
              0.5555555555555556,
              "#d8576b"
             ],
             [
              0.6666666666666666,
              "#ed7953"
             ],
             [
              0.7777777777777778,
              "#fb9f3a"
             ],
             [
              0.8888888888888888,
              "#fdca26"
             ],
             [
              1,
              "#f0f921"
             ]
            ],
            "type": "heatmapgl"
           }
          ],
          "histogram": [
           {
            "marker": {
             "pattern": {
              "fillmode": "overlay",
              "size": 10,
              "solidity": 0.2
             }
            },
            "type": "histogram"
           }
          ],
          "histogram2d": [
           {
            "colorbar": {
             "outlinewidth": 0,
             "ticks": ""
            },
            "colorscale": [
             [
              0,
              "#0d0887"
             ],
             [
              0.1111111111111111,
              "#46039f"
             ],
             [
              0.2222222222222222,
              "#7201a8"
             ],
             [
              0.3333333333333333,
              "#9c179e"
             ],
             [
              0.4444444444444444,
              "#bd3786"
             ],
             [
              0.5555555555555556,
              "#d8576b"
             ],
             [
              0.6666666666666666,
              "#ed7953"
             ],
             [
              0.7777777777777778,
              "#fb9f3a"
             ],
             [
              0.8888888888888888,
              "#fdca26"
             ],
             [
              1,
              "#f0f921"
             ]
            ],
            "type": "histogram2d"
           }
          ],
          "histogram2dcontour": [
           {
            "colorbar": {
             "outlinewidth": 0,
             "ticks": ""
            },
            "colorscale": [
             [
              0,
              "#0d0887"
             ],
             [
              0.1111111111111111,
              "#46039f"
             ],
             [
              0.2222222222222222,
              "#7201a8"
             ],
             [
              0.3333333333333333,
              "#9c179e"
             ],
             [
              0.4444444444444444,
              "#bd3786"
             ],
             [
              0.5555555555555556,
              "#d8576b"
             ],
             [
              0.6666666666666666,
              "#ed7953"
             ],
             [
              0.7777777777777778,
              "#fb9f3a"
             ],
             [
              0.8888888888888888,
              "#fdca26"
             ],
             [
              1,
              "#f0f921"
             ]
            ],
            "type": "histogram2dcontour"
           }
          ],
          "mesh3d": [
           {
            "colorbar": {
             "outlinewidth": 0,
             "ticks": ""
            },
            "type": "mesh3d"
           }
          ],
          "parcoords": [
           {
            "line": {
             "colorbar": {
              "outlinewidth": 0,
              "ticks": ""
             }
            },
            "type": "parcoords"
           }
          ],
          "pie": [
           {
            "automargin": true,
            "type": "pie"
           }
          ],
          "scatter": [
           {
            "marker": {
             "line": {
              "color": "#283442"
             }
            },
            "type": "scatter"
           }
          ],
          "scatter3d": [
           {
            "line": {
             "colorbar": {
              "outlinewidth": 0,
              "ticks": ""
             }
            },
            "marker": {
             "colorbar": {
              "outlinewidth": 0,
              "ticks": ""
             }
            },
            "type": "scatter3d"
           }
          ],
          "scattercarpet": [
           {
            "marker": {
             "colorbar": {
              "outlinewidth": 0,
              "ticks": ""
             }
            },
            "type": "scattercarpet"
           }
          ],
          "scattergeo": [
           {
            "marker": {
             "colorbar": {
              "outlinewidth": 0,
              "ticks": ""
             }
            },
            "type": "scattergeo"
           }
          ],
          "scattergl": [
           {
            "marker": {
             "line": {
              "color": "#283442"
             }
            },
            "type": "scattergl"
           }
          ],
          "scattermapbox": [
           {
            "marker": {
             "colorbar": {
              "outlinewidth": 0,
              "ticks": ""
             }
            },
            "type": "scattermapbox"
           }
          ],
          "scatterpolar": [
           {
            "marker": {
             "colorbar": {
              "outlinewidth": 0,
              "ticks": ""
             }
            },
            "type": "scatterpolar"
           }
          ],
          "scatterpolargl": [
           {
            "marker": {
             "colorbar": {
              "outlinewidth": 0,
              "ticks": ""
             }
            },
            "type": "scatterpolargl"
           }
          ],
          "scatterternary": [
           {
            "marker": {
             "colorbar": {
              "outlinewidth": 0,
              "ticks": ""
             }
            },
            "type": "scatterternary"
           }
          ],
          "surface": [
           {
            "colorbar": {
             "outlinewidth": 0,
             "ticks": ""
            },
            "colorscale": [
             [
              0,
              "#0d0887"
             ],
             [
              0.1111111111111111,
              "#46039f"
             ],
             [
              0.2222222222222222,
              "#7201a8"
             ],
             [
              0.3333333333333333,
              "#9c179e"
             ],
             [
              0.4444444444444444,
              "#bd3786"
             ],
             [
              0.5555555555555556,
              "#d8576b"
             ],
             [
              0.6666666666666666,
              "#ed7953"
             ],
             [
              0.7777777777777778,
              "#fb9f3a"
             ],
             [
              0.8888888888888888,
              "#fdca26"
             ],
             [
              1,
              "#f0f921"
             ]
            ],
            "type": "surface"
           }
          ],
          "table": [
           {
            "cells": {
             "fill": {
              "color": "#506784"
             },
             "line": {
              "color": "rgb(17,17,17)"
             }
            },
            "header": {
             "fill": {
              "color": "#2a3f5f"
             },
             "line": {
              "color": "rgb(17,17,17)"
             }
            },
            "type": "table"
           }
          ]
         },
         "layout": {
          "annotationdefaults": {
           "arrowcolor": "#f2f5fa",
           "arrowhead": 0,
           "arrowwidth": 1
          },
          "autotypenumbers": "strict",
          "coloraxis": {
           "colorbar": {
            "outlinewidth": 0,
            "ticks": ""
           }
          },
          "colorscale": {
           "diverging": [
            [
             0,
             "#8e0152"
            ],
            [
             0.1,
             "#c51b7d"
            ],
            [
             0.2,
             "#de77ae"
            ],
            [
             0.3,
             "#f1b6da"
            ],
            [
             0.4,
             "#fde0ef"
            ],
            [
             0.5,
             "#f7f7f7"
            ],
            [
             0.6,
             "#e6f5d0"
            ],
            [
             0.7,
             "#b8e186"
            ],
            [
             0.8,
             "#7fbc41"
            ],
            [
             0.9,
             "#4d9221"
            ],
            [
             1,
             "#276419"
            ]
           ],
           "sequential": [
            [
             0,
             "#0d0887"
            ],
            [
             0.1111111111111111,
             "#46039f"
            ],
            [
             0.2222222222222222,
             "#7201a8"
            ],
            [
             0.3333333333333333,
             "#9c179e"
            ],
            [
             0.4444444444444444,
             "#bd3786"
            ],
            [
             0.5555555555555556,
             "#d8576b"
            ],
            [
             0.6666666666666666,
             "#ed7953"
            ],
            [
             0.7777777777777778,
             "#fb9f3a"
            ],
            [
             0.8888888888888888,
             "#fdca26"
            ],
            [
             1,
             "#f0f921"
            ]
           ],
           "sequentialminus": [
            [
             0,
             "#0d0887"
            ],
            [
             0.1111111111111111,
             "#46039f"
            ],
            [
             0.2222222222222222,
             "#7201a8"
            ],
            [
             0.3333333333333333,
             "#9c179e"
            ],
            [
             0.4444444444444444,
             "#bd3786"
            ],
            [
             0.5555555555555556,
             "#d8576b"
            ],
            [
             0.6666666666666666,
             "#ed7953"
            ],
            [
             0.7777777777777778,
             "#fb9f3a"
            ],
            [
             0.8888888888888888,
             "#fdca26"
            ],
            [
             1,
             "#f0f921"
            ]
           ]
          },
          "colorway": [
           "#636efa",
           "#EF553B",
           "#00cc96",
           "#ab63fa",
           "#FFA15A",
           "#19d3f3",
           "#FF6692",
           "#B6E880",
           "#FF97FF",
           "#FECB52"
          ],
          "font": {
           "color": "#f2f5fa"
          },
          "geo": {
           "bgcolor": "rgb(17,17,17)",
           "lakecolor": "rgb(17,17,17)",
           "landcolor": "rgb(17,17,17)",
           "showlakes": true,
           "showland": true,
           "subunitcolor": "#506784"
          },
          "hoverlabel": {
           "align": "left"
          },
          "hovermode": "closest",
          "mapbox": {
           "style": "dark"
          },
          "paper_bgcolor": "rgb(17,17,17)",
          "plot_bgcolor": "rgb(17,17,17)",
          "polar": {
           "angularaxis": {
            "gridcolor": "#506784",
            "linecolor": "#506784",
            "ticks": ""
           },
           "bgcolor": "rgb(17,17,17)",
           "radialaxis": {
            "gridcolor": "#506784",
            "linecolor": "#506784",
            "ticks": ""
           }
          },
          "scene": {
           "xaxis": {
            "backgroundcolor": "rgb(17,17,17)",
            "gridcolor": "#506784",
            "gridwidth": 2,
            "linecolor": "#506784",
            "showbackground": true,
            "ticks": "",
            "zerolinecolor": "#C8D4E3"
           },
           "yaxis": {
            "backgroundcolor": "rgb(17,17,17)",
            "gridcolor": "#506784",
            "gridwidth": 2,
            "linecolor": "#506784",
            "showbackground": true,
            "ticks": "",
            "zerolinecolor": "#C8D4E3"
           },
           "zaxis": {
            "backgroundcolor": "rgb(17,17,17)",
            "gridcolor": "#506784",
            "gridwidth": 2,
            "linecolor": "#506784",
            "showbackground": true,
            "ticks": "",
            "zerolinecolor": "#C8D4E3"
           }
          },
          "shapedefaults": {
           "line": {
            "color": "#f2f5fa"
           }
          },
          "sliderdefaults": {
           "bgcolor": "#C8D4E3",
           "bordercolor": "rgb(17,17,17)",
           "borderwidth": 1,
           "tickwidth": 0
          },
          "ternary": {
           "aaxis": {
            "gridcolor": "#506784",
            "linecolor": "#506784",
            "ticks": ""
           },
           "baxis": {
            "gridcolor": "#506784",
            "linecolor": "#506784",
            "ticks": ""
           },
           "bgcolor": "rgb(17,17,17)",
           "caxis": {
            "gridcolor": "#506784",
            "linecolor": "#506784",
            "ticks": ""
           }
          },
          "title": {
           "x": 0.05
          },
          "updatemenudefaults": {
           "bgcolor": "#506784",
           "borderwidth": 0
          },
          "xaxis": {
           "automargin": true,
           "gridcolor": "#283442",
           "linecolor": "#506784",
           "ticks": "",
           "title": {
            "standoff": 15
           },
           "zerolinecolor": "#283442",
           "zerolinewidth": 2
          },
          "yaxis": {
           "automargin": true,
           "gridcolor": "#283442",
           "linecolor": "#506784",
           "ticks": "",
           "title": {
            "standoff": 15
           },
           "zerolinecolor": "#283442",
           "zerolinewidth": 2
          }
         }
        },
        "title": {
         "text": "BMI"
        },
        "xaxis": {
         "anchor": "y",
         "domain": [
          0,
          1
         ]
        },
        "yaxis": {
         "anchor": "x",
         "domain": [
          0,
          1
         ],
         "title": {
          "text": "BMI"
         }
        }
       }
      }
     },
     "metadata": {},
     "output_type": "display_data"
    },
    {
     "data": {
      "application/vnd.plotly.v1+json": {
       "config": {
        "plotlyServerURL": "https://plot.ly"
       },
       "data": [
        {
         "alignmentgroup": "True",
         "hovertemplate": "Outcome=1<br>DiabetesPedigreeFunction=%{y}<extra></extra>",
         "legendgroup": "1",
         "marker": {
          "color": "#636efa"
         },
         "name": "1",
         "notched": false,
         "offsetgroup": "1",
         "orientation": "v",
         "showlegend": true,
         "type": "box",
         "x0": " ",
         "xaxis": "x",
         "y": [
          0.627,
          0.672,
          2.288,
          0.248,
          0.158,
          0.232,
          0.537,
          0.398,
          0.587,
          0.484,
          0.551,
          0.254,
          0.529,
          0.451,
          0.263,
          0.254,
          0.205,
          0.257,
          0.851,
          0.665,
          0.503,
          1.39,
          0.721,
          1.893,
          0.344,
          0.467,
          0.254,
          0.27,
          0.258,
          0.855,
          0.867,
          0.583,
          0.27,
          0.227,
          0.153,
          0.277,
          0.325,
          1.222,
          0.247,
          0.199,
          0.543,
          0.588,
          0.539,
          0.22,
          0.759,
          0.278,
          0.496,
          0.403,
          0.741,
          0.361,
          1.114,
          0.356,
          0.272,
          1.189,
          0.137,
          0.337,
          0.817,
          0.743,
          0.722,
          0.18,
          0.542,
          0.719,
          0.319,
          0.956,
          0.745,
          0.615,
          1.321,
          0.64,
          0.361,
          0.383,
          0.578,
          0.395,
          0.678,
          0.905,
          0.15,
          0.605,
          0.151,
          0.355,
          0.431,
          0.26,
          0.742,
          0.514,
          1.224,
          0.261,
          1.072,
          0.805,
          0.652,
          0.645,
          0.238,
          0.479,
          0.586,
          0.686,
          0.831,
          0.402,
          1.318,
          1.213,
          0.926,
          0.543,
          1.353,
          0.761,
          0.226,
          0.933,
          0.24,
          1.136,
          0.296,
          0.334,
          0.165,
          0.259,
          0.808,
          0.757,
          1.224,
          0.613,
          0.337,
          0.412,
          0.839,
          0.422,
          0.209,
          0.326,
          1.391,
          0.875,
          0.433,
          1.127,
          0.345,
          0.129,
          0.197,
          0.254,
          0.731,
          0.692,
          0.127,
          0.282,
          0.343,
          0.893,
          0.331,
          0.346,
          0.302,
          0.962,
          0.569,
          0.875,
          0.583,
          0.52,
          0.368,
          0.234,
          2.137,
          0.528,
          0.238,
          0.66,
          0.239,
          0.452,
          0.34,
          0.803,
          0.196,
          0.241,
          0.161,
          0.286,
          0.135,
          0.376,
          1.191,
          0.702,
          0.534,
          0.258,
          0.554,
          0.219,
          0.516,
          0.264,
          0.328,
          0.233,
          0.205,
          0.435,
          0.955,
          0.38,
          2.42,
          0.51,
          0.542,
          0.212,
          1.001,
          0.183,
          0.711,
          0.344,
          0.63,
          0.365,
          1.144,
          0.163,
          0.727,
          0.314,
          0.297,
          0.268,
          0.771,
          0.652,
          0.302,
          0.968,
          0.661,
          0.549,
          0.825,
          0.423,
          1.034,
          0.121,
          0.502,
          0.203,
          0.693,
          0.575,
          0.371,
          0.687,
          0.129,
          1.154,
          0.925,
          0.402,
          0.682,
          0.088,
          0.692,
          0.212,
          1.258,
          0.593,
          0.787,
          0.557,
          1.282,
          0.141,
          0.732,
          0.465,
          0.871,
          0.178,
          0.447,
          0.455,
          0.26,
          0.24,
          1.292,
          1.394,
          0.165,
          0.637,
          0.245,
          0.235,
          0.141,
          0.328,
          0.23,
          0.127,
          0.364,
          0.536,
          0.335,
          0.257,
          0.439,
          0.128,
          0.268,
          0.565,
          0.905,
          0.261,
          0.148,
          0.674,
          0.441,
          0.826,
          0.97,
          0.378,
          0.349,
          0.323,
          0.259,
          0.646,
          0.293,
          0.785,
          0.734,
          0.358,
          0.408,
          0.178,
          1.182,
          0.222,
          0.443,
          1.057,
          0.258,
          0.278,
          0.403,
          0.349
         ],
         "y0": " ",
         "yaxis": "y"
        },
        {
         "alignmentgroup": "True",
         "hovertemplate": "Outcome=0<br>DiabetesPedigreeFunction=%{y}<extra></extra>",
         "legendgroup": "0",
         "marker": {
          "color": "#EF553B"
         },
         "name": "0",
         "notched": false,
         "offsetgroup": "0",
         "orientation": "v",
         "showlegend": true,
         "type": "box",
         "x0": " ",
         "xaxis": "x",
         "y": [
          0.351,
          0.167,
          0.201,
          0.134,
          0.191,
          1.441,
          0.183,
          0.704,
          0.388,
          0.487,
          0.245,
          0.337,
          0.546,
          0.267,
          0.188,
          0.512,
          0.966,
          0.42,
          0.271,
          0.696,
          0.235,
          0.294,
          0.564,
          0.586,
          0.305,
          0.491,
          0.526,
          0.342,
          0.718,
          0.248,
          0.962,
          1.781,
          0.173,
          0.304,
          0.587,
          0.699,
          0.203,
          0.845,
          0.334,
          0.189,
          0.411,
          0.231,
          0.396,
          0.14,
          0.391,
          0.37,
          0.307,
          0.14,
          0.102,
          0.767,
          0.237,
          0.698,
          0.178,
          0.324,
          0.165,
          0.258,
          0.443,
          0.261,
          0.761,
          0.255,
          0.13,
          0.323,
          0.356,
          0.179,
          0.262,
          0.283,
          0.93,
          0.801,
          0.207,
          0.287,
          0.336,
          0.192,
          0.391,
          0.654,
          0.443,
          0.223,
          0.26,
          0.404,
          0.186,
          0.452,
          0.261,
          0.457,
          0.647,
          0.088,
          0.597,
          0.532,
          0.703,
          0.159,
          0.268,
          0.286,
          0.318,
          0.237,
          0.572,
          0.096,
          1.4,
          0.218,
          0.085,
          0.399,
          0.432,
          0.687,
          0.637,
          0.833,
          0.229,
          0.294,
          0.204,
          0.167,
          0.368,
          0.256,
          0.709,
          0.471,
          0.495,
          0.773,
          0.678,
          0.37,
          0.382,
          0.19,
          0.084,
          0.725,
          0.299,
          0.268,
          0.244,
          0.142,
          0.374,
          0.136,
          0.187,
          0.874,
          0.236,
          0.787,
          0.235,
          0.324,
          0.407,
          0.289,
          0.29,
          0.375,
          0.164,
          0.464,
          0.209,
          0.687,
          0.666,
          0.101,
          0.198,
          2.329,
          0.089,
          0.583,
          0.394,
          0.293,
          0.582,
          0.192,
          0.446,
          0.329,
          0.258,
          0.427,
          0.282,
          0.143,
          0.38,
          0.284,
          0.249,
          0.238,
          0.557,
          0.092,
          0.655,
          0.299,
          0.612,
          0.2,
          0.997,
          1.101,
          0.078,
          0.128,
          0.254,
          0.422,
          0.251,
          0.677,
          0.454,
          0.744,
          0.881,
          0.28,
          0.262,
          0.647,
          0.619,
          0.34,
          0.263,
          0.434,
          0.254,
          0.692,
          0.52,
          0.84,
          0.156,
          0.207,
          0.215,
          0.143,
          0.313,
          0.605,
          0.626,
          0.315,
          0.284,
          0.15,
          0.527,
          0.148,
          0.123,
          0.2,
          0.122,
          1.476,
          0.166,
          0.137,
          0.26,
          0.259,
          0.932,
          0.472,
          0.673,
          0.389,
          0.29,
          0.485,
          0.349,
          0.654,
          0.187,
          0.279,
          0.237,
          0.252,
          0.243,
          0.58,
          0.559,
          0.378,
          0.207,
          0.305,
          0.385,
          0.499,
          0.252,
          0.306,
          1.731,
          0.545,
          0.225,
          0.816,
          0.299,
          0.509,
          1.021,
          0.821,
          0.236,
          0.947,
          1.268,
          0.221,
          0.205,
          0.949,
          0.444,
          0.389,
          0.463,
          1.6,
          0.944,
          0.389,
          0.151,
          0.28,
          0.52,
          0.336,
          0.674,
          0.528,
          1.076,
          0.256,
          1.095,
          0.624,
          0.507,
          0.561,
          0.496,
          0.421,
          0.256,
          0.284,
          0.108,
          0.551,
          0.527,
          0.167,
          1.138,
          0.244,
          0.434,
          0.147,
          0.727,
          0.497,
          0.23,
          0.658,
          0.33,
          0.285,
          0.415,
          0.381,
          0.832,
          0.498,
          0.687,
          0.364,
          0.46,
          0.733,
          0.416,
          0.705,
          0.258,
          1.022,
          0.452,
          0.269,
          0.6,
          0.571,
          0.607,
          0.17,
          0.259,
          0.21,
          0.126,
          0.231,
          0.466,
          0.162,
          0.419,
          0.197,
          0.306,
          0.233,
          0.536,
          1.159,
          0.294,
          0.551,
          0.629,
          0.292,
          0.145,
          0.174,
          0.304,
          0.292,
          0.547,
          0.839,
          0.313,
          0.267,
          0.738,
          0.238,
          0.263,
          0.692,
          0.968,
          0.409,
          0.207,
          0.2,
          0.525,
          0.154,
          0.304,
          0.18,
          0.582,
          0.187,
          0.305,
          0.189,
          0.151,
          0.444,
          0.299,
          0.107,
          0.493,
          0.66,
          0.717,
          0.686,
          0.917,
          0.501,
          1.251,
          0.197,
          0.735,
          0.804,
          0.159,
          0.365,
          0.16,
          0.341,
          0.68,
          0.204,
          0.591,
          0.247,
          0.422,
          0.471,
          0.161,
          0.218,
          0.237,
          0.126,
          0.3,
          0.401,
          0.497,
          0.601,
          0.748,
          0.412,
          0.085,
          0.338,
          0.27,
          0.268,
          0.43,
          0.198,
          0.892,
          0.28,
          0.813,
          0.245,
          0.206,
          0.259,
          0.19,
          0.417,
          0.249,
          0.342,
          0.175,
          1.699,
          0.733,
          0.194,
          0.559,
          0.407,
          0.4,
          0.19,
          0.1,
          0.514,
          0.482,
          0.27,
          0.138,
          0.292,
          0.878,
          0.207,
          0.157,
          0.257,
          0.246,
          1.698,
          1.461,
          0.347,
          0.158,
          0.362,
          0.206,
          0.393,
          0.144,
          0.148,
          0.238,
          0.343,
          0.115,
          0.167,
          0.153,
          0.649,
          0.149,
          0.695,
          0.303,
          0.61,
          0.73,
          0.134,
          0.133,
          0.234,
          0.466,
          0.269,
          0.455,
          0.142,
          0.155,
          1.162,
          0.19,
          0.182,
          0.217,
          0.43,
          0.164,
          0.631,
          0.551,
          0.285,
          0.88,
          0.587,
          0.263,
          0.614,
          0.332,
          0.366,
          0.64,
          0.591,
          0.314,
          0.181,
          0.828,
          0.856,
          0.886,
          0.191,
          0.253,
          0.598,
          0.904,
          0.483,
          0.304,
          0.118,
          0.177,
          0.176,
          0.295,
          0.439,
          0.352,
          0.121,
          0.595,
          0.415,
          0.317,
          0.289,
          0.251,
          0.265,
          0.236,
          0.496,
          0.433,
          0.326,
          0.141,
          0.426,
          0.56,
          0.284,
          0.515,
          0.6,
          0.453,
          0.4,
          0.219,
          1.174,
          0.488,
          1.096,
          0.261,
          0.223,
          0.391,
          0.197,
          0.766,
          0.142,
          0.171,
          0.34,
          0.245,
          0.315
         ],
         "y0": " ",
         "yaxis": "y"
        }
       ],
       "layout": {
        "boxmode": "group",
        "legend": {
         "title": {
          "text": "Outcome"
         },
         "tracegroupgap": 0
        },
        "template": {
         "data": {
          "bar": [
           {
            "error_x": {
             "color": "#f2f5fa"
            },
            "error_y": {
             "color": "#f2f5fa"
            },
            "marker": {
             "line": {
              "color": "rgb(17,17,17)",
              "width": 0.5
             },
             "pattern": {
              "fillmode": "overlay",
              "size": 10,
              "solidity": 0.2
             }
            },
            "type": "bar"
           }
          ],
          "barpolar": [
           {
            "marker": {
             "line": {
              "color": "rgb(17,17,17)",
              "width": 0.5
             },
             "pattern": {
              "fillmode": "overlay",
              "size": 10,
              "solidity": 0.2
             }
            },
            "type": "barpolar"
           }
          ],
          "carpet": [
           {
            "aaxis": {
             "endlinecolor": "#A2B1C6",
             "gridcolor": "#506784",
             "linecolor": "#506784",
             "minorgridcolor": "#506784",
             "startlinecolor": "#A2B1C6"
            },
            "baxis": {
             "endlinecolor": "#A2B1C6",
             "gridcolor": "#506784",
             "linecolor": "#506784",
             "minorgridcolor": "#506784",
             "startlinecolor": "#A2B1C6"
            },
            "type": "carpet"
           }
          ],
          "choropleth": [
           {
            "colorbar": {
             "outlinewidth": 0,
             "ticks": ""
            },
            "type": "choropleth"
           }
          ],
          "contour": [
           {
            "colorbar": {
             "outlinewidth": 0,
             "ticks": ""
            },
            "colorscale": [
             [
              0,
              "#0d0887"
             ],
             [
              0.1111111111111111,
              "#46039f"
             ],
             [
              0.2222222222222222,
              "#7201a8"
             ],
             [
              0.3333333333333333,
              "#9c179e"
             ],
             [
              0.4444444444444444,
              "#bd3786"
             ],
             [
              0.5555555555555556,
              "#d8576b"
             ],
             [
              0.6666666666666666,
              "#ed7953"
             ],
             [
              0.7777777777777778,
              "#fb9f3a"
             ],
             [
              0.8888888888888888,
              "#fdca26"
             ],
             [
              1,
              "#f0f921"
             ]
            ],
            "type": "contour"
           }
          ],
          "contourcarpet": [
           {
            "colorbar": {
             "outlinewidth": 0,
             "ticks": ""
            },
            "type": "contourcarpet"
           }
          ],
          "heatmap": [
           {
            "colorbar": {
             "outlinewidth": 0,
             "ticks": ""
            },
            "colorscale": [
             [
              0,
              "#0d0887"
             ],
             [
              0.1111111111111111,
              "#46039f"
             ],
             [
              0.2222222222222222,
              "#7201a8"
             ],
             [
              0.3333333333333333,
              "#9c179e"
             ],
             [
              0.4444444444444444,
              "#bd3786"
             ],
             [
              0.5555555555555556,
              "#d8576b"
             ],
             [
              0.6666666666666666,
              "#ed7953"
             ],
             [
              0.7777777777777778,
              "#fb9f3a"
             ],
             [
              0.8888888888888888,
              "#fdca26"
             ],
             [
              1,
              "#f0f921"
             ]
            ],
            "type": "heatmap"
           }
          ],
          "heatmapgl": [
           {
            "colorbar": {
             "outlinewidth": 0,
             "ticks": ""
            },
            "colorscale": [
             [
              0,
              "#0d0887"
             ],
             [
              0.1111111111111111,
              "#46039f"
             ],
             [
              0.2222222222222222,
              "#7201a8"
             ],
             [
              0.3333333333333333,
              "#9c179e"
             ],
             [
              0.4444444444444444,
              "#bd3786"
             ],
             [
              0.5555555555555556,
              "#d8576b"
             ],
             [
              0.6666666666666666,
              "#ed7953"
             ],
             [
              0.7777777777777778,
              "#fb9f3a"
             ],
             [
              0.8888888888888888,
              "#fdca26"
             ],
             [
              1,
              "#f0f921"
             ]
            ],
            "type": "heatmapgl"
           }
          ],
          "histogram": [
           {
            "marker": {
             "pattern": {
              "fillmode": "overlay",
              "size": 10,
              "solidity": 0.2
             }
            },
            "type": "histogram"
           }
          ],
          "histogram2d": [
           {
            "colorbar": {
             "outlinewidth": 0,
             "ticks": ""
            },
            "colorscale": [
             [
              0,
              "#0d0887"
             ],
             [
              0.1111111111111111,
              "#46039f"
             ],
             [
              0.2222222222222222,
              "#7201a8"
             ],
             [
              0.3333333333333333,
              "#9c179e"
             ],
             [
              0.4444444444444444,
              "#bd3786"
             ],
             [
              0.5555555555555556,
              "#d8576b"
             ],
             [
              0.6666666666666666,
              "#ed7953"
             ],
             [
              0.7777777777777778,
              "#fb9f3a"
             ],
             [
              0.8888888888888888,
              "#fdca26"
             ],
             [
              1,
              "#f0f921"
             ]
            ],
            "type": "histogram2d"
           }
          ],
          "histogram2dcontour": [
           {
            "colorbar": {
             "outlinewidth": 0,
             "ticks": ""
            },
            "colorscale": [
             [
              0,
              "#0d0887"
             ],
             [
              0.1111111111111111,
              "#46039f"
             ],
             [
              0.2222222222222222,
              "#7201a8"
             ],
             [
              0.3333333333333333,
              "#9c179e"
             ],
             [
              0.4444444444444444,
              "#bd3786"
             ],
             [
              0.5555555555555556,
              "#d8576b"
             ],
             [
              0.6666666666666666,
              "#ed7953"
             ],
             [
              0.7777777777777778,
              "#fb9f3a"
             ],
             [
              0.8888888888888888,
              "#fdca26"
             ],
             [
              1,
              "#f0f921"
             ]
            ],
            "type": "histogram2dcontour"
           }
          ],
          "mesh3d": [
           {
            "colorbar": {
             "outlinewidth": 0,
             "ticks": ""
            },
            "type": "mesh3d"
           }
          ],
          "parcoords": [
           {
            "line": {
             "colorbar": {
              "outlinewidth": 0,
              "ticks": ""
             }
            },
            "type": "parcoords"
           }
          ],
          "pie": [
           {
            "automargin": true,
            "type": "pie"
           }
          ],
          "scatter": [
           {
            "marker": {
             "line": {
              "color": "#283442"
             }
            },
            "type": "scatter"
           }
          ],
          "scatter3d": [
           {
            "line": {
             "colorbar": {
              "outlinewidth": 0,
              "ticks": ""
             }
            },
            "marker": {
             "colorbar": {
              "outlinewidth": 0,
              "ticks": ""
             }
            },
            "type": "scatter3d"
           }
          ],
          "scattercarpet": [
           {
            "marker": {
             "colorbar": {
              "outlinewidth": 0,
              "ticks": ""
             }
            },
            "type": "scattercarpet"
           }
          ],
          "scattergeo": [
           {
            "marker": {
             "colorbar": {
              "outlinewidth": 0,
              "ticks": ""
             }
            },
            "type": "scattergeo"
           }
          ],
          "scattergl": [
           {
            "marker": {
             "line": {
              "color": "#283442"
             }
            },
            "type": "scattergl"
           }
          ],
          "scattermapbox": [
           {
            "marker": {
             "colorbar": {
              "outlinewidth": 0,
              "ticks": ""
             }
            },
            "type": "scattermapbox"
           }
          ],
          "scatterpolar": [
           {
            "marker": {
             "colorbar": {
              "outlinewidth": 0,
              "ticks": ""
             }
            },
            "type": "scatterpolar"
           }
          ],
          "scatterpolargl": [
           {
            "marker": {
             "colorbar": {
              "outlinewidth": 0,
              "ticks": ""
             }
            },
            "type": "scatterpolargl"
           }
          ],
          "scatterternary": [
           {
            "marker": {
             "colorbar": {
              "outlinewidth": 0,
              "ticks": ""
             }
            },
            "type": "scatterternary"
           }
          ],
          "surface": [
           {
            "colorbar": {
             "outlinewidth": 0,
             "ticks": ""
            },
            "colorscale": [
             [
              0,
              "#0d0887"
             ],
             [
              0.1111111111111111,
              "#46039f"
             ],
             [
              0.2222222222222222,
              "#7201a8"
             ],
             [
              0.3333333333333333,
              "#9c179e"
             ],
             [
              0.4444444444444444,
              "#bd3786"
             ],
             [
              0.5555555555555556,
              "#d8576b"
             ],
             [
              0.6666666666666666,
              "#ed7953"
             ],
             [
              0.7777777777777778,
              "#fb9f3a"
             ],
             [
              0.8888888888888888,
              "#fdca26"
             ],
             [
              1,
              "#f0f921"
             ]
            ],
            "type": "surface"
           }
          ],
          "table": [
           {
            "cells": {
             "fill": {
              "color": "#506784"
             },
             "line": {
              "color": "rgb(17,17,17)"
             }
            },
            "header": {
             "fill": {
              "color": "#2a3f5f"
             },
             "line": {
              "color": "rgb(17,17,17)"
             }
            },
            "type": "table"
           }
          ]
         },
         "layout": {
          "annotationdefaults": {
           "arrowcolor": "#f2f5fa",
           "arrowhead": 0,
           "arrowwidth": 1
          },
          "autotypenumbers": "strict",
          "coloraxis": {
           "colorbar": {
            "outlinewidth": 0,
            "ticks": ""
           }
          },
          "colorscale": {
           "diverging": [
            [
             0,
             "#8e0152"
            ],
            [
             0.1,
             "#c51b7d"
            ],
            [
             0.2,
             "#de77ae"
            ],
            [
             0.3,
             "#f1b6da"
            ],
            [
             0.4,
             "#fde0ef"
            ],
            [
             0.5,
             "#f7f7f7"
            ],
            [
             0.6,
             "#e6f5d0"
            ],
            [
             0.7,
             "#b8e186"
            ],
            [
             0.8,
             "#7fbc41"
            ],
            [
             0.9,
             "#4d9221"
            ],
            [
             1,
             "#276419"
            ]
           ],
           "sequential": [
            [
             0,
             "#0d0887"
            ],
            [
             0.1111111111111111,
             "#46039f"
            ],
            [
             0.2222222222222222,
             "#7201a8"
            ],
            [
             0.3333333333333333,
             "#9c179e"
            ],
            [
             0.4444444444444444,
             "#bd3786"
            ],
            [
             0.5555555555555556,
             "#d8576b"
            ],
            [
             0.6666666666666666,
             "#ed7953"
            ],
            [
             0.7777777777777778,
             "#fb9f3a"
            ],
            [
             0.8888888888888888,
             "#fdca26"
            ],
            [
             1,
             "#f0f921"
            ]
           ],
           "sequentialminus": [
            [
             0,
             "#0d0887"
            ],
            [
             0.1111111111111111,
             "#46039f"
            ],
            [
             0.2222222222222222,
             "#7201a8"
            ],
            [
             0.3333333333333333,
             "#9c179e"
            ],
            [
             0.4444444444444444,
             "#bd3786"
            ],
            [
             0.5555555555555556,
             "#d8576b"
            ],
            [
             0.6666666666666666,
             "#ed7953"
            ],
            [
             0.7777777777777778,
             "#fb9f3a"
            ],
            [
             0.8888888888888888,
             "#fdca26"
            ],
            [
             1,
             "#f0f921"
            ]
           ]
          },
          "colorway": [
           "#636efa",
           "#EF553B",
           "#00cc96",
           "#ab63fa",
           "#FFA15A",
           "#19d3f3",
           "#FF6692",
           "#B6E880",
           "#FF97FF",
           "#FECB52"
          ],
          "font": {
           "color": "#f2f5fa"
          },
          "geo": {
           "bgcolor": "rgb(17,17,17)",
           "lakecolor": "rgb(17,17,17)",
           "landcolor": "rgb(17,17,17)",
           "showlakes": true,
           "showland": true,
           "subunitcolor": "#506784"
          },
          "hoverlabel": {
           "align": "left"
          },
          "hovermode": "closest",
          "mapbox": {
           "style": "dark"
          },
          "paper_bgcolor": "rgb(17,17,17)",
          "plot_bgcolor": "rgb(17,17,17)",
          "polar": {
           "angularaxis": {
            "gridcolor": "#506784",
            "linecolor": "#506784",
            "ticks": ""
           },
           "bgcolor": "rgb(17,17,17)",
           "radialaxis": {
            "gridcolor": "#506784",
            "linecolor": "#506784",
            "ticks": ""
           }
          },
          "scene": {
           "xaxis": {
            "backgroundcolor": "rgb(17,17,17)",
            "gridcolor": "#506784",
            "gridwidth": 2,
            "linecolor": "#506784",
            "showbackground": true,
            "ticks": "",
            "zerolinecolor": "#C8D4E3"
           },
           "yaxis": {
            "backgroundcolor": "rgb(17,17,17)",
            "gridcolor": "#506784",
            "gridwidth": 2,
            "linecolor": "#506784",
            "showbackground": true,
            "ticks": "",
            "zerolinecolor": "#C8D4E3"
           },
           "zaxis": {
            "backgroundcolor": "rgb(17,17,17)",
            "gridcolor": "#506784",
            "gridwidth": 2,
            "linecolor": "#506784",
            "showbackground": true,
            "ticks": "",
            "zerolinecolor": "#C8D4E3"
           }
          },
          "shapedefaults": {
           "line": {
            "color": "#f2f5fa"
           }
          },
          "sliderdefaults": {
           "bgcolor": "#C8D4E3",
           "bordercolor": "rgb(17,17,17)",
           "borderwidth": 1,
           "tickwidth": 0
          },
          "ternary": {
           "aaxis": {
            "gridcolor": "#506784",
            "linecolor": "#506784",
            "ticks": ""
           },
           "baxis": {
            "gridcolor": "#506784",
            "linecolor": "#506784",
            "ticks": ""
           },
           "bgcolor": "rgb(17,17,17)",
           "caxis": {
            "gridcolor": "#506784",
            "linecolor": "#506784",
            "ticks": ""
           }
          },
          "title": {
           "x": 0.05
          },
          "updatemenudefaults": {
           "bgcolor": "#506784",
           "borderwidth": 0
          },
          "xaxis": {
           "automargin": true,
           "gridcolor": "#283442",
           "linecolor": "#506784",
           "ticks": "",
           "title": {
            "standoff": 15
           },
           "zerolinecolor": "#283442",
           "zerolinewidth": 2
          },
          "yaxis": {
           "automargin": true,
           "gridcolor": "#283442",
           "linecolor": "#506784",
           "ticks": "",
           "title": {
            "standoff": 15
           },
           "zerolinecolor": "#283442",
           "zerolinewidth": 2
          }
         }
        },
        "title": {
         "text": "DiabetesPedigreeFunction"
        },
        "xaxis": {
         "anchor": "y",
         "domain": [
          0,
          1
         ]
        },
        "yaxis": {
         "anchor": "x",
         "domain": [
          0,
          1
         ],
         "title": {
          "text": "DiabetesPedigreeFunction"
         }
        }
       }
      }
     },
     "metadata": {},
     "output_type": "display_data"
    },
    {
     "data": {
      "application/vnd.plotly.v1+json": {
       "config": {
        "plotlyServerURL": "https://plot.ly"
       },
       "data": [
        {
         "alignmentgroup": "True",
         "hovertemplate": "Outcome=1<br>Age=%{y}<extra></extra>",
         "legendgroup": "1",
         "marker": {
          "color": "#636efa"
         },
         "name": "1",
         "notched": false,
         "offsetgroup": "1",
         "orientation": "v",
         "showlegend": true,
         "type": "box",
         "x0": " ",
         "xaxis": "x",
         "y": [
          50,
          32,
          33,
          26,
          53,
          54,
          34,
          59,
          51,
          32,
          31,
          31,
          32,
          41,
          29,
          51,
          41,
          43,
          28,
          46,
          27,
          56,
          54,
          25,
          31,
          58,
          41,
          39,
          42,
          38,
          28,
          42,
          26,
          37,
          43,
          60,
          31,
          33,
          24,
          24,
          46,
          39,
          61,
          38,
          25,
          23,
          26,
          40,
          62,
          33,
          33,
          30,
          42,
          42,
          43,
          36,
          47,
          32,
          41,
          36,
          29,
          36,
          26,
          37,
          41,
          60,
          33,
          31,
          25,
          36,
          40,
          29,
          23,
          26,
          29,
          57,
          52,
          41,
          24,
          36,
          38,
          25,
          32,
          41,
          21,
          66,
          24,
          22,
          46,
          26,
          51,
          23,
          32,
          22,
          33,
          49,
          44,
          21,
          51,
          27,
          35,
          25,
          28,
          38,
          29,
          28,
          47,
          52,
          29,
          25,
          31,
          24,
          29,
          46,
          30,
          25,
          28,
          47,
          25,
          30,
          27,
          43,
          29,
          59,
          25,
          36,
          43,
          30,
          23,
          41,
          44,
          33,
          41,
          37,
          49,
          28,
          44,
          29,
          29,
          67,
          29,
          45,
          25,
          58,
          32,
          35,
          45,
          58,
          27,
          31,
          22,
          25,
          31,
          35,
          41,
          46,
          39,
          28,
          21,
          22,
          37,
          28,
          36,
          31,
          38,
          43,
          29,
          41,
          33,
          30,
          25,
          22,
          23,
          38,
          51,
          38,
          29,
          35,
          31,
          24,
          45,
          55,
          41,
          35,
          46,
          28,
          53,
          45,
          23,
          32,
          43,
          27,
          56,
          37,
          53,
          54,
          28,
          33,
          21,
          62,
          21,
          52,
          41,
          52,
          45,
          44,
          22,
          38,
          54,
          36,
          22,
          36,
          40,
          50,
          50,
          24,
          34,
          38,
          32,
          50,
          33,
          22,
          42,
          25,
          27,
          22,
          43,
          40,
          40,
          70,
          40,
          31,
          53,
          25,
          26,
          27,
          46,
          44,
          43,
          43,
          31,
          49,
          52,
          30,
          45,
          23,
          38,
          34,
          31,
          52,
          42,
          34,
          22,
          24,
          42,
          48,
          45,
          27,
          36,
          50,
          22,
          26,
          45,
          37,
          52,
          66,
          43,
          47
         ],
         "y0": " ",
         "yaxis": "y"
        },
        {
         "alignmentgroup": "True",
         "hovertemplate": "Outcome=0<br>Age=%{y}<extra></extra>",
         "legendgroup": "0",
         "marker": {
          "color": "#EF553B"
         },
         "name": "0",
         "notched": false,
         "offsetgroup": "0",
         "orientation": "v",
         "showlegend": true,
         "type": "box",
         "x0": " ",
         "xaxis": "x",
         "y": [
          31,
          21,
          30,
          29,
          30,
          57,
          33,
          27,
          50,
          22,
          57,
          38,
          60,
          22,
          28,
          45,
          33,
          35,
          26,
          37,
          48,
          40,
          29,
          22,
          24,
          22,
          26,
          30,
          42,
          21,
          31,
          44,
          22,
          21,
          36,
          24,
          32,
          54,
          25,
          27,
          26,
          23,
          22,
          22,
          41,
          27,
          24,
          22,
          22,
          36,
          22,
          27,
          45,
          26,
          24,
          21,
          34,
          42,
          21,
          40,
          24,
          22,
          23,
          22,
          21,
          24,
          27,
          21,
          27,
          37,
          25,
          23,
          25,
          25,
          22,
          21,
          24,
          23,
          69,
          30,
          23,
          39,
          26,
          31,
          21,
          22,
          29,
          28,
          55,
          38,
          22,
          23,
          21,
          41,
          34,
          65,
          22,
          24,
          37,
          23,
          21,
          23,
          22,
          36,
          45,
          27,
          21,
          22,
          34,
          29,
          29,
          25,
          23,
          33,
          42,
          47,
          32,
          23,
          21,
          27,
          40,
          21,
          40,
          42,
          21,
          21,
          28,
          32,
          27,
          55,
          27,
          21,
          25,
          24,
          60,
          32,
          37,
          61,
          26,
          22,
          26,
          31,
          24,
          22,
          29,
          23,
          27,
          21,
          22,
          29,
          41,
          23,
          34,
          23,
          42,
          27,
          24,
          25,
          30,
          25,
          24,
          34,
          24,
          63,
          43,
          24,
          21,
          21,
          40,
          21,
          52,
          25,
          23,
          57,
          22,
          39,
          37,
          51,
          34,
          26,
          33,
          21,
          65,
          28,
          24,
          58,
          35,
          37,
          29,
          21,
          41,
          22,
          25,
          26,
          30,
          28,
          31,
          21,
          24,
          37,
          37,
          46,
          25,
          44,
          22,
          26,
          44,
          22,
          36,
          22,
          33,
          57,
          49,
          22,
          23,
          26,
          29,
          30,
          46,
          24,
          21,
          48,
          63,
          65,
          30,
          30,
          21,
          22,
          21,
          21,
          25,
          28,
          22,
          22,
          35,
          24,
          22,
          21,
          25,
          25,
          24,
          28,
          42,
          21,
          37,
          25,
          39,
          25,
          55,
          38,
          26,
          25,
          28,
          25,
          22,
          21,
          22,
          27,
          26,
          21,
          21,
          21,
          25,
          26,
          23,
          38,
          22,
          29,
          36,
          41,
          28,
          21,
          31,
          22,
          24,
          28,
          26,
          26,
          23,
          25,
          72,
          24,
          62,
          24,
          81,
          48,
          26,
          39,
          37,
          34,
          21,
          22,
          25,
          27,
          28,
          22,
          22,
          50,
          24,
          59,
          31,
          39,
          63,
          29,
          28,
          23,
          21,
          58,
          28,
          67,
          24,
          42,
          33,
          22,
          66,
          30,
          25,
          39,
          21,
          28,
          41,
          40,
          38,
          21,
          21,
          64,
          21,
          58,
          22,
          24,
          51,
          41,
          60,
          25,
          26,
          26,
          24,
          21,
          21,
          24,
          22,
          31,
          22,
          24,
          29,
          31,
          24,
          46,
          67,
          23,
          25,
          29,
          28,
          50,
          37,
          21,
          25,
          66,
          23,
          28,
          37,
          30,
          58,
          42,
          35,
          24,
          32,
          27,
          22,
          21,
          46,
          37,
          39,
          21,
          22,
          22,
          23,
          25,
          35,
          36,
          27,
          62,
          42,
          22,
          29,
          25,
          24,
          25,
          34,
          46,
          21,
          26,
          24,
          28,
          30,
          21,
          25,
          27,
          23,
          24,
          26,
          27,
          30,
          23,
          28,
          28,
          45,
          21,
          21,
          29,
          21,
          21,
          45,
          21,
          24,
          23,
          22,
          31,
          48,
          23,
          28,
          27,
          24,
          31,
          27,
          30,
          23,
          23,
          27,
          28,
          27,
          22,
          22,
          41,
          51,
          54,
          24,
          43,
          45,
          49,
          21,
          47,
          22,
          68,
          25,
          23,
          22,
          22,
          69,
          25,
          22,
          29,
          23,
          34,
          23,
          25,
          22,
          28,
          26,
          26,
          41,
          27,
          28,
          22,
          24,
          40,
          21,
          32,
          56,
          24,
          34,
          21,
          42,
          45,
          38,
          25,
          22,
          22,
          22,
          22,
          53,
          28,
          21,
          42,
          21,
          26,
          22,
          39,
          46,
          32,
          28,
          25,
          39,
          26,
          22,
          33,
          63,
          27,
          30,
          23
         ],
         "y0": " ",
         "yaxis": "y"
        }
       ],
       "layout": {
        "boxmode": "group",
        "legend": {
         "title": {
          "text": "Outcome"
         },
         "tracegroupgap": 0
        },
        "template": {
         "data": {
          "bar": [
           {
            "error_x": {
             "color": "#f2f5fa"
            },
            "error_y": {
             "color": "#f2f5fa"
            },
            "marker": {
             "line": {
              "color": "rgb(17,17,17)",
              "width": 0.5
             },
             "pattern": {
              "fillmode": "overlay",
              "size": 10,
              "solidity": 0.2
             }
            },
            "type": "bar"
           }
          ],
          "barpolar": [
           {
            "marker": {
             "line": {
              "color": "rgb(17,17,17)",
              "width": 0.5
             },
             "pattern": {
              "fillmode": "overlay",
              "size": 10,
              "solidity": 0.2
             }
            },
            "type": "barpolar"
           }
          ],
          "carpet": [
           {
            "aaxis": {
             "endlinecolor": "#A2B1C6",
             "gridcolor": "#506784",
             "linecolor": "#506784",
             "minorgridcolor": "#506784",
             "startlinecolor": "#A2B1C6"
            },
            "baxis": {
             "endlinecolor": "#A2B1C6",
             "gridcolor": "#506784",
             "linecolor": "#506784",
             "minorgridcolor": "#506784",
             "startlinecolor": "#A2B1C6"
            },
            "type": "carpet"
           }
          ],
          "choropleth": [
           {
            "colorbar": {
             "outlinewidth": 0,
             "ticks": ""
            },
            "type": "choropleth"
           }
          ],
          "contour": [
           {
            "colorbar": {
             "outlinewidth": 0,
             "ticks": ""
            },
            "colorscale": [
             [
              0,
              "#0d0887"
             ],
             [
              0.1111111111111111,
              "#46039f"
             ],
             [
              0.2222222222222222,
              "#7201a8"
             ],
             [
              0.3333333333333333,
              "#9c179e"
             ],
             [
              0.4444444444444444,
              "#bd3786"
             ],
             [
              0.5555555555555556,
              "#d8576b"
             ],
             [
              0.6666666666666666,
              "#ed7953"
             ],
             [
              0.7777777777777778,
              "#fb9f3a"
             ],
             [
              0.8888888888888888,
              "#fdca26"
             ],
             [
              1,
              "#f0f921"
             ]
            ],
            "type": "contour"
           }
          ],
          "contourcarpet": [
           {
            "colorbar": {
             "outlinewidth": 0,
             "ticks": ""
            },
            "type": "contourcarpet"
           }
          ],
          "heatmap": [
           {
            "colorbar": {
             "outlinewidth": 0,
             "ticks": ""
            },
            "colorscale": [
             [
              0,
              "#0d0887"
             ],
             [
              0.1111111111111111,
              "#46039f"
             ],
             [
              0.2222222222222222,
              "#7201a8"
             ],
             [
              0.3333333333333333,
              "#9c179e"
             ],
             [
              0.4444444444444444,
              "#bd3786"
             ],
             [
              0.5555555555555556,
              "#d8576b"
             ],
             [
              0.6666666666666666,
              "#ed7953"
             ],
             [
              0.7777777777777778,
              "#fb9f3a"
             ],
             [
              0.8888888888888888,
              "#fdca26"
             ],
             [
              1,
              "#f0f921"
             ]
            ],
            "type": "heatmap"
           }
          ],
          "heatmapgl": [
           {
            "colorbar": {
             "outlinewidth": 0,
             "ticks": ""
            },
            "colorscale": [
             [
              0,
              "#0d0887"
             ],
             [
              0.1111111111111111,
              "#46039f"
             ],
             [
              0.2222222222222222,
              "#7201a8"
             ],
             [
              0.3333333333333333,
              "#9c179e"
             ],
             [
              0.4444444444444444,
              "#bd3786"
             ],
             [
              0.5555555555555556,
              "#d8576b"
             ],
             [
              0.6666666666666666,
              "#ed7953"
             ],
             [
              0.7777777777777778,
              "#fb9f3a"
             ],
             [
              0.8888888888888888,
              "#fdca26"
             ],
             [
              1,
              "#f0f921"
             ]
            ],
            "type": "heatmapgl"
           }
          ],
          "histogram": [
           {
            "marker": {
             "pattern": {
              "fillmode": "overlay",
              "size": 10,
              "solidity": 0.2
             }
            },
            "type": "histogram"
           }
          ],
          "histogram2d": [
           {
            "colorbar": {
             "outlinewidth": 0,
             "ticks": ""
            },
            "colorscale": [
             [
              0,
              "#0d0887"
             ],
             [
              0.1111111111111111,
              "#46039f"
             ],
             [
              0.2222222222222222,
              "#7201a8"
             ],
             [
              0.3333333333333333,
              "#9c179e"
             ],
             [
              0.4444444444444444,
              "#bd3786"
             ],
             [
              0.5555555555555556,
              "#d8576b"
             ],
             [
              0.6666666666666666,
              "#ed7953"
             ],
             [
              0.7777777777777778,
              "#fb9f3a"
             ],
             [
              0.8888888888888888,
              "#fdca26"
             ],
             [
              1,
              "#f0f921"
             ]
            ],
            "type": "histogram2d"
           }
          ],
          "histogram2dcontour": [
           {
            "colorbar": {
             "outlinewidth": 0,
             "ticks": ""
            },
            "colorscale": [
             [
              0,
              "#0d0887"
             ],
             [
              0.1111111111111111,
              "#46039f"
             ],
             [
              0.2222222222222222,
              "#7201a8"
             ],
             [
              0.3333333333333333,
              "#9c179e"
             ],
             [
              0.4444444444444444,
              "#bd3786"
             ],
             [
              0.5555555555555556,
              "#d8576b"
             ],
             [
              0.6666666666666666,
              "#ed7953"
             ],
             [
              0.7777777777777778,
              "#fb9f3a"
             ],
             [
              0.8888888888888888,
              "#fdca26"
             ],
             [
              1,
              "#f0f921"
             ]
            ],
            "type": "histogram2dcontour"
           }
          ],
          "mesh3d": [
           {
            "colorbar": {
             "outlinewidth": 0,
             "ticks": ""
            },
            "type": "mesh3d"
           }
          ],
          "parcoords": [
           {
            "line": {
             "colorbar": {
              "outlinewidth": 0,
              "ticks": ""
             }
            },
            "type": "parcoords"
           }
          ],
          "pie": [
           {
            "automargin": true,
            "type": "pie"
           }
          ],
          "scatter": [
           {
            "marker": {
             "line": {
              "color": "#283442"
             }
            },
            "type": "scatter"
           }
          ],
          "scatter3d": [
           {
            "line": {
             "colorbar": {
              "outlinewidth": 0,
              "ticks": ""
             }
            },
            "marker": {
             "colorbar": {
              "outlinewidth": 0,
              "ticks": ""
             }
            },
            "type": "scatter3d"
           }
          ],
          "scattercarpet": [
           {
            "marker": {
             "colorbar": {
              "outlinewidth": 0,
              "ticks": ""
             }
            },
            "type": "scattercarpet"
           }
          ],
          "scattergeo": [
           {
            "marker": {
             "colorbar": {
              "outlinewidth": 0,
              "ticks": ""
             }
            },
            "type": "scattergeo"
           }
          ],
          "scattergl": [
           {
            "marker": {
             "line": {
              "color": "#283442"
             }
            },
            "type": "scattergl"
           }
          ],
          "scattermapbox": [
           {
            "marker": {
             "colorbar": {
              "outlinewidth": 0,
              "ticks": ""
             }
            },
            "type": "scattermapbox"
           }
          ],
          "scatterpolar": [
           {
            "marker": {
             "colorbar": {
              "outlinewidth": 0,
              "ticks": ""
             }
            },
            "type": "scatterpolar"
           }
          ],
          "scatterpolargl": [
           {
            "marker": {
             "colorbar": {
              "outlinewidth": 0,
              "ticks": ""
             }
            },
            "type": "scatterpolargl"
           }
          ],
          "scatterternary": [
           {
            "marker": {
             "colorbar": {
              "outlinewidth": 0,
              "ticks": ""
             }
            },
            "type": "scatterternary"
           }
          ],
          "surface": [
           {
            "colorbar": {
             "outlinewidth": 0,
             "ticks": ""
            },
            "colorscale": [
             [
              0,
              "#0d0887"
             ],
             [
              0.1111111111111111,
              "#46039f"
             ],
             [
              0.2222222222222222,
              "#7201a8"
             ],
             [
              0.3333333333333333,
              "#9c179e"
             ],
             [
              0.4444444444444444,
              "#bd3786"
             ],
             [
              0.5555555555555556,
              "#d8576b"
             ],
             [
              0.6666666666666666,
              "#ed7953"
             ],
             [
              0.7777777777777778,
              "#fb9f3a"
             ],
             [
              0.8888888888888888,
              "#fdca26"
             ],
             [
              1,
              "#f0f921"
             ]
            ],
            "type": "surface"
           }
          ],
          "table": [
           {
            "cells": {
             "fill": {
              "color": "#506784"
             },
             "line": {
              "color": "rgb(17,17,17)"
             }
            },
            "header": {
             "fill": {
              "color": "#2a3f5f"
             },
             "line": {
              "color": "rgb(17,17,17)"
             }
            },
            "type": "table"
           }
          ]
         },
         "layout": {
          "annotationdefaults": {
           "arrowcolor": "#f2f5fa",
           "arrowhead": 0,
           "arrowwidth": 1
          },
          "autotypenumbers": "strict",
          "coloraxis": {
           "colorbar": {
            "outlinewidth": 0,
            "ticks": ""
           }
          },
          "colorscale": {
           "diverging": [
            [
             0,
             "#8e0152"
            ],
            [
             0.1,
             "#c51b7d"
            ],
            [
             0.2,
             "#de77ae"
            ],
            [
             0.3,
             "#f1b6da"
            ],
            [
             0.4,
             "#fde0ef"
            ],
            [
             0.5,
             "#f7f7f7"
            ],
            [
             0.6,
             "#e6f5d0"
            ],
            [
             0.7,
             "#b8e186"
            ],
            [
             0.8,
             "#7fbc41"
            ],
            [
             0.9,
             "#4d9221"
            ],
            [
             1,
             "#276419"
            ]
           ],
           "sequential": [
            [
             0,
             "#0d0887"
            ],
            [
             0.1111111111111111,
             "#46039f"
            ],
            [
             0.2222222222222222,
             "#7201a8"
            ],
            [
             0.3333333333333333,
             "#9c179e"
            ],
            [
             0.4444444444444444,
             "#bd3786"
            ],
            [
             0.5555555555555556,
             "#d8576b"
            ],
            [
             0.6666666666666666,
             "#ed7953"
            ],
            [
             0.7777777777777778,
             "#fb9f3a"
            ],
            [
             0.8888888888888888,
             "#fdca26"
            ],
            [
             1,
             "#f0f921"
            ]
           ],
           "sequentialminus": [
            [
             0,
             "#0d0887"
            ],
            [
             0.1111111111111111,
             "#46039f"
            ],
            [
             0.2222222222222222,
             "#7201a8"
            ],
            [
             0.3333333333333333,
             "#9c179e"
            ],
            [
             0.4444444444444444,
             "#bd3786"
            ],
            [
             0.5555555555555556,
             "#d8576b"
            ],
            [
             0.6666666666666666,
             "#ed7953"
            ],
            [
             0.7777777777777778,
             "#fb9f3a"
            ],
            [
             0.8888888888888888,
             "#fdca26"
            ],
            [
             1,
             "#f0f921"
            ]
           ]
          },
          "colorway": [
           "#636efa",
           "#EF553B",
           "#00cc96",
           "#ab63fa",
           "#FFA15A",
           "#19d3f3",
           "#FF6692",
           "#B6E880",
           "#FF97FF",
           "#FECB52"
          ],
          "font": {
           "color": "#f2f5fa"
          },
          "geo": {
           "bgcolor": "rgb(17,17,17)",
           "lakecolor": "rgb(17,17,17)",
           "landcolor": "rgb(17,17,17)",
           "showlakes": true,
           "showland": true,
           "subunitcolor": "#506784"
          },
          "hoverlabel": {
           "align": "left"
          },
          "hovermode": "closest",
          "mapbox": {
           "style": "dark"
          },
          "paper_bgcolor": "rgb(17,17,17)",
          "plot_bgcolor": "rgb(17,17,17)",
          "polar": {
           "angularaxis": {
            "gridcolor": "#506784",
            "linecolor": "#506784",
            "ticks": ""
           },
           "bgcolor": "rgb(17,17,17)",
           "radialaxis": {
            "gridcolor": "#506784",
            "linecolor": "#506784",
            "ticks": ""
           }
          },
          "scene": {
           "xaxis": {
            "backgroundcolor": "rgb(17,17,17)",
            "gridcolor": "#506784",
            "gridwidth": 2,
            "linecolor": "#506784",
            "showbackground": true,
            "ticks": "",
            "zerolinecolor": "#C8D4E3"
           },
           "yaxis": {
            "backgroundcolor": "rgb(17,17,17)",
            "gridcolor": "#506784",
            "gridwidth": 2,
            "linecolor": "#506784",
            "showbackground": true,
            "ticks": "",
            "zerolinecolor": "#C8D4E3"
           },
           "zaxis": {
            "backgroundcolor": "rgb(17,17,17)",
            "gridcolor": "#506784",
            "gridwidth": 2,
            "linecolor": "#506784",
            "showbackground": true,
            "ticks": "",
            "zerolinecolor": "#C8D4E3"
           }
          },
          "shapedefaults": {
           "line": {
            "color": "#f2f5fa"
           }
          },
          "sliderdefaults": {
           "bgcolor": "#C8D4E3",
           "bordercolor": "rgb(17,17,17)",
           "borderwidth": 1,
           "tickwidth": 0
          },
          "ternary": {
           "aaxis": {
            "gridcolor": "#506784",
            "linecolor": "#506784",
            "ticks": ""
           },
           "baxis": {
            "gridcolor": "#506784",
            "linecolor": "#506784",
            "ticks": ""
           },
           "bgcolor": "rgb(17,17,17)",
           "caxis": {
            "gridcolor": "#506784",
            "linecolor": "#506784",
            "ticks": ""
           }
          },
          "title": {
           "x": 0.05
          },
          "updatemenudefaults": {
           "bgcolor": "#506784",
           "borderwidth": 0
          },
          "xaxis": {
           "automargin": true,
           "gridcolor": "#283442",
           "linecolor": "#506784",
           "ticks": "",
           "title": {
            "standoff": 15
           },
           "zerolinecolor": "#283442",
           "zerolinewidth": 2
          },
          "yaxis": {
           "automargin": true,
           "gridcolor": "#283442",
           "linecolor": "#506784",
           "ticks": "",
           "title": {
            "standoff": 15
           },
           "zerolinecolor": "#283442",
           "zerolinewidth": 2
          }
         }
        },
        "title": {
         "text": "Age"
        },
        "xaxis": {
         "anchor": "y",
         "domain": [
          0,
          1
         ]
        },
        "yaxis": {
         "anchor": "x",
         "domain": [
          0,
          1
         ],
         "title": {
          "text": "Age"
         }
        }
       }
      }
     },
     "metadata": {},
     "output_type": "display_data"
    }
   ],
   "source": [
    "for i in num_col:\n",
    "    fig=px.box(df,y=i,color=\"Outcome\",template=\"plotly_dark\",title=i)\n",
    "    fig.show()\n",
    "    "
   ]
  },
  {
   "cell_type": "code",
   "execution_count": 187,
   "metadata": {},
   "outputs": [
    {
     "name": "stdout",
     "output_type": "stream",
     "text": [
      "Pregnancies True\n",
      "Glucose True\n",
      "BloodPressure True\n",
      "SkinThickness True\n",
      "Insulin True\n",
      "BMI True\n",
      "DiabetesPedigreeFunction True\n",
      "Age True\n"
     ]
    }
   ],
   "source": [
    "# outlier detection function:\n",
    "\n",
    "# outlier threshold function:\n",
    "def outlier_thresholds(dataframe,col_name,q1=0.25,q3=0.75):\n",
    "    q1=dataframe[col_name].quantile(q1)\n",
    "    q3=dataframe[col_name].quantile(q3)\n",
    "    IQR=q3-q1\n",
    "    \n",
    "    up_limit=q3+1.5*IQR\n",
    "    low_limit=q1-1.5*IQR\n",
    "    \n",
    "    return low_limit,up_limit\n",
    "\n",
    "\n",
    "# check outliers function:\n",
    "def check_outliers(dataframe,col_name):\n",
    "    low_limit,up_limit=outlier_thresholds(dataframe,col_name)\n",
    "    if dataframe[(dataframe[col_name]<low_limit) | (dataframe[col_name]>up_limit)].any(axis=None):\n",
    "        return True \n",
    "   \n",
    "    else:\n",
    "        return False\n",
    "\n",
    "for col in num_col:\n",
    "    print(col,check_outliers(df,col))"
   ]
  },
  {
   "cell_type": "code",
   "execution_count": 188,
   "metadata": {},
   "outputs": [
    {
     "name": "stdout",
     "output_type": "stream",
     "text": [
      "     Pregnancies  Glucose  BloodPressure  SkinThickness  Insulin   BMI  \\\n",
      "88            15      136             70             32      110  37.1   \n",
      "159           17      163             72             41      114  40.9   \n",
      "298           14      100             78             25      184  36.6   \n",
      "455           14      175             62             30        0  33.6   \n",
      "\n",
      "     DiabetesPedigreeFunction  Age  Outcome  \n",
      "88                      0.153   43        1  \n",
      "159                     0.817   47        1  \n",
      "298                     0.412   46        1  \n",
      "455                     0.212   38        1  \n",
      "     Pregnancies  Glucose  BloodPressure  SkinThickness  Insulin   BMI  \\\n",
      "75             1        0             48             20        0  24.7   \n",
      "182            1        0             74             20       23  27.7   \n",
      "342            1        0             68             35        0  32.0   \n",
      "349            5        0             80             32        0  41.0   \n",
      "502            6        0             68             41        0  39.0   \n",
      "\n",
      "     DiabetesPedigreeFunction  Age  Outcome  \n",
      "75                      0.140   22        0  \n",
      "182                     0.299   21        0  \n",
      "342                     0.389   22        0  \n",
      "349                     0.346   37        1  \n",
      "502                     0.727   41        1  \n",
      "    Pregnancies  Glucose  BloodPressure  SkinThickness  Insulin   BMI  \\\n",
      "7            10      115              0              0        0  35.3   \n",
      "15            7      100              0              0        0  30.0   \n",
      "18            1      103             30             38       83  43.3   \n",
      "43            9      171            110             24      240  45.4   \n",
      "49            7      105              0              0        0   0.0   \n",
      "\n",
      "    DiabetesPedigreeFunction  Age  Outcome  \n",
      "7                      0.134   29        0  \n",
      "15                     0.484   32        1  \n",
      "18                     0.183   33        0  \n",
      "43                     0.721   54        1  \n",
      "49                     0.305   24        0  \n",
      "     Pregnancies  Glucose  BloodPressure  SkinThickness  Insulin   BMI  \\\n",
      "579            2      197             70             99        0  34.7   \n",
      "\n",
      "     DiabetesPedigreeFunction  Age  Outcome  \n",
      "579                     0.575   62        1  \n",
      "     Pregnancies  Glucose  BloodPressure  SkinThickness  Insulin   BMI  \\\n",
      "8              2      197             70             45      543  30.5   \n",
      "13             1      189             60             23      846  30.1   \n",
      "54             7      150             66             42      342  34.7   \n",
      "111            8      155             62             26      495  34.0   \n",
      "139            5      105             72             29      325  36.9   \n",
      "\n",
      "     DiabetesPedigreeFunction  Age  Outcome  \n",
      "8                       0.158   53        1  \n",
      "13                      0.398   59        1  \n",
      "54                      0.718   42        0  \n",
      "111                     0.543   46        1  \n",
      "139                     0.159   28        0  \n",
      "     Pregnancies  Glucose  BloodPressure  SkinThickness  Insulin   BMI  \\\n",
      "9              8      125             96              0        0   0.0   \n",
      "49             7      105              0              0        0   0.0   \n",
      "60             2       84              0              0        0   0.0   \n",
      "81             2       74              0              0        0   0.0   \n",
      "120            0      162             76             56      100  53.2   \n",
      "\n",
      "     DiabetesPedigreeFunction  Age  Outcome  \n",
      "9                       0.232   54        1  \n",
      "49                      0.305   24        0  \n",
      "60                      0.304   21        0  \n",
      "81                      0.102   22        0  \n",
      "120                     0.759   25        1  \n",
      "    Pregnancies  Glucose  BloodPressure  SkinThickness  Insulin   BMI  \\\n",
      "4             0      137             40             35      168  43.1   \n",
      "12           10      139             80              0        0  27.1   \n",
      "39            4      111             72             47      207  37.1   \n",
      "45            0      180             66             39        0  42.0   \n",
      "58            0      146             82              0        0  40.5   \n",
      "\n",
      "    DiabetesPedigreeFunction  Age  Outcome  \n",
      "4                      2.288   33        1  \n",
      "12                     1.441   57        0  \n",
      "39                     1.390   56        1  \n",
      "45                     1.893   25        1  \n",
      "58                     1.781   44        0  \n",
      "     Pregnancies  Glucose  BloodPressure  SkinThickness  Insulin   BMI  \\\n",
      "123            5      132             80              0        0  26.8   \n",
      "363            4      146             78              0        0  38.5   \n",
      "453            2      119              0              0        0  19.6   \n",
      "459            9      134             74             33       60  25.9   \n",
      "489            8      194             80              0        0  26.1   \n",
      "537            0       57             60              0        0  21.7   \n",
      "666            4      145             82             18        0  32.5   \n",
      "674            8       91             82              0        0  35.6   \n",
      "684            5      136             82              0        0   0.0   \n",
      "\n",
      "     DiabetesPedigreeFunction  Age  Outcome  \n",
      "123                     0.186   69        0  \n",
      "363                     0.520   67        1  \n",
      "453                     0.832   72        0  \n",
      "459                     0.460   81        0  \n",
      "489                     0.551   67        0  \n",
      "537                     0.735   67        0  \n",
      "666                     0.235   70        1  \n",
      "674                     0.587   68        0  \n",
      "684                     0.640   69        0  \n"
     ]
    }
   ],
   "source": [
    "    \n",
    "# aykırı değerlere erişmek için:\n",
    "\n",
    "def grab_outliers(dataframe,cols, index=False):\n",
    "\n",
    "    low, up = outlier_thresholds(dataframe, cols)\n",
    "    \n",
    "    if dataframe[(dataframe[cols] < low) | (dataframe[cols] > up)].shape[0] > 10:\n",
    "        print(dataframe[(dataframe[cols] < low) | (dataframe[cols] > up)].head(5))\n",
    "        \n",
    "    else:\n",
    "        print(dataframe[(dataframe[cols] < low) | (dataframe[cols] > up)])\n",
    "        \n",
    "    if index:\n",
    "        outlier_index = dataframe[(dataframe[cols] < low) | (dataframe[cols] > up)].index\n",
    "        return outlier_index\n",
    "    \n",
    "    \n",
    "\n",
    "for col in num_col:\n",
    "    grab_outliers(df,col,index=True)"
   ]
  },
  {
   "cell_type": "code",
   "execution_count": 189,
   "metadata": {},
   "outputs": [
    {
     "name": "stdout",
     "output_type": "stream",
     "text": [
      "After filling with thresholds:\n",
      "Pregnancies False\n",
      "Glucose False\n",
      "BloodPressure False\n",
      "SkinThickness False\n",
      "Insulin False\n",
      "BMI False\n",
      "DiabetesPedigreeFunction False\n",
      "Age False\n",
      "Outcome False\n",
      "(768, 9)\n"
     ]
    }
   ],
   "source": [
    "# fill outliers with thresholds:\n",
    "def replace_with_thresholds(dataframe, col):\n",
    "    low_limit, up_limit = outlier_thresholds(dataframe, col)\n",
    "    if low_limit > 0:\n",
    "        dataframe.loc[(dataframe[col] < low_limit), col] = low_limit\n",
    "        dataframe.loc[(dataframe[col] > up_limit), col] = up_limit\n",
    "    else:\n",
    "        dataframe.loc[(dataframe[col] > up_limit), col] = up_limit\n",
    "    \n",
    "for col in num_col:\n",
    "    replace_with_thresholds(df,col)\n",
    "    \n",
    "\n",
    "print(\"After filling with thresholds:\")\n",
    "for col in num_cols:\n",
    "    print(col,check_outliers(df,col))\n",
    "print(df.shape)"
   ]
  },
  {
   "cell_type": "markdown",
   "metadata": {},
   "source": [
    "### MISSING VALUE ANALYSIS:"
   ]
  },
  {
   "cell_type": "code",
   "execution_count": 190,
   "metadata": {},
   "outputs": [
    {
     "data": {
      "text/plain": [
       "Pregnancies                 0\n",
       "Glucose                     0\n",
       "BloodPressure               0\n",
       "SkinThickness               0\n",
       "Insulin                     0\n",
       "BMI                         0\n",
       "DiabetesPedigreeFunction    0\n",
       "Age                         0\n",
       "Outcome                     0\n",
       "dtype: int64"
      ]
     },
     "execution_count": 190,
     "metadata": {},
     "output_type": "execute_result"
    }
   ],
   "source": [
    "df.isnull().sum()"
   ]
  },
  {
   "cell_type": "code",
   "execution_count": 191,
   "metadata": {},
   "outputs": [
    {
     "data": {
      "text/html": [
       "<div>\n",
       "<style scoped>\n",
       "    .dataframe tbody tr th:only-of-type {\n",
       "        vertical-align: middle;\n",
       "    }\n",
       "\n",
       "    .dataframe tbody tr th {\n",
       "        vertical-align: top;\n",
       "    }\n",
       "\n",
       "    .dataframe thead th {\n",
       "        text-align: right;\n",
       "    }\n",
       "</style>\n",
       "<table border=\"1\" class=\"dataframe\">\n",
       "  <thead>\n",
       "    <tr style=\"text-align: right;\">\n",
       "      <th></th>\n",
       "      <th>n_miss</th>\n",
       "      <th>ratio</th>\n",
       "    </tr>\n",
       "  </thead>\n",
       "  <tbody>\n",
       "  </tbody>\n",
       "</table>\n",
       "</div>"
      ],
      "text/plain": [
       "Empty DataFrame\n",
       "Columns: [n_miss, ratio]\n",
       "Index: []"
      ]
     },
     "execution_count": 191,
     "metadata": {},
     "output_type": "execute_result"
    }
   ],
   "source": [
    "# show the missing values in dataset with ratio\n",
    "def missing_values_tabl(df):\n",
    "    \n",
    "    na_columns = [col for col in df.columns if df[col].isnull().sum() > 0]\n",
    "    n_miss = df[na_columns].isnull().sum().sort_values(ascending=False)\n",
    "    ratio = (df[na_columns].isnull().sum() / df.shape[0] * 100).sort_values(ascending=False)\n",
    "    missing_df = pd.concat([n_miss, np.round(ratio,2)], axis=1, keys=['n_miss', 'ratio'])\n",
    "    missing_df = pd.DataFrame(missing_df)\n",
    "    return missing_df\n",
    "\n",
    "missing_values_tabl(df)"
   ]
  },
  {
   "cell_type": "markdown",
   "metadata": {},
   "source": [
    "* THERE IS NO MISSING VALUE IN THE DATASET."
   ]
  },
  {
   "cell_type": "markdown",
   "metadata": {},
   "source": [
    "### CORRELATION ANALYSIS:"
   ]
  },
  {
   "cell_type": "code",
   "execution_count": 192,
   "metadata": {},
   "outputs": [
    {
     "data": {
      "text/html": [
       "<div>\n",
       "<style scoped>\n",
       "    .dataframe tbody tr th:only-of-type {\n",
       "        vertical-align: middle;\n",
       "    }\n",
       "\n",
       "    .dataframe tbody tr th {\n",
       "        vertical-align: top;\n",
       "    }\n",
       "\n",
       "    .dataframe thead th {\n",
       "        text-align: right;\n",
       "    }\n",
       "</style>\n",
       "<table border=\"1\" class=\"dataframe\">\n",
       "  <thead>\n",
       "    <tr style=\"text-align: right;\">\n",
       "      <th></th>\n",
       "      <th>Pregnancies</th>\n",
       "      <th>Glucose</th>\n",
       "      <th>BloodPressure</th>\n",
       "      <th>SkinThickness</th>\n",
       "      <th>Insulin</th>\n",
       "      <th>BMI</th>\n",
       "      <th>DiabetesPedigreeFunction</th>\n",
       "      <th>Age</th>\n",
       "      <th>Outcome</th>\n",
       "    </tr>\n",
       "  </thead>\n",
       "  <tbody>\n",
       "    <tr>\n",
       "      <th>Pregnancies</th>\n",
       "      <td>1.000000</td>\n",
       "      <td>0.128987</td>\n",
       "      <td>0.184307</td>\n",
       "      <td>-0.084349</td>\n",
       "      <td>-0.077793</td>\n",
       "      <td>0.024681</td>\n",
       "      <td>-0.017398</td>\n",
       "      <td>0.549695</td>\n",
       "      <td>0.220392</td>\n",
       "    </tr>\n",
       "    <tr>\n",
       "      <th>Glucose</th>\n",
       "      <td>0.128987</td>\n",
       "      <td>1.000000</td>\n",
       "      <td>0.197865</td>\n",
       "      <td>0.059806</td>\n",
       "      <td>0.315856</td>\n",
       "      <td>0.235542</td>\n",
       "      <td>0.120213</td>\n",
       "      <td>0.269056</td>\n",
       "      <td>0.479158</td>\n",
       "    </tr>\n",
       "    <tr>\n",
       "      <th>BloodPressure</th>\n",
       "      <td>0.184307</td>\n",
       "      <td>0.197865</td>\n",
       "      <td>1.000000</td>\n",
       "      <td>0.152644</td>\n",
       "      <td>0.050080</td>\n",
       "      <td>0.282544</td>\n",
       "      <td>0.038793</td>\n",
       "      <td>0.304208</td>\n",
       "      <td>0.113301</td>\n",
       "    </tr>\n",
       "    <tr>\n",
       "      <th>SkinThickness</th>\n",
       "      <td>-0.084349</td>\n",
       "      <td>0.059806</td>\n",
       "      <td>0.152644</td>\n",
       "      <td>1.000000</td>\n",
       "      <td>0.488101</td>\n",
       "      <td>0.401494</td>\n",
       "      <td>0.177920</td>\n",
       "      <td>-0.119170</td>\n",
       "      <td>0.073125</td>\n",
       "    </tr>\n",
       "    <tr>\n",
       "      <th>Insulin</th>\n",
       "      <td>-0.077793</td>\n",
       "      <td>0.315856</td>\n",
       "      <td>0.050080</td>\n",
       "      <td>0.488101</td>\n",
       "      <td>1.000000</td>\n",
       "      <td>0.209665</td>\n",
       "      <td>0.190087</td>\n",
       "      <td>-0.065547</td>\n",
       "      <td>0.124721</td>\n",
       "    </tr>\n",
       "    <tr>\n",
       "      <th>BMI</th>\n",
       "      <td>0.024681</td>\n",
       "      <td>0.235542</td>\n",
       "      <td>0.282544</td>\n",
       "      <td>0.401494</td>\n",
       "      <td>0.209665</td>\n",
       "      <td>1.000000</td>\n",
       "      <td>0.141087</td>\n",
       "      <td>0.043375</td>\n",
       "      <td>0.309739</td>\n",
       "    </tr>\n",
       "    <tr>\n",
       "      <th>DiabetesPedigreeFunction</th>\n",
       "      <td>-0.017398</td>\n",
       "      <td>0.120213</td>\n",
       "      <td>0.038793</td>\n",
       "      <td>0.177920</td>\n",
       "      <td>0.190087</td>\n",
       "      <td>0.141087</td>\n",
       "      <td>1.000000</td>\n",
       "      <td>0.047289</td>\n",
       "      <td>0.184969</td>\n",
       "    </tr>\n",
       "    <tr>\n",
       "      <th>Age</th>\n",
       "      <td>0.549695</td>\n",
       "      <td>0.269056</td>\n",
       "      <td>0.304208</td>\n",
       "      <td>-0.119170</td>\n",
       "      <td>-0.065547</td>\n",
       "      <td>0.043375</td>\n",
       "      <td>0.047289</td>\n",
       "      <td>1.000000</td>\n",
       "      <td>0.242702</td>\n",
       "    </tr>\n",
       "    <tr>\n",
       "      <th>Outcome</th>\n",
       "      <td>0.220392</td>\n",
       "      <td>0.479158</td>\n",
       "      <td>0.113301</td>\n",
       "      <td>0.073125</td>\n",
       "      <td>0.124721</td>\n",
       "      <td>0.309739</td>\n",
       "      <td>0.184969</td>\n",
       "      <td>0.242702</td>\n",
       "      <td>1.000000</td>\n",
       "    </tr>\n",
       "  </tbody>\n",
       "</table>\n",
       "</div>"
      ],
      "text/plain": [
       "                          Pregnancies   Glucose  BloodPressure  SkinThickness  \\\n",
       "Pregnancies                  1.000000  0.128987       0.184307      -0.084349   \n",
       "Glucose                      0.128987  1.000000       0.197865       0.059806   \n",
       "BloodPressure                0.184307  0.197865       1.000000       0.152644   \n",
       "SkinThickness               -0.084349  0.059806       0.152644       1.000000   \n",
       "Insulin                     -0.077793  0.315856       0.050080       0.488101   \n",
       "BMI                          0.024681  0.235542       0.282544       0.401494   \n",
       "DiabetesPedigreeFunction    -0.017398  0.120213       0.038793       0.177920   \n",
       "Age                          0.549695  0.269056       0.304208      -0.119170   \n",
       "Outcome                      0.220392  0.479158       0.113301       0.073125   \n",
       "\n",
       "                           Insulin       BMI  DiabetesPedigreeFunction  \\\n",
       "Pregnancies              -0.077793  0.024681                 -0.017398   \n",
       "Glucose                   0.315856  0.235542                  0.120213   \n",
       "BloodPressure             0.050080  0.282544                  0.038793   \n",
       "SkinThickness             0.488101  0.401494                  0.177920   \n",
       "Insulin                   1.000000  0.209665                  0.190087   \n",
       "BMI                       0.209665  1.000000                  0.141087   \n",
       "DiabetesPedigreeFunction  0.190087  0.141087                  1.000000   \n",
       "Age                      -0.065547  0.043375                  0.047289   \n",
       "Outcome                   0.124721  0.309739                  0.184969   \n",
       "\n",
       "                               Age   Outcome  \n",
       "Pregnancies               0.549695  0.220392  \n",
       "Glucose                   0.269056  0.479158  \n",
       "BloodPressure             0.304208  0.113301  \n",
       "SkinThickness            -0.119170  0.073125  \n",
       "Insulin                  -0.065547  0.124721  \n",
       "BMI                       0.043375  0.309739  \n",
       "DiabetesPedigreeFunction  0.047289  0.184969  \n",
       "Age                       1.000000  0.242702  \n",
       "Outcome                   0.242702  1.000000  "
      ]
     },
     "execution_count": 192,
     "metadata": {},
     "output_type": "execute_result"
    }
   ],
   "source": [
    "corr=df.corr()\n",
    "corr"
   ]
  },
  {
   "cell_type": "code",
   "execution_count": 193,
   "metadata": {},
   "outputs": [
    {
     "data": {
      "text/plain": [
       "Text(0.5, 1.0, 'Correlation Between Features')"
      ]
     },
     "execution_count": 193,
     "metadata": {},
     "output_type": "execute_result"
    },
    {
     "data": {
      "text/plain": [
       "<Figure size 2000x1000 with 0 Axes>"
      ]
     },
     "metadata": {},
     "output_type": "display_data"
    },
    {
     "data": {
      "image/png": "[encoded data removed]",
      "text/plain": [
       "<Figure size 1000x1000 with 4 Axes>"
      ]
     },
     "metadata": {},
     "output_type": "display_data"
    }
   ],
   "source": [
    "corr=df.corr()\n",
    "plt.figure(figsize=(20,10))\n",
    "sns.clustermap(corr,fmt=\".2f\",cmap=\"Blues\",annot=True,linewidths=1.5,)\n",
    "plt.title(\"Correlation Between Features\")"
   ]
  },
  {
   "cell_type": "markdown",
   "metadata": {},
   "source": [
    "# FEATURE ENGINEERING:\n",
    "\n"
   ]
  },
  {
   "cell_type": "code",
   "execution_count": 194,
   "metadata": {},
   "outputs": [
    {
     "name": "stdout",
     "output_type": "stream",
     "text": [
      "Glucose: 0\n",
      "BloodPressure: 0\n",
      "SkinThickness: 227\n",
      "Insulin: 374\n",
      "BMI: 0\n",
      "DiabetesPedigreeFunction: 0\n",
      "Age: 0\n"
     ]
    }
   ],
   "source": [
    "features=df.drop([\"Outcome\",\"Pregnancies\"],axis=1) \n",
    "\n",
    "# show the features that have 0 values\n",
    "for i in features:\n",
    "    print(i+\":\",df[df[i]==0][i].count())"
   ]
  },
  {
   "cell_type": "code",
   "execution_count": 195,
   "metadata": {},
   "outputs": [
    {
     "name": "stdout",
     "output_type": "stream",
     "text": [
      "Glucose: 0\n",
      "BloodPressure: 0\n",
      "SkinThickness: 0\n",
      "Insulin: 0\n",
      "BMI: 0\n",
      "DiabetesPedigreeFunction: 0\n",
      "Age: 0\n"
     ]
    }
   ],
   "source": [
    "# fill the 0 values with nan values\n",
    "\n",
    "df[\"SkinThickness\"]=df[\"SkinThickness\"].replace(0,np.nan)\n",
    "df[\"Insulin\"]=df[\"Insulin\"].replace(0,np.nan)\n",
    "\n",
    "for i in features:\n",
    "    print(i+\":\",df[df[i]==0][i].count())"
   ]
  },
  {
   "cell_type": "code",
   "execution_count": 196,
   "metadata": {},
   "outputs": [
    {
     "data": {
      "text/plain": [
       "Pregnancies                   0\n",
       "Glucose                       0\n",
       "BloodPressure                 0\n",
       "SkinThickness               227\n",
       "Insulin                     374\n",
       "BMI                           0\n",
       "DiabetesPedigreeFunction      0\n",
       "Age                           0\n",
       "Outcome                       0\n",
       "dtype: int64"
      ]
     },
     "execution_count": 196,
     "metadata": {},
     "output_type": "execute_result"
    }
   ],
   "source": [
    "df.isnull().sum()"
   ]
  },
  {
   "cell_type": "code",
   "execution_count": 197,
   "metadata": {},
   "outputs": [
    {
     "data": {
      "text/html": [
       "<div>\n",
       "<style scoped>\n",
       "    .dataframe tbody tr th:only-of-type {\n",
       "        vertical-align: middle;\n",
       "    }\n",
       "\n",
       "    .dataframe tbody tr th {\n",
       "        vertical-align: top;\n",
       "    }\n",
       "\n",
       "    .dataframe thead th {\n",
       "        text-align: right;\n",
       "    }\n",
       "</style>\n",
       "<table border=\"1\" class=\"dataframe\">\n",
       "  <thead>\n",
       "    <tr style=\"text-align: right;\">\n",
       "      <th></th>\n",
       "      <th>Pregnancies</th>\n",
       "      <th>Glucose</th>\n",
       "      <th>BloodPressure</th>\n",
       "      <th>SkinThickness</th>\n",
       "      <th>Insulin</th>\n",
       "      <th>BMI</th>\n",
       "      <th>DiabetesPedigreeFunction</th>\n",
       "      <th>Age</th>\n",
       "      <th>Outcome</th>\n",
       "    </tr>\n",
       "  </thead>\n",
       "  <tbody>\n",
       "    <tr>\n",
       "      <th>0</th>\n",
       "      <td>6.0</td>\n",
       "      <td>148.0</td>\n",
       "      <td>72</td>\n",
       "      <td>35.000000</td>\n",
       "      <td>189.025000</td>\n",
       "      <td>33.6</td>\n",
       "      <td>0.627</td>\n",
       "      <td>50.0</td>\n",
       "      <td>1</td>\n",
       "    </tr>\n",
       "    <tr>\n",
       "      <th>1</th>\n",
       "      <td>1.0</td>\n",
       "      <td>85.0</td>\n",
       "      <td>66</td>\n",
       "      <td>29.000000</td>\n",
       "      <td>140.600000</td>\n",
       "      <td>26.6</td>\n",
       "      <td>0.351</td>\n",
       "      <td>31.0</td>\n",
       "      <td>0</td>\n",
       "    </tr>\n",
       "    <tr>\n",
       "      <th>2</th>\n",
       "      <td>8.0</td>\n",
       "      <td>183.0</td>\n",
       "      <td>64</td>\n",
       "      <td>29.118299</td>\n",
       "      <td>143.566624</td>\n",
       "      <td>23.3</td>\n",
       "      <td>0.672</td>\n",
       "      <td>32.0</td>\n",
       "      <td>1</td>\n",
       "    </tr>\n",
       "    <tr>\n",
       "      <th>3</th>\n",
       "      <td>1.0</td>\n",
       "      <td>89.0</td>\n",
       "      <td>66</td>\n",
       "      <td>23.000000</td>\n",
       "      <td>94.000000</td>\n",
       "      <td>28.1</td>\n",
       "      <td>0.167</td>\n",
       "      <td>21.0</td>\n",
       "      <td>0</td>\n",
       "    </tr>\n",
       "    <tr>\n",
       "      <th>4</th>\n",
       "      <td>0.0</td>\n",
       "      <td>137.0</td>\n",
       "      <td>40</td>\n",
       "      <td>35.000000</td>\n",
       "      <td>168.000000</td>\n",
       "      <td>43.1</td>\n",
       "      <td>1.200</td>\n",
       "      <td>33.0</td>\n",
       "      <td>1</td>\n",
       "    </tr>\n",
       "  </tbody>\n",
       "</table>\n",
       "</div>"
      ],
      "text/plain": [
       "   Pregnancies  Glucose  BloodPressure  SkinThickness     Insulin   BMI  \\\n",
       "0          6.0    148.0             72      35.000000  189.025000  33.6   \n",
       "1          1.0     85.0             66      29.000000  140.600000  26.6   \n",
       "2          8.0    183.0             64      29.118299  143.566624  23.3   \n",
       "3          1.0     89.0             66      23.000000   94.000000  28.1   \n",
       "4          0.0    137.0             40      35.000000  168.000000  43.1   \n",
       "\n",
       "   DiabetesPedigreeFunction   Age  Outcome  \n",
       "0                     0.627  50.0        1  \n",
       "1                     0.351  31.0        0  \n",
       "2                     0.672  32.0        1  \n",
       "3                     0.167  21.0        0  \n",
       "4                     1.200  33.0        1  "
      ]
     },
     "execution_count": 197,
     "metadata": {},
     "output_type": "execute_result"
    }
   ],
   "source": [
    "var=[\"SkinThickness\",\"Insulin\"]\n",
    "\n",
    "from sklearn.impute import KNNImputer\n",
    "knn=KNNImputer(n_neighbors=5)\n",
    "dff=pd.DataFrame(knn.fit_transform(df[var]),columns=df[var].columns)\n",
    "\n",
    "dff.isnull().sum()\n",
    "\n",
    "df[\"SkinThickness\"]=dff[\"SkinThickness\"]\n",
    "df[\"Insulin\"]=dff[\"Insulin\"]\n",
    "df.head()\n"
   ]
  },
  {
   "cell_type": "code",
   "execution_count": 198,
   "metadata": {},
   "outputs": [],
   "source": [
    "# feature scaling:\n",
    "\n",
    "from sklearn.preprocessing import MinMaxScaler\n",
    "rb=RobustScaler()\n",
    "\n",
    "\n",
    "X=df.drop(\"Outcome\",axis=1).values\n",
    "y=df[\"Outcome\"].values.reshape(-1,1)\n",
    "\n",
    "rb.fit_transform(X)\n",
    "\n",
    "# train test split:\n",
    "from sklearn.model_selection import train_test_split\n",
    "\n",
    "X_train,X_test,y_train,y_test=train_test_split(X,y,test_size=0.20,random_state=42)\n"
   ]
  },
  {
   "cell_type": "code",
   "execution_count": 202,
   "metadata": {},
   "outputs": [
    {
     "data": {
      "text/html": [
       "<style type=\"text/css\">\n",
       "#T_fedc7_row0_col1, #T_fedc7_row0_col4, #T_fedc7_row0_col5, #T_fedc7_row0_col9, #T_fedc7_row1_col1, #T_fedc7_row1_col2, #T_fedc7_row1_col3, #T_fedc7_row1_col4, #T_fedc7_row2_col10, #T_fedc7_row9_col6, #T_fedc7_row9_col7, #T_fedc7_row9_col8 {\n",
       "  background-color: #fde725;\n",
       "  color: #000000;\n",
       "}\n",
       "#T_fedc7_row0_col2 {\n",
       "  background-color: #21908d;\n",
       "  color: #f1f1f1;\n",
       "}\n",
       "#T_fedc7_row0_col3 {\n",
       "  background-color: #2fb47c;\n",
       "  color: #f1f1f1;\n",
       "}\n",
       "#T_fedc7_row0_col6, #T_fedc7_row0_col7, #T_fedc7_row0_col8, #T_fedc7_row0_col10, #T_fedc7_row1_col6, #T_fedc7_row1_col7, #T_fedc7_row1_col8, #T_fedc7_row7_col5, #T_fedc7_row9_col1, #T_fedc7_row9_col2, #T_fedc7_row9_col3, #T_fedc7_row9_col4, #T_fedc7_row9_col9 {\n",
       "  background-color: #440154;\n",
       "  color: #f1f1f1;\n",
       "}\n",
       "#T_fedc7_row1_col5, #T_fedc7_row2_col3 {\n",
       "  background-color: #e2e418;\n",
       "  color: #000000;\n",
       "}\n",
       "#T_fedc7_row1_col9 {\n",
       "  background-color: #54c568;\n",
       "  color: #000000;\n",
       "}\n",
       "#T_fedc7_row1_col10, #T_fedc7_row4_col10, #T_fedc7_row6_col10 {\n",
       "  background-color: #35b779;\n",
       "  color: #f1f1f1;\n",
       "}\n",
       "#T_fedc7_row2_col1, #T_fedc7_row2_col4 {\n",
       "  background-color: #67cc5c;\n",
       "  color: #000000;\n",
       "}\n",
       "#T_fedc7_row2_col2 {\n",
       "  background-color: #f8e621;\n",
       "  color: #000000;\n",
       "}\n",
       "#T_fedc7_row2_col5, #T_fedc7_row8_col5 {\n",
       "  background-color: #4cc26c;\n",
       "  color: #000000;\n",
       "}\n",
       "#T_fedc7_row2_col6 {\n",
       "  background-color: #3c508b;\n",
       "  color: #f1f1f1;\n",
       "}\n",
       "#T_fedc7_row2_col7, #T_fedc7_row2_col8 {\n",
       "  background-color: #3d4d8a;\n",
       "  color: #f1f1f1;\n",
       "}\n",
       "#T_fedc7_row2_col9, #T_fedc7_row5_col3, #T_fedc7_row6_col7, #T_fedc7_row6_col8, #T_fedc7_row7_col1, #T_fedc7_row7_col4, #T_fedc7_row8_col1, #T_fedc7_row8_col4 {\n",
       "  background-color: #24878e;\n",
       "  color: #f1f1f1;\n",
       "}\n",
       "#T_fedc7_row3_col1, #T_fedc7_row3_col4 {\n",
       "  background-color: #40bd72;\n",
       "  color: #f1f1f1;\n",
       "}\n",
       "#T_fedc7_row3_col2, #T_fedc7_row6_col1, #T_fedc7_row6_col4, #T_fedc7_row7_col7, #T_fedc7_row7_col8, #T_fedc7_row8_col7, #T_fedc7_row8_col8 {\n",
       "  background-color: #1f998a;\n",
       "  color: #f1f1f1;\n",
       "}\n",
       "#T_fedc7_row3_col3 {\n",
       "  background-color: #22a785;\n",
       "  color: #f1f1f1;\n",
       "}\n",
       "#T_fedc7_row3_col5 {\n",
       "  background-color: #70cf57;\n",
       "  color: #000000;\n",
       "}\n",
       "#T_fedc7_row3_col6 {\n",
       "  background-color: #31668e;\n",
       "  color: #f1f1f1;\n",
       "}\n",
       "#T_fedc7_row3_col7, #T_fedc7_row3_col8 {\n",
       "  background-color: #34618d;\n",
       "  color: #f1f1f1;\n",
       "}\n",
       "#T_fedc7_row3_col9 {\n",
       "  background-color: #1f968b;\n",
       "  color: #f1f1f1;\n",
       "}\n",
       "#T_fedc7_row3_col10 {\n",
       "  background-color: #26828e;\n",
       "  color: #f1f1f1;\n",
       "}\n",
       "#T_fedc7_row4_col1, #T_fedc7_row4_col4, #T_fedc7_row5_col1, #T_fedc7_row5_col4 {\n",
       "  background-color: #25ac82;\n",
       "  color: #f1f1f1;\n",
       "}\n",
       "#T_fedc7_row4_col2 {\n",
       "  background-color: #27ad81;\n",
       "  color: #f1f1f1;\n",
       "}\n",
       "#T_fedc7_row4_col3 {\n",
       "  background-color: #2cb17e;\n",
       "  color: #f1f1f1;\n",
       "}\n",
       "#T_fedc7_row4_col5, #T_fedc7_row7_col3 {\n",
       "  background-color: #24aa83;\n",
       "  color: #f1f1f1;\n",
       "}\n",
       "#T_fedc7_row4_col6, #T_fedc7_row5_col6 {\n",
       "  background-color: #29798e;\n",
       "  color: #f1f1f1;\n",
       "}\n",
       "#T_fedc7_row4_col7, #T_fedc7_row4_col8, #T_fedc7_row5_col7, #T_fedc7_row5_col8 {\n",
       "  background-color: #2b748e;\n",
       "  color: #f1f1f1;\n",
       "}\n",
       "#T_fedc7_row4_col9 {\n",
       "  background-color: #297b8e;\n",
       "  color: #f1f1f1;\n",
       "}\n",
       "#T_fedc7_row5_col2 {\n",
       "  background-color: #2c728e;\n",
       "  color: #f1f1f1;\n",
       "}\n",
       "#T_fedc7_row5_col5 {\n",
       "  background-color: #21a585;\n",
       "  color: #f1f1f1;\n",
       "}\n",
       "#T_fedc7_row5_col9, #T_fedc7_row6_col6 {\n",
       "  background-color: #228c8d;\n",
       "  color: #f1f1f1;\n",
       "}\n",
       "#T_fedc7_row5_col10 {\n",
       "  background-color: #31688e;\n",
       "  color: #f1f1f1;\n",
       "}\n",
       "#T_fedc7_row6_col2 {\n",
       "  background-color: #1e9d89;\n",
       "  color: #f1f1f1;\n",
       "}\n",
       "#T_fedc7_row6_col3 {\n",
       "  background-color: #1fa088;\n",
       "  color: #f1f1f1;\n",
       "}\n",
       "#T_fedc7_row6_col5 {\n",
       "  background-color: #42be71;\n",
       "  color: #f1f1f1;\n",
       "}\n",
       "#T_fedc7_row6_col9 {\n",
       "  background-color: #2e6d8e;\n",
       "  color: #f1f1f1;\n",
       "}\n",
       "#T_fedc7_row7_col2 {\n",
       "  background-color: #2ab07f;\n",
       "  color: #f1f1f1;\n",
       "}\n",
       "#T_fedc7_row7_col6, #T_fedc7_row8_col6, #T_fedc7_row8_col10, #T_fedc7_row9_col10 {\n",
       "  background-color: #1f9e89;\n",
       "  color: #f1f1f1;\n",
       "}\n",
       "#T_fedc7_row7_col9 {\n",
       "  background-color: #39558c;\n",
       "  color: #f1f1f1;\n",
       "}\n",
       "#T_fedc7_row7_col10 {\n",
       "  background-color: #b5de2b;\n",
       "  color: #000000;\n",
       "}\n",
       "#T_fedc7_row8_col2 {\n",
       "  background-color: #2a788e;\n",
       "  color: #f1f1f1;\n",
       "}\n",
       "#T_fedc7_row8_col3 {\n",
       "  background-color: #26818e;\n",
       "  color: #f1f1f1;\n",
       "}\n",
       "#T_fedc7_row8_col9 {\n",
       "  background-color: #33638d;\n",
       "  color: #f1f1f1;\n",
       "}\n",
       "#T_fedc7_row9_col5 {\n",
       "  background-color: #2d718e;\n",
       "  color: #f1f1f1;\n",
       "}\n",
       "</style>\n",
       "<table id=\"T_fedc7\">\n",
       "  <thead>\n",
       "    <tr>\n",
       "      <th class=\"blank level0\" >&nbsp;</th>\n",
       "      <th id=\"T_fedc7_level0_col0\" class=\"col_heading level0 col0\" >Model</th>\n",
       "      <th id=\"T_fedc7_level0_col1\" class=\"col_heading level0 col1\" >Accuracy Score</th>\n",
       "      <th id=\"T_fedc7_level0_col2\" class=\"col_heading level0 col2\" >F1 Score</th>\n",
       "      <th id=\"T_fedc7_level0_col3\" class=\"col_heading level0 col3\" >ROC AUC Score</th>\n",
       "      <th id=\"T_fedc7_level0_col4\" class=\"col_heading level0 col4\" >R2 Score</th>\n",
       "      <th id=\"T_fedc7_level0_col5\" class=\"col_heading level0 col5\" >Cross Val Score</th>\n",
       "      <th id=\"T_fedc7_level0_col6\" class=\"col_heading level0 col6\" >RMSE</th>\n",
       "      <th id=\"T_fedc7_level0_col7\" class=\"col_heading level0 col7\" >MAE</th>\n",
       "      <th id=\"T_fedc7_level0_col8\" class=\"col_heading level0 col8\" >MSE</th>\n",
       "      <th id=\"T_fedc7_level0_col9\" class=\"col_heading level0 col9\" >precision_score</th>\n",
       "      <th id=\"T_fedc7_level0_col10\" class=\"col_heading level0 col10\" >recall_score</th>\n",
       "    </tr>\n",
       "  </thead>\n",
       "  <tbody>\n",
       "    <tr>\n",
       "      <th id=\"T_fedc7_level0_row0\" class=\"row_heading level0 row0\" >1</th>\n",
       "      <td id=\"T_fedc7_row0_col0\" class=\"data row0 col0\" >SVC</td>\n",
       "      <td id=\"T_fedc7_row0_col1\" class=\"data row0 col1\" >0.766234</td>\n",
       "      <td id=\"T_fedc7_row0_col2\" class=\"data row0 col2\" >0.640000</td>\n",
       "      <td id=\"T_fedc7_row0_col3\" class=\"data row0 col3\" >0.725253</td>\n",
       "      <td id=\"T_fedc7_row0_col4\" class=\"data row0 col4\" >-0.018182</td>\n",
       "      <td id=\"T_fedc7_row0_col5\" class=\"data row0 col5\" >0.765653</td>\n",
       "      <td id=\"T_fedc7_row0_col6\" class=\"data row0 col6\" >0.483494</td>\n",
       "      <td id=\"T_fedc7_row0_col7\" class=\"data row0 col7\" >0.233766</td>\n",
       "      <td id=\"T_fedc7_row0_col8\" class=\"data row0 col8\" >0.233766</td>\n",
       "      <td id=\"T_fedc7_row0_col9\" class=\"data row0 col9\" >0.711111</td>\n",
       "      <td id=\"T_fedc7_row0_col10\" class=\"data row0 col10\" >0.581818</td>\n",
       "    </tr>\n",
       "    <tr>\n",
       "      <th id=\"T_fedc7_level0_row1\" class=\"row_heading level0 row1\" >9</th>\n",
       "      <td id=\"T_fedc7_row1_col0\" class=\"data row1 col0\" >LogisticRegression</td>\n",
       "      <td id=\"T_fedc7_row1_col1\" class=\"data row1 col1\" >0.766234</td>\n",
       "      <td id=\"T_fedc7_row1_col2\" class=\"data row1 col2\" >0.678571</td>\n",
       "      <td id=\"T_fedc7_row1_col3\" class=\"data row1 col3\" >0.749495</td>\n",
       "      <td id=\"T_fedc7_row1_col4\" class=\"data row1 col4\" >-0.018182</td>\n",
       "      <td id=\"T_fedc7_row1_col5\" class=\"data row1 col5\" >0.763038</td>\n",
       "      <td id=\"T_fedc7_row1_col6\" class=\"data row1 col6\" >0.483494</td>\n",
       "      <td id=\"T_fedc7_row1_col7\" class=\"data row1 col7\" >0.233766</td>\n",
       "      <td id=\"T_fedc7_row1_col8\" class=\"data row1 col8\" >0.233766</td>\n",
       "      <td id=\"T_fedc7_row1_col9\" class=\"data row1 col9\" >0.666667</td>\n",
       "      <td id=\"T_fedc7_row1_col10\" class=\"data row1 col10\" >0.690909</td>\n",
       "    </tr>\n",
       "    <tr>\n",
       "      <th id=\"T_fedc7_level0_row2\" class=\"row_heading level0 row2\" >7</th>\n",
       "      <td id=\"T_fedc7_row2_col0\" class=\"data row2 col0\" >GradientBoostingClassifier</td>\n",
       "      <td id=\"T_fedc7_row2_col1\" class=\"data row2 col1\" >0.746753</td>\n",
       "      <td id=\"T_fedc7_row2_col2\" class=\"data row2 col2\" >0.677686</td>\n",
       "      <td id=\"T_fedc7_row2_col3\" class=\"data row2 col3\" >0.746465</td>\n",
       "      <td id=\"T_fedc7_row2_col4\" class=\"data row2 col4\" >-0.103030</td>\n",
       "      <td id=\"T_fedc7_row2_col5\" class=\"data row2 col5\" >0.748735</td>\n",
       "      <td id=\"T_fedc7_row2_col6\" class=\"data row2 col6\" >0.503236</td>\n",
       "      <td id=\"T_fedc7_row2_col7\" class=\"data row2 col7\" >0.253247</td>\n",
       "      <td id=\"T_fedc7_row2_col8\" class=\"data row2 col8\" >0.253247</td>\n",
       "      <td id=\"T_fedc7_row2_col9\" class=\"data row2 col9\" >0.621212</td>\n",
       "      <td id=\"T_fedc7_row2_col10\" class=\"data row2 col10\" >0.745455</td>\n",
       "    </tr>\n",
       "    <tr>\n",
       "      <th id=\"T_fedc7_level0_row3\" class=\"row_heading level0 row3\" >4</th>\n",
       "      <td id=\"T_fedc7_row3_col0\" class=\"data row3 col0\" >RandomForestClassifier</td>\n",
       "      <td id=\"T_fedc7_row3_col1\" class=\"data row3 col1\" >0.740260</td>\n",
       "      <td id=\"T_fedc7_row3_col2\" class=\"data row3 col2\" >0.642857</td>\n",
       "      <td id=\"T_fedc7_row3_col3\" class=\"data row3 col3\" >0.721212</td>\n",
       "      <td id=\"T_fedc7_row3_col4\" class=\"data row3 col4\" >-0.131313</td>\n",
       "      <td id=\"T_fedc7_row3_col5\" class=\"data row3 col5\" >0.752614</td>\n",
       "      <td id=\"T_fedc7_row3_col6\" class=\"data row3 col6\" >0.509647</td>\n",
       "      <td id=\"T_fedc7_row3_col7\" class=\"data row3 col7\" >0.259740</td>\n",
       "      <td id=\"T_fedc7_row3_col8\" class=\"data row3 col8\" >0.259740</td>\n",
       "      <td id=\"T_fedc7_row3_col9\" class=\"data row3 col9\" >0.631579</td>\n",
       "      <td id=\"T_fedc7_row3_col10\" class=\"data row3 col10\" >0.654545</td>\n",
       "    </tr>\n",
       "    <tr>\n",
       "      <th id=\"T_fedc7_level0_row4\" class=\"row_heading level0 row4\" >6</th>\n",
       "      <td id=\"T_fedc7_row4_col0\" class=\"data row4 col0\" >LGBMClassifier</td>\n",
       "      <td id=\"T_fedc7_row4_col1\" class=\"data row4 col1\" >0.733766</td>\n",
       "      <td id=\"T_fedc7_row4_col2\" class=\"data row4 col2\" >0.649573</td>\n",
       "      <td id=\"T_fedc7_row4_col3\" class=\"data row4 col3\" >0.724242</td>\n",
       "      <td id=\"T_fedc7_row4_col4\" class=\"data row4 col4\" >-0.159596</td>\n",
       "      <td id=\"T_fedc7_row4_col5\" class=\"data row4 col5\" >0.742242</td>\n",
       "      <td id=\"T_fedc7_row4_col6\" class=\"data row4 col6\" >0.515978</td>\n",
       "      <td id=\"T_fedc7_row4_col7\" class=\"data row4 col7\" >0.266234</td>\n",
       "      <td id=\"T_fedc7_row4_col8\" class=\"data row4 col8\" >0.266234</td>\n",
       "      <td id=\"T_fedc7_row4_col9\" class=\"data row4 col9\" >0.612903</td>\n",
       "      <td id=\"T_fedc7_row4_col10\" class=\"data row4 col10\" >0.690909</td>\n",
       "    </tr>\n",
       "    <tr>\n",
       "      <th id=\"T_fedc7_level0_row5\" class=\"row_heading level0 row5\" >8</th>\n",
       "      <td id=\"T_fedc7_row5_col0\" class=\"data row5 col0\" >AdaBoostClassifier</td>\n",
       "      <td id=\"T_fedc7_row5_col1\" class=\"data row5 col1\" >0.733766</td>\n",
       "      <td id=\"T_fedc7_row5_col2\" class=\"data row5 col2\" >0.630631</td>\n",
       "      <td id=\"T_fedc7_row5_col3\" class=\"data row5 col3\" >0.712121</td>\n",
       "      <td id=\"T_fedc7_row5_col4\" class=\"data row5 col4\" >-0.159596</td>\n",
       "      <td id=\"T_fedc7_row5_col5\" class=\"data row5 col5\" >0.740960</td>\n",
       "      <td id=\"T_fedc7_row5_col6\" class=\"data row5 col6\" >0.515978</td>\n",
       "      <td id=\"T_fedc7_row5_col7\" class=\"data row5 col7\" >0.266234</td>\n",
       "      <td id=\"T_fedc7_row5_col8\" class=\"data row5 col8\" >0.266234</td>\n",
       "      <td id=\"T_fedc7_row5_col9\" class=\"data row5 col9\" >0.625000</td>\n",
       "      <td id=\"T_fedc7_row5_col10\" class=\"data row5 col10\" >0.636364</td>\n",
       "    </tr>\n",
       "    <tr>\n",
       "      <th id=\"T_fedc7_level0_row6\" class=\"row_heading level0 row6\" >2</th>\n",
       "      <td id=\"T_fedc7_row6_col0\" class=\"data row6 col0\" >GaussianNB</td>\n",
       "      <td id=\"T_fedc7_row6_col1\" class=\"data row6 col1\" >0.727273</td>\n",
       "      <td id=\"T_fedc7_row6_col2\" class=\"data row6 col2\" >0.644068</td>\n",
       "      <td id=\"T_fedc7_row6_col3\" class=\"data row6 col3\" >0.719192</td>\n",
       "      <td id=\"T_fedc7_row6_col4\" class=\"data row6 col4\" >-0.187879</td>\n",
       "      <td id=\"T_fedc7_row6_col5\" class=\"data row6 col5\" >0.747454</td>\n",
       "      <td id=\"T_fedc7_row6_col6\" class=\"data row6 col6\" >0.522233</td>\n",
       "      <td id=\"T_fedc7_row6_col7\" class=\"data row6 col7\" >0.272727</td>\n",
       "      <td id=\"T_fedc7_row6_col8\" class=\"data row6 col8\" >0.272727</td>\n",
       "      <td id=\"T_fedc7_row6_col9\" class=\"data row6 col9\" >0.603175</td>\n",
       "      <td id=\"T_fedc7_row6_col10\" class=\"data row6 col10\" >0.690909</td>\n",
       "    </tr>\n",
       "    <tr>\n",
       "      <th id=\"T_fedc7_level0_row7\" class=\"row_heading level0 row7\" >3</th>\n",
       "      <td id=\"T_fedc7_row7_col0\" class=\"data row7 col0\" >DecisionTreeClassifier</td>\n",
       "      <td id=\"T_fedc7_row7_col1\" class=\"data row7 col1\" >0.720779</td>\n",
       "      <td id=\"T_fedc7_row7_col2\" class=\"data row7 col2\" >0.650407</td>\n",
       "      <td id=\"T_fedc7_row7_col3\" class=\"data row7 col3\" >0.722222</td>\n",
       "      <td id=\"T_fedc7_row7_col4\" class=\"data row7 col4\" >-0.216162</td>\n",
       "      <td id=\"T_fedc7_row7_col5\" class=\"data row7 col5\" >0.705742</td>\n",
       "      <td id=\"T_fedc7_row7_col6\" class=\"data row7 col6\" >0.528413</td>\n",
       "      <td id=\"T_fedc7_row7_col7\" class=\"data row7 col7\" >0.279221</td>\n",
       "      <td id=\"T_fedc7_row7_col8\" class=\"data row7 col8\" >0.279221</td>\n",
       "      <td id=\"T_fedc7_row7_col9\" class=\"data row7 col9\" >0.588235</td>\n",
       "      <td id=\"T_fedc7_row7_col10\" class=\"data row7 col10\" >0.727273</td>\n",
       "    </tr>\n",
       "    <tr>\n",
       "      <th id=\"T_fedc7_level0_row8\" class=\"row_heading level0 row8\" >5</th>\n",
       "      <td id=\"T_fedc7_row8_col0\" class=\"data row8 col0\" >XGBClassifier</td>\n",
       "      <td id=\"T_fedc7_row8_col1\" class=\"data row8 col1\" >0.720779</td>\n",
       "      <td id=\"T_fedc7_row8_col2\" class=\"data row8 col2\" >0.632479</td>\n",
       "      <td id=\"T_fedc7_row8_col3\" class=\"data row8 col3\" >0.710101</td>\n",
       "      <td id=\"T_fedc7_row8_col4\" class=\"data row8 col4\" >-0.216162</td>\n",
       "      <td id=\"T_fedc7_row8_col5\" class=\"data row8 col5\" >0.748650</td>\n",
       "      <td id=\"T_fedc7_row8_col6\" class=\"data row8 col6\" >0.528413</td>\n",
       "      <td id=\"T_fedc7_row8_col7\" class=\"data row8 col7\" >0.279221</td>\n",
       "      <td id=\"T_fedc7_row8_col8\" class=\"data row8 col8\" >0.279221</td>\n",
       "      <td id=\"T_fedc7_row8_col9\" class=\"data row8 col9\" >0.596774</td>\n",
       "      <td id=\"T_fedc7_row8_col10\" class=\"data row8 col10\" >0.672727</td>\n",
       "    </tr>\n",
       "    <tr>\n",
       "      <th id=\"T_fedc7_level0_row9\" class=\"row_heading level0 row9\" >0</th>\n",
       "      <td id=\"T_fedc7_row9_col0\" class=\"data row9 col0\" >KNeighborsClassifier</td>\n",
       "      <td id=\"T_fedc7_row9_col1\" class=\"data row9 col1\" >0.681818</td>\n",
       "      <td id=\"T_fedc7_row9_col2\" class=\"data row9 col2\" >0.601626</td>\n",
       "      <td id=\"T_fedc7_row9_col3\" class=\"data row9 col3\" >0.679798</td>\n",
       "      <td id=\"T_fedc7_row9_col4\" class=\"data row9 col4\" >-0.385859</td>\n",
       "      <td id=\"T_fedc7_row9_col5\" class=\"data row9 col5\" >0.727888</td>\n",
       "      <td id=\"T_fedc7_row9_col6\" class=\"data row9 col6\" >0.564076</td>\n",
       "      <td id=\"T_fedc7_row9_col7\" class=\"data row9 col7\" >0.318182</td>\n",
       "      <td id=\"T_fedc7_row9_col8\" class=\"data row9 col8\" >0.318182</td>\n",
       "      <td id=\"T_fedc7_row9_col9\" class=\"data row9 col9\" >0.544118</td>\n",
       "      <td id=\"T_fedc7_row9_col10\" class=\"data row9 col10\" >0.672727</td>\n",
       "    </tr>\n",
       "  </tbody>\n",
       "</table>\n"
      ],
      "text/plain": [
       "<pandas.io.formats.style.Styler at 0x251898fcee0>"
      ]
     },
     "execution_count": 202,
     "metadata": {},
     "output_type": "execute_result"
    }
   ],
   "source": [
    "# Model building:\n",
    "\n",
    "from sklearn.metrics import accuracy_score,confusion_matrix,classification_report,roc_auc_score,roc_curve,f1_score,precision_score,recall_score\n",
    "from sklearn.model_selection import cross_val_score\n",
    "from sklearn.metrics import mean_squared_error,mean_absolute_error,r2_score\n",
    "from sklearn.neighbors import KNeighborsClassifier\n",
    "from sklearn.svm import SVC\n",
    "from sklearn.naive_bayes import GaussianNB\n",
    "from sklearn.tree import DecisionTreeClassifier\n",
    "from sklearn.ensemble import RandomForestClassifier,GradientBoostingClassifier,AdaBoostClassifier\n",
    "from xgboost import XGBClassifier\n",
    "from lightgbm import LGBMClassifier\n",
    "from sklearn.linear_model import LogisticRegression\n",
    "from sklearn.model_selection import GridSearchCV,RandomizedSearchCV\n",
    "import warnings\n",
    "warnings.filterwarnings(\"ignore\")\n",
    "warnings.simplefilter(action='ignore', category=FutureWarning)\n",
    "\n",
    "\n",
    "# MODELING:\n",
    "\n",
    "knn=KNeighborsClassifier()\n",
    "svc=SVC()\n",
    "nb=GaussianNB()\n",
    "dtc=DecisionTreeClassifier()\n",
    "rfc=RandomForestClassifier()\n",
    "xgb=XGBClassifier()\n",
    "lgb=LGBMClassifier()\n",
    "gbc=GradientBoostingClassifier()\n",
    "abc=AdaBoostClassifier()\n",
    "lr=LogisticRegression()\n",
    "\n",
    "models = [knn, svc, nb, dtc, rfc, xgb, lgb, gbc, abc, lr]\n",
    "overral=pd.DataFrame(columns=[\"Model\",\"Accuracy Score\",\"F1 Score\",\"ROC AUC Score\",\"R2 Score\",\n",
    "                              \"Cross Val Score\",\"RMSE\",\"MAE\",\"MSE\",\"precision_score\",\"recall_score\"])\n",
    "for model in models:\n",
    "    \n",
    "    model.fit(X_train,y_train)\n",
    "    y_pred=model.predict(X_test)\n",
    "    acc=accuracy_score(y_test,y_pred)\n",
    "    f1=f1_score(y_test,y_pred)\n",
    "    roc=roc_auc_score(y_test,y_pred)\n",
    "    r2=r2_score(y_test,y_pred)\n",
    "    cv=cross_val_score(model,X,y,cv=10).mean()\n",
    "    rmse=np.sqrt(mean_squared_error(y_test,y_pred))\n",
    "    mae=mean_absolute_error(y_test,y_pred)\n",
    "    mse=mean_squared_error(y_test,y_pred)\n",
    "    pr=precision_score(y_test,y_pred)\n",
    "    rc=recall_score(y_test,y_pred)\n",
    "    \n",
    "    overral=overral.append({\"Model\":model.__class__.__name__,\n",
    "                            \"Accuracy Score\":acc,\n",
    "                            \"F1 Score\":f1,\n",
    "                            \"ROC AUC Score\":roc,\n",
    "                            \"R2 Score\":r2,\n",
    "                            \"Cross Val Score\":cv,\n",
    "                            \"RMSE\":rmse,\n",
    "                            \"MAE\":mae,\n",
    "                            \"MSE\":mse,\n",
    "                            \"precision_score\":pr,\n",
    "                            \"recall_score\":rc},ignore_index=True)\n",
    "    \n",
    "\n",
    "overral=overral.sort_values(by=\"Accuracy Score\",ascending=False)\n",
    "overral=overral.style.background_gradient(cmap=\"viridis\")\n",
    "overral"
   ]
  },
  {
   "cell_type": "code",
   "execution_count": null,
   "metadata": {},
   "outputs": [],
   "source": []
  }
 ],
 "metadata": {
  "kernelspec": {
   "display_name": "base",
   "language": "python",
   "name": "python3"
  },
  "language_info": {
   "codemirror_mode": {
    "name": "ipython",
    "version": 3
   },
   "file_extension": ".py",
   "mimetype": "text/x-python",
   "name": "python",
   "nbconvert_exporter": "python",
   "pygments_lexer": "ipython3",
   "version": "3.10.9"
  },
  "orig_nbformat": 4
 },
 "nbformat": 4,
 "nbformat_minor": 2
}
